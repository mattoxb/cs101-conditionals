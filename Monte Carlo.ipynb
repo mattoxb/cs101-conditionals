{
 "cells": [
  {
   "cell_type": "markdown",
   "id": "c04010cc",
   "metadata": {},
   "source": [
    "# Monte Carlo Methods\n",
    "\n"
   ]
  },
  {
   "cell_type": "code",
   "execution_count": 7,
   "id": "7c0fc130",
   "metadata": {},
   "outputs": [],
   "source": [
    "import numpy as np\n",
    "from math import pi,isclose\n",
    "\n",
    "def mc_pi( n ):\n",
    "    atol = 10 ** -n\n",
    "\n",
    "    # Initialize values\n",
    "    pi_guess = 0\n",
    "    n_circle = 0\n",
    "    n_total  = 0\n",
    "\n",
    "    # Loop until desired number of significant figures after the\n",
    "    # decimal place have been calculated.\n",
    "    while not isclose( pi_guess,pi,abs_tol=atol ):\n",
    "        x,y = np.random.uniform( size=(2,) ) * 2 - 1\n",
    "        if ( x**2 + y**2 ) ** 0.5 < 1.0:\n",
    "            n_circle += 1\n",
    "        n_total += 1\n",
    "        pi_guess = n_circle / n_total * 4.0\n",
    "    return pi_guess\n"
   ]
  },
  {
   "cell_type": "code",
   "execution_count": 8,
   "id": "225e02d1",
   "metadata": {},
   "outputs": [],
   "source": [
    "def r_pi(n):\n",
    "    atol = 10 ** -n\n",
    "    pi_guess = 0\n",
    "    while not isclose(pi_guess,pi,abs_tol = atol):\n",
    "        pi_guess = np.random.uniform() * 6\n",
    "    return pi_guess"
   ]
  },
  {
   "cell_type": "markdown",
   "id": "e00f96ae",
   "metadata": {},
   "source": [
    "## Finding the area under the curve without integration!"
   ]
  },
  {
   "cell_type": "code",
   "execution_count": 15,
   "id": "081d1b93",
   "metadata": {},
   "outputs": [
    {
     "data": {
      "text/plain": [
       "3.141593565028728"
      ]
     },
     "execution_count": 15,
     "metadata": {},
     "output_type": "execute_result"
    }
   ],
   "source": [
    "r_pi(6)"
   ]
  },
  {
   "cell_type": "code",
   "execution_count": 12,
   "id": "c80dd92b",
   "metadata": {},
   "outputs": [
    {
     "name": "stdout",
     "output_type": "stream",
     "text": [
      "      fun: 1.3344880755994382e-13\n",
      " hess_inv: array([[0.9995569]])\n",
      "      jac: array([5.06639481e-07])\n",
      "  message: 'Optimization terminated successfully.'\n",
      "     nfev: 14\n",
      "      nit: 6\n",
      "     njev: 7\n",
      "   status: 0\n",
      "  success: True\n",
      "        x: array([5.16549721e-07])\n"
     ]
    },
    {
     "data": {
      "image/png": "[encoded data removed]",
      "text/plain": [
       "<Figure size 640x480 with 1 Axes>"
      ]
     },
     "metadata": {},
     "output_type": "display_data"
    }
   ],
   "source": [
    "import matplotlib.pyplot as plt\n",
    "import numpy as np\n",
    "import scipy.optimize\n",
    "\n",
    "def f( x ):\n",
    "    return x**2 + np.cos(x) - 1\n",
    "\n",
    "x = np.linspace( -10,10,1000 )\n",
    "xstar = scipy.optimize.minimize( f,x0=3 )\n",
    "print(xstar)\n",
    "plt.plot( x,f( x ),'r--', xstar[ 'x' ],f( xstar[ 'x' ] ),'ro' )\n",
    "plt.show()"
   ]
  },
  {
   "cell_type": "code",
   "execution_count": 13,
   "id": "59a6da0e",
   "metadata": {},
   "outputs": [],
   "source": [
    "def dfdx( f,x,h=1e-3 ):\n",
    "    return ( f( x+h ) - f( x ) ) / h\n",
    "\n",
    "def newton( f,x0,tol=1e-3 ):\n",
    "    d = abs( 0 - f( x0 ) )\n",
    "    while d > tol:\n",
    "        x0 = x0 - f( x0 ) / dfdx( f,x0 )\n",
    "        d = abs( 0 - f( x0 ) )\n",
    "    return ( x0,f( x0 ) )\n"
   ]
  },
  {
   "cell_type": "markdown",
   "id": "fda044dd",
   "metadata": {},
   "source": [
    "## Fun fact!\n",
    "\n",
    "$e^{i \\pi} + 1 = 0$ because $e^{x \\pi} = cos(x) + i sin(x)$"
   ]
  },
  {
   "cell_type": "code",
   "execution_count": 21,
   "id": "c16b2717",
   "metadata": {},
   "outputs": [
    {
     "data": {
      "text/plain": [
       "(3+2j)"
      ]
     },
     "execution_count": 21,
     "metadata": {},
     "output_type": "execute_result"
    }
   ],
   "source": [
    "import numpy\n",
    "3+2j"
   ]
  },
  {
   "cell_type": "code",
   "execution_count": 25,
   "id": "237fc970",
   "metadata": {},
   "outputs": [
    {
     "data": {
      "text/plain": [
       "1.2246467991473532e-16j"
      ]
     },
     "execution_count": 25,
     "metadata": {},
     "output_type": "execute_result"
    }
   ],
   "source": [
    "numpy.e ** (numpy.pi * 1j) + 1"
   ]
  }
 ],
 "metadata": {
  "kernelspec": {
   "display_name": "Python 3",
   "language": "python",
   "name": "python3"
  },
  "language_info": {
   "codemirror_mode": {
    "name": "ipython",
    "version": 3
   },
   "file_extension": ".py",
   "mimetype": "text/x-python",
   "name": "python",
   "nbconvert_exporter": "python",
   "pygments_lexer": "ipython3",
   "version": "3.10.7"
  }
 },
 "nbformat": 4,
 "nbformat_minor": 5
}
