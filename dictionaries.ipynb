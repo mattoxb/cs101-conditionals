{
 "cells": [
  {
   "cell_type": "markdown",
   "id": "37106253",
   "metadata": {},
   "source": [
    "# Dictionaries"
   ]
  },
  {
   "cell_type": "code",
   "execution_count": 1,
   "id": "5ef2fa1c",
   "metadata": {},
   "outputs": [],
   "source": [
    "pb = {}\n",
    "pb['Empire'] = '588-2300'\n",
    "pb['Emergency'] = '911'\n",
    "pb['Jenny'] = '867-5309'\n",
    "\n",
    "def rickRoll(pb):\n",
    "  pb['Rick Astley'] = \"248-434-5508\"\n",
    "  return pb\n",
    "\n",
    "pb = rickRoll(pb)\n"
   ]
  },
  {
   "cell_type": "code",
   "execution_count": 2,
   "id": "f053c449",
   "metadata": {},
   "outputs": [
    {
     "data": {
      "text/plain": [
       "{'Empire': '588-2300',\n",
       " 'Emergency': '911',\n",
       " 'Jenny': '867-5309',\n",
       " 'Rick Astley': '248-434-5508'}"
      ]
     },
     "execution_count": 2,
     "metadata": {},
     "output_type": "execute_result"
    }
   ],
   "source": [
    "pb"
   ]
  },
  {
   "cell_type": "code",
   "execution_count": 3,
   "id": "6aa24754",
   "metadata": {},
   "outputs": [
    {
     "ename": "KeyError",
     "evalue": "'Mattox'",
     "output_type": "error",
     "traceback": [
      "\u001b[0;31m---------------------------------------------------------------------------\u001b[0m",
      "\u001b[0;31mKeyError\u001b[0m                                  Traceback (most recent call last)",
      "Input \u001b[0;32mIn [3]\u001b[0m, in \u001b[0;36m<cell line: 1>\u001b[0;34m()\u001b[0m\n\u001b[0;32m----> 1\u001b[0m pb[\u001b[38;5;124m'\u001b[39m\u001b[38;5;124mMattox\u001b[39m\u001b[38;5;124m'\u001b[39m]\n",
      "\u001b[0;31mKeyError\u001b[0m: 'Mattox'"
     ]
    }
   ],
   "source": [
    "pb['Mattox']"
   ]
  },
  {
   "cell_type": "code",
   "execution_count": 4,
   "id": "f87f0e9c",
   "metadata": {},
   "outputs": [
    {
     "data": {
      "text/plain": [
       "True"
      ]
     },
     "execution_count": 4,
     "metadata": {},
     "output_type": "execute_result"
    }
   ],
   "source": [
    "'Empire' in pb"
   ]
  },
  {
   "cell_type": "code",
   "execution_count": 5,
   "id": "c4afcab4",
   "metadata": {},
   "outputs": [
    {
     "data": {
      "text/plain": [
       "False"
      ]
     },
     "execution_count": 5,
     "metadata": {},
     "output_type": "execute_result"
    }
   ],
   "source": [
    "'Mattox' in pb"
   ]
  },
  {
   "cell_type": "code",
   "execution_count": 6,
   "id": "1ecd106e",
   "metadata": {},
   "outputs": [
    {
     "ename": "SyntaxError",
     "evalue": "incomplete input (3093358538.py, line 1)",
     "output_type": "error",
     "traceback": [
      "\u001b[0;36m  Input \u001b[0;32mIn [6]\u001b[0;36m\u001b[0m\n\u001b[0;31m    def pbLookup(pb,name):\u001b[0m\n\u001b[0m                          ^\u001b[0m\n\u001b[0;31mSyntaxError\u001b[0m\u001b[0;31m:\u001b[0m incomplete input\n"
     ]
    }
   ],
   "source": [
    "def pbLookup(pb,name):\n",
    "    "
   ]
  },
  {
   "cell_type": "code",
   "execution_count": null,
   "id": "a8d544fb",
   "metadata": {},
   "outputs": [],
   "source": []
  }
 ],
 "metadata": {
  "kernelspec": {
   "display_name": "Python 3",
   "language": "python",
   "name": "python3"
  },
  "language_info": {
   "codemirror_mode": {
    "name": "ipython",
    "version": 3
   },
   "file_extension": ".py",
   "mimetype": "text/x-python",
   "name": "python",
   "nbconvert_exporter": "python",
   "pygments_lexer": "ipython3",
   "version": "3.10.6"
  }
 },
 "nbformat": 4,
 "nbformat_minor": 5
}
