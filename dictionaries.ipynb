{
 "cells": [
  {
   "cell_type": "markdown",
   "id": "ccd51ffe",
   "metadata": {},
   "source": [
    "# Dictionaries\n",
    "## https://github.com/mattoxb/cs101-jupyter/dictionaries.ipynb"
   ]
  },
  {
   "cell_type": "code",
   "execution_count": 1,
   "id": "0052817e",
   "metadata": {},
   "outputs": [],
   "source": [
    "pb = {}\n",
    "pb['Empire'] = '588-2300'\n",
    "pb['Emergency'] = '911'\n",
    "pb['Jenny'] = '867-5309'\n",
    "\n",
    "def rickRoll(pb):\n",
    "  pb['Rick Astley'] = \"248-434-5508\"\n",
    "  return pb\n",
    "\n",
    "pb = rickRoll(pb)\n"
   ]
  },
  {
   "cell_type": "code",
   "execution_count": 2,
   "id": "fc599c85",
   "metadata": {},
   "outputs": [
    {
     "data": {
      "text/plain": [
       "{'Empire': '588-2300',\n",
       " 'Emergency': '911',\n",
       " 'Jenny': '867-5309',\n",
       " 'Rick Astley': '248-434-5508'}"
      ]
     },
     "execution_count": 2,
     "metadata": {},
     "output_type": "execute_result"
    }
   ],
   "source": [
    "pb"
   ]
  },
  {
   "cell_type": "code",
   "execution_count": 3,
   "id": "e088955a",
   "metadata": {},
   "outputs": [
    {
     "ename": "KeyError",
     "evalue": "'Mattox'",
     "output_type": "error",
     "traceback": [
      "\u001b[0;31m---------------------------------------------------------------------------\u001b[0m",
      "\u001b[0;31mKeyError\u001b[0m                                  Traceback (most recent call last)",
      "Input \u001b[0;32mIn [3]\u001b[0m, in \u001b[0;36m<cell line: 1>\u001b[0;34m()\u001b[0m\n\u001b[0;32m----> 1\u001b[0m pb[\u001b[38;5;124m'\u001b[39m\u001b[38;5;124mMattox\u001b[39m\u001b[38;5;124m'\u001b[39m]\n",
      "\u001b[0;31mKeyError\u001b[0m: 'Mattox'"
     ]
    }
   ],
   "source": [
    "pb['Mattox']"
   ]
  },
  {
   "cell_type": "code",
   "execution_count": 4,
   "id": "43907ad1",
   "metadata": {},
   "outputs": [
    {
     "data": {
      "text/plain": [
       "True"
      ]
     },
     "execution_count": 4,
     "metadata": {},
     "output_type": "execute_result"
    }
   ],
   "source": [
    "'Empire' in pb"
   ]
  },
  {
   "cell_type": "code",
   "execution_count": 5,
   "id": "64ce6c2a",
   "metadata": {},
   "outputs": [
    {
     "data": {
      "text/plain": [
       "False"
      ]
     },
     "execution_count": 5,
     "metadata": {},
     "output_type": "execute_result"
    }
   ],
   "source": [
    "'Mattox' in pb"
   ]
  },
  {
   "cell_type": "code",
   "execution_count": 7,
   "id": "caaee470",
   "metadata": {},
   "outputs": [],
   "source": [
    "def pbLookup(pb,name):\n",
    "    if name in pb:\n",
    "        return pb[name]\n",
    "    else:\n",
    "        return pb['Rick Astley']\n",
    "    "
   ]
  },
  {
   "cell_type": "code",
   "execution_count": 8,
   "id": "62c19e02",
   "metadata": {},
   "outputs": [
    {
     "data": {
      "text/plain": [
       "'248-434-5508'"
      ]
     },
     "execution_count": 8,
     "metadata": {},
     "output_type": "execute_result"
    }
   ],
   "source": [
    "pbLookup(pb,'Mattox')"
   ]
  },
  {
   "cell_type": "code",
   "execution_count": 9,
   "id": "e86250ea",
   "metadata": {},
   "outputs": [],
   "source": [
    "names = pb.keys()\n"
   ]
  },
  {
   "cell_type": "code",
   "execution_count": 10,
   "id": "da94a36a",
   "metadata": {},
   "outputs": [
    {
     "ename": "TypeError",
     "evalue": "'dict_keys' object is not subscriptable",
     "output_type": "error",
     "traceback": [
      "\u001b[0;31m---------------------------------------------------------------------------\u001b[0m",
      "\u001b[0;31mTypeError\u001b[0m                                 Traceback (most recent call last)",
      "Input \u001b[0;32mIn [10]\u001b[0m, in \u001b[0;36m<cell line: 1>\u001b[0;34m()\u001b[0m\n\u001b[0;32m----> 1\u001b[0m names[\u001b[38;5;241m0\u001b[39m]\n",
      "\u001b[0;31mTypeError\u001b[0m: 'dict_keys' object is not subscriptable"
     ]
    }
   ],
   "source": [
    "names[0]"
   ]
  },
  {
   "cell_type": "code",
   "execution_count": 11,
   "id": "8841929b",
   "metadata": {},
   "outputs": [],
   "source": [
    "names = list(pb.keys())"
   ]
  },
  {
   "cell_type": "code",
   "execution_count": 12,
   "id": "90c26671",
   "metadata": {},
   "outputs": [
    {
     "data": {
      "text/plain": [
       "'Empire'"
      ]
     },
     "execution_count": 12,
     "metadata": {},
     "output_type": "execute_result"
    }
   ],
   "source": [
    "names[0]"
   ]
  },
  {
   "cell_type": "code",
   "execution_count": 13,
   "id": "d022915a",
   "metadata": {},
   "outputs": [],
   "source": [
    "org = { 'Frodo': {'job':'Hold Ring', 'salary': 15000}\n",
    "      , 'Sam': {'job':'Gardener', 'salary': 200000}\n",
    "      , 'Gollum': {'job':'Pest', 'salary': 0}\n",
    "      , 'Pi': 3.14159}\n"
   ]
  },
  {
   "cell_type": "code",
   "execution_count": 14,
   "id": "e6680fda",
   "metadata": {},
   "outputs": [
    {
     "data": {
      "text/plain": [
       "{'job': 'Gardener', 'salary': 200000}"
      ]
     },
     "execution_count": 14,
     "metadata": {},
     "output_type": "execute_result"
    }
   ],
   "source": [
    "org['Sam']"
   ]
  },
  {
   "cell_type": "code",
   "execution_count": 15,
   "id": "4a66cb5c",
   "metadata": {},
   "outputs": [
    {
     "data": {
      "text/plain": [
       "200000"
      ]
     },
     "execution_count": 15,
     "metadata": {},
     "output_type": "execute_result"
    }
   ],
   "source": [
    "org['Sam']['salary']"
   ]
  },
  {
   "cell_type": "code",
   "execution_count": 16,
   "id": "be235985",
   "metadata": {},
   "outputs": [],
   "source": [
    "inPi = 3.14"
   ]
  },
  {
   "cell_type": "code",
   "execution_count": 17,
   "id": "3a363c9d",
   "metadata": {},
   "outputs": [],
   "source": [
    "def invert(pb):\n",
    "    new = {}\n",
    "    for n in pb:\n",
    "        new[pb[n]] = n\n",
    "    return new"
   ]
  },
  {
   "cell_type": "code",
   "execution_count": 18,
   "id": "443ab057",
   "metadata": {},
   "outputs": [
    {
     "data": {
      "text/plain": [
       "{'588-2300': 'Empire',\n",
       " '911': 'Emergency',\n",
       " '867-5309': 'Jenny',\n",
       " '248-434-5508': 'Rick Astley'}"
      ]
     },
     "execution_count": 18,
     "metadata": {},
     "output_type": "execute_result"
    }
   ],
   "source": [
    "invert(pb)"
   ]
  },
  {
   "cell_type": "code",
   "execution_count": 19,
   "id": "3bb7f803",
   "metadata": {},
   "outputs": [],
   "source": [
    "def rlookup(pb,number):\n",
    "    return invert(pb)[number]"
   ]
  },
  {
   "cell_type": "code",
   "execution_count": 21,
   "id": "15c15d1e",
   "metadata": {},
   "outputs": [
    {
     "data": {
      "text/plain": [
       "'Jenny'"
      ]
     },
     "execution_count": 21,
     "metadata": {},
     "output_type": "execute_result"
    }
   ],
   "source": [
    "rlookup(pb,'867-5309')"
   ]
  },
  {
   "cell_type": "code",
   "execution_count": null,
   "id": "469d7111",
   "metadata": {},
   "outputs": [],
   "source": []
  }
 ],
 "metadata": {
  "kernelspec": {
   "display_name": "Python 3",
   "language": "python",
   "name": "python3"
  },
  "language_info": {
   "codemirror_mode": {
    "name": "ipython",
    "version": 3
   },
   "file_extension": ".py",
   "mimetype": "text/x-python",
   "name": "python",
   "nbconvert_exporter": "python",
   "pygments_lexer": "ipython3",
   "version": "3.10.6"
  }
 },
 "nbformat": 4,
 "nbformat_minor": 5
}
