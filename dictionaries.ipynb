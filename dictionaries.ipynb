{
 "cells": [
  {
   "cell_type": "markdown",
   "id": "ccd51ffe",
   "metadata": {},
   "source": [
    "# Dictionaries\n",
    "## https://github.com/mattoxb/cs101-jupyter/dictionaries.ipynb"
   ]
  },
  {
   "cell_type": "code",
   "execution_count": 8,
   "id": "0052817e",
   "metadata": {},
   "outputs": [],
   "source": [
    "pb = {}\n",
    "pb['Empire'] = '588-2300'\n",
    "pb['Emergency'] = '911'\n",
    "pb['Jenny'] = '867-5309'\n",
    "\n",
    "def rickRoll(pb):\n",
    "  pb['Rick Astley'] = \"248-434-5508\"\n",
    "  return pb\n",
    "\n",
    "pb = rickRoll(pb)\n"
   ]
  },
  {
   "cell_type": "code",
   "execution_count": 9,
   "id": "fc599c85",
   "metadata": {},
   "outputs": [
    {
     "data": {
      "text/plain": [
       "{'Empire': '588-2300',\n",
       " 'Emergency': '911',\n",
       " 'Jenny': '867-5309',\n",
       " 'Rick Astley': '248-434-5508'}"
      ]
     },
     "execution_count": 9,
     "metadata": {},
     "output_type": "execute_result"
    }
   ],
   "source": [
    "pb"
   ]
  },
  {
   "cell_type": "code",
   "execution_count": 5,
   "id": "e088955a",
   "metadata": {},
   "outputs": [
    {
     "ename": "KeyError",
     "evalue": "'Mattox'",
     "output_type": "error",
     "traceback": [
      "\u001b[0;31m---------------------------------------------------------------------------\u001b[0m",
      "\u001b[0;31mKeyError\u001b[0m                                  Traceback (most recent call last)",
      "Input \u001b[0;32mIn [5]\u001b[0m, in \u001b[0;36m<cell line: 1>\u001b[0;34m()\u001b[0m\n\u001b[0;32m----> 1\u001b[0m pb[\u001b[38;5;124m'\u001b[39m\u001b[38;5;124mMattox\u001b[39m\u001b[38;5;124m'\u001b[39m]\n",
      "\u001b[0;31mKeyError\u001b[0m: 'Mattox'"
     ]
    }
   ],
   "source": [
    "pb['Mattox']"
   ]
  },
  {
   "cell_type": "code",
   "execution_count": 6,
   "id": "43907ad1",
   "metadata": {},
   "outputs": [
    {
     "data": {
      "text/plain": [
       "True"
      ]
     },
     "execution_count": 6,
     "metadata": {},
     "output_type": "execute_result"
    }
   ],
   "source": [
    "'Empire' in pb"
   ]
  },
  {
   "cell_type": "code",
   "execution_count": 7,
   "id": "64ce6c2a",
   "metadata": {},
   "outputs": [
    {
     "data": {
      "text/plain": [
       "False"
      ]
     },
     "execution_count": 7,
     "metadata": {},
     "output_type": "execute_result"
    }
   ],
   "source": [
    "'Mattox' in pb"
   ]
  },
  {
   "cell_type": "code",
   "execution_count": 10,
   "id": "caaee470",
   "metadata": {},
   "outputs": [],
   "source": [
    "def pbLookup(pb,name):\n",
    "    if name in pb:\n",
    "        return pb[name]\n",
    "    else:\n",
    "        return pb['Rick Astley']\n",
    "    "
   ]
  },
  {
   "cell_type": "code",
   "execution_count": 15,
   "id": "62c19e02",
   "metadata": {},
   "outputs": [
    {
     "data": {
      "text/plain": [
       "'248-434-5508'"
      ]
     },
     "execution_count": 15,
     "metadata": {},
     "output_type": "execute_result"
    }
   ],
   "source": [
    "pbLookup(rickRoll({'Fred':'123'}),'Mattox')"
   ]
  },
  {
   "cell_type": "code",
   "execution_count": 23,
   "id": "e86250ea",
   "metadata": {},
   "outputs": [],
   "source": [
    "names = pb.keys()\n"
   ]
  },
  {
   "cell_type": "code",
   "execution_count": 24,
   "id": "da94a36a",
   "metadata": {},
   "outputs": [
    {
     "data": {
      "text/plain": [
       "dict_keys(['Empire', 'Emergency', 'Jenny', 'Rick Astley'])"
      ]
     },
     "execution_count": 24,
     "metadata": {},
     "output_type": "execute_result"
    }
   ],
   "source": [
    "names"
   ]
  },
  {
   "cell_type": "code",
   "execution_count": 25,
   "id": "fc0bb43d",
   "metadata": {},
   "outputs": [
    {
     "ename": "TypeError",
     "evalue": "'dict_keys' object is not subscriptable",
     "output_type": "error",
     "traceback": [
      "\u001b[0;31m---------------------------------------------------------------------------\u001b[0m",
      "\u001b[0;31mTypeError\u001b[0m                                 Traceback (most recent call last)",
      "Input \u001b[0;32mIn [25]\u001b[0m, in \u001b[0;36m<cell line: 1>\u001b[0;34m()\u001b[0m\n\u001b[0;32m----> 1\u001b[0m names[\u001b[38;5;241m0\u001b[39m]\n",
      "\u001b[0;31mTypeError\u001b[0m: 'dict_keys' object is not subscriptable"
     ]
    }
   ],
   "source": [
    "names[0]"
   ]
  },
  {
   "cell_type": "code",
   "execution_count": 26,
   "id": "8841929b",
   "metadata": {},
   "outputs": [],
   "source": [
    "names = list(pb.keys())"
   ]
  },
  {
   "cell_type": "code",
   "execution_count": 32,
   "id": "46c53ed5",
   "metadata": {},
   "outputs": [
    {
     "data": {
      "text/plain": [
       "dict_values(['588-2300', '911', '867-5309', '248-434-5508'])"
      ]
     },
     "execution_count": 32,
     "metadata": {},
     "output_type": "execute_result"
    }
   ],
   "source": [
    "pb.values()"
   ]
  },
  {
   "cell_type": "code",
   "execution_count": 27,
   "id": "90c26671",
   "metadata": {},
   "outputs": [
    {
     "data": {
      "text/plain": [
       "('Empire', ['Empire', 'Emergency', 'Jenny', 'Rick Astley'])"
      ]
     },
     "execution_count": 27,
     "metadata": {},
     "output_type": "execute_result"
    }
   ],
   "source": [
    "names[0], names"
   ]
  },
  {
   "cell_type": "code",
   "execution_count": 28,
   "id": "d022915a",
   "metadata": {},
   "outputs": [],
   "source": [
    "org = { 'Frodo': {'job':'Hold Ring', 'salary': 15000}\n",
    "      , 'Sam': {'job':'Gardener', 'salary': 200000}\n",
    "      , 'Gollum': {'job':'Pest', 'salary': 0}\n",
    "      , 'Pi': 3.14159}\n"
   ]
  },
  {
   "cell_type": "code",
   "execution_count": 29,
   "id": "e6680fda",
   "metadata": {},
   "outputs": [
    {
     "data": {
      "text/plain": [
       "{'job': 'Gardener', 'salary': 200000}"
      ]
     },
     "execution_count": 29,
     "metadata": {},
     "output_type": "execute_result"
    }
   ],
   "source": [
    "org['Sam']"
   ]
  },
  {
   "cell_type": "code",
   "execution_count": 30,
   "id": "4a66cb5c",
   "metadata": {},
   "outputs": [
    {
     "data": {
      "text/plain": [
       "200000"
      ]
     },
     "execution_count": 30,
     "metadata": {},
     "output_type": "execute_result"
    }
   ],
   "source": [
    "org['Sam']['salary']"
   ]
  },
  {
   "cell_type": "code",
   "execution_count": null,
   "id": "be235985",
   "metadata": {},
   "outputs": [],
   "source": [
    "inPi = 3.14"
   ]
  },
  {
   "cell_type": "code",
   "execution_count": 33,
   "id": "3a363c9d",
   "metadata": {},
   "outputs": [],
   "source": [
    "def invert(pb):\n",
    "    new = {}\n",
    "    for n in pb:\n",
    "        new[pb[n]] = n\n",
    "    return new"
   ]
  },
  {
   "cell_type": "code",
   "execution_count": 34,
   "id": "443ab057",
   "metadata": {},
   "outputs": [
    {
     "data": {
      "text/plain": [
       "{'588-2300': 'Empire',\n",
       " '911': 'Emergency',\n",
       " '867-5309': 'Jenny',\n",
       " '248-434-5508': 'Rick Astley'}"
      ]
     },
     "execution_count": 34,
     "metadata": {},
     "output_type": "execute_result"
    }
   ],
   "source": [
    "invert(pb)"
   ]
  },
  {
   "cell_type": "code",
   "execution_count": 35,
   "id": "3bb7f803",
   "metadata": {},
   "outputs": [],
   "source": [
    "def rlookup(pb,number):\n",
    "    return invert(pb)[number]"
   ]
  },
  {
   "cell_type": "code",
   "execution_count": 36,
   "id": "15c15d1e",
   "metadata": {},
   "outputs": [
    {
     "data": {
      "text/plain": [
       "'Jenny'"
      ]
     },
     "execution_count": 36,
     "metadata": {},
     "output_type": "execute_result"
    }
   ],
   "source": [
    "rlookup(pb,'867-5309')"
   ]
  },
  {
   "cell_type": "code",
   "execution_count": 37,
   "id": "469d7111",
   "metadata": {},
   "outputs": [],
   "source": [
    "new = {}\n"
   ]
  },
  {
   "cell_type": "code",
   "execution_count": 38,
   "id": "52b280d7",
   "metadata": {},
   "outputs": [
    {
     "data": {
      "text/plain": [
       "'867-5309'"
      ]
     },
     "execution_count": 38,
     "metadata": {},
     "output_type": "execute_result"
    }
   ],
   "source": [
    "pb['Jenny']"
   ]
  },
  {
   "cell_type": "code",
   "execution_count": 39,
   "id": "beb73563",
   "metadata": {},
   "outputs": [],
   "source": [
    "new[pb['Jenny']] = 'Jenny'"
   ]
  },
  {
   "cell_type": "code",
   "execution_count": 40,
   "id": "e67445d8",
   "metadata": {},
   "outputs": [
    {
     "data": {
      "text/plain": [
       "{'867-5309': 'Jenny'}"
      ]
     },
     "execution_count": 40,
     "metadata": {},
     "output_type": "execute_result"
    }
   ],
   "source": [
    "new"
   ]
  },
  {
   "cell_type": "code",
   "execution_count": 41,
   "id": "af25c533",
   "metadata": {},
   "outputs": [],
   "source": [
    "colorFav = { 'Mattox': 'blue', 'Eleora': 'Cyan'}"
   ]
  },
  {
   "cell_type": "code",
   "execution_count": 42,
   "id": "cb152237",
   "metadata": {},
   "outputs": [
    {
     "data": {
      "text/plain": [
       "'Cyan'"
      ]
     },
     "execution_count": 42,
     "metadata": {},
     "output_type": "execute_result"
    }
   ],
   "source": [
    "colorFav['Eleora']"
   ]
  },
  {
   "cell_type": "code",
   "execution_count": null,
   "id": "2bb0f0f1",
   "metadata": {},
   "outputs": [],
   "source": []
  }
 ],
 "metadata": {
  "kernelspec": {
   "display_name": "Python 3",
   "language": "python",
   "name": "python3"
  },
  "language_info": {
   "codemirror_mode": {
    "name": "ipython",
    "version": 3
   },
   "file_extension": ".py",
   "mimetype": "text/x-python",
   "name": "python",
   "nbconvert_exporter": "python",
   "pygments_lexer": "ipython3",
   "version": "3.10.9"
  }
 },
 "nbformat": 4,
 "nbformat_minor": 5
}
