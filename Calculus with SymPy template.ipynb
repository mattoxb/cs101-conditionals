{
 "cells": [
  {
   "cell_type": "code",
   "execution_count": 1,
   "id": "706d0f3c",
   "metadata": {},
   "outputs": [],
   "source": [
    "import sympy"
   ]
  },
  {
   "cell_type": "markdown",
   "id": "73b08313",
   "metadata": {},
   "source": [
    "## Pro Tip\n",
    "\n",
    "For some reason a bunch of you are learning new Python libraries.\n",
    "We'll show you some examples, but you will not learn it well unless\n",
    "you spend time playing with the library yourself!"
   ]
  },
  {
   "cell_type": "markdown",
   "id": "33b53bf2",
   "metadata": {},
   "source": [
    "## Objectives\n",
    "\n",
    "1. Examine left-adjusted form for integrals\n",
    "2. Use sympy to differentiate some expressions\n",
    "3. Use sympy to take indefinite integrals\n",
    "4. Use sympy to take definite integrals\n",
    "5. Use `subs` to evaluate sympy expressions numerically\n",
    "6. Activity: calculate distance travelled when falling on various planets."
   ]
  },
  {
   "cell_type": "markdown",
   "id": "f7fc366c",
   "metadata": {},
   "source": [
    "## Integral Notation\n",
    "\n",
    "The normal way you see double integrals looks like this:\n",
    "\n",
    "$$ \\int_0^n \\int_0^n x^ny^n\\ dx\\ dy $$\n",
    "\n",
    "The materials in this course prefer another way, called *left-adjusted form*.\n",
    "\n",
    "$$ \\int_0^n dy \\int_0^n dx\\ x^ny^n $$\n",
    "\n",
    "1. How do you know which of $dx$ or $dy$ come first?  Hint: it's kind of like formal dining.\n",
    "2. Why would anyone prefer left-adjusted form, do you think?"
   ]
  },
  {
   "cell_type": "markdown",
   "id": "d23d2d24",
   "metadata": {},
   "source": [
    "## Taking Derivatives\n",
    "\n",
    "SymPy uses the `diff` method to take derivatives. \"Differentiate\"\n",
    "1. Take derivative of $x^2$.\n",
    "2. Take derivative of $x^2y^2$.\n",
    "   - We need to specify the variable!\n",
    "3. Double derivatives"
   ]
  },
  {
   "cell_type": "markdown",
   "id": "2755a0b6",
   "metadata": {},
   "source": [
    "## Taking Integrals\n",
    "\n",
    "SymPy uses the `integrate` method to take indefinite integrals.\n",
    "\n",
    "1. Take the integral of $x^2$\n",
    "2. Take the integral of $x^2y^2$\n",
    "3. Take the integral of $x^2y^2$ in both $x$ and $y$.\n",
    "   - `integrate(exp,(x,y))` won't work.  Why not?"
   ]
  },
  {
   "cell_type": "markdown",
   "id": "d48b50f9",
   "metadata": {},
   "source": [
    "## Definite Integrals\n",
    "\n",
    "You can specify the start and end points of an integral using triples."
   ]
  },
  {
   "cell_type": "markdown",
   "id": "b8599421",
   "metadata": {},
   "source": [
    "## Subs\n",
    "\n",
    "You can plug in a value for a variable using `subs`."
   ]
  },
  {
   "cell_type": "markdown",
   "id": "dc028a0f",
   "metadata": {},
   "source": [
    "## Your turn!\n",
    "\n",
    "We want to know how long it takes to fall a certain distance on a given astronomical body, ignoring atmospheric drag.\n",
    "\n",
    "Start with the equation $v= gt$ and use integration to determine the formula for distance and =solve= to get the value for $t$.  Let's do this for the earth, moon, and pluto.\n",
    "\n",
    "- $g_{earth} = 9.81 m/s^2$\n",
    "- $g_{moon} = 1.625 m/s^2$\n",
    "- $g_{pluto} = 0.618 m/s^2$\n"
   ]
  }
 ],
 "metadata": {
  "kernelspec": {
   "display_name": "Python 3",
   "language": "python",
   "name": "python3"
  },
  "language_info": {
   "codemirror_mode": {
    "name": "ipython",
    "version": 3
   },
   "file_extension": ".py",
   "mimetype": "text/x-python",
   "name": "python",
   "nbconvert_exporter": "python",
   "pygments_lexer": "ipython3",
   "version": "3.10.7"
  }
 },
 "nbformat": 4,
 "nbformat_minor": 5
}
