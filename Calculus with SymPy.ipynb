{
 "cells": [
  {
   "cell_type": "code",
   "execution_count": 2,
   "id": "706d0f3c",
   "metadata": {},
   "outputs": [],
   "source": [
    "import sympy"
   ]
  },
  {
   "cell_type": "markdown",
   "id": "353a7e3f",
   "metadata": {},
   "source": [
    "# Calculus with SymPy\n"
   ]
  },
  {
   "cell_type": "markdown",
   "id": "73b08313",
   "metadata": {},
   "source": [
    "## Pro Tip\n",
    "\n",
    "For some reason a bunch of you are learning new Python libraries.\n",
    "We'll show you some examples, but you will not learn it well unless\n",
    "you spend time playing with the library yourself!\n",
    "\n",
    "(This is called a \"VCR Problem\" *a la* Mark Manson)"
   ]
  },
  {
   "cell_type": "markdown",
   "id": "33b53bf2",
   "metadata": {},
   "source": [
    "## Objectives\n",
    "\n",
    "1. Examine left-adjusted form for integrals\n",
    "2. Use sympy to differentiate some expressions\n",
    "3. Use sympy to take indefinite integrals\n",
    "4. Use sympy to take definite integrals\n",
    "5. Use `subs` to evaluate sympy expressions numerically\n",
    "6. Activity: calculate distance travelled when falling on various planets."
   ]
  },
  {
   "cell_type": "markdown",
   "id": "f7fc366c",
   "metadata": {},
   "source": [
    "## Integral Notation\n",
    "\n",
    "The normal way you see double integrals looks like this:\n",
    "\n",
    "$$ \\int_0^n \\int_0^n x^ny^n\\ dx\\ dy $$\n",
    "\n",
    "The materials in this course prefer another way, called *left-adjusted form*.\n",
    "\n",
    "$$ \\int_0^n dy \\int_0^n dx\\ x^ny^n $$\n",
    "\n",
    "1. How do you know which of $dx$ or $dy$ come first?\n",
    "2. Why would anyone prefer left-adjusted form, do you think?"
   ]
  },
  {
   "cell_type": "markdown",
   "id": "d23d2d24",
   "metadata": {},
   "source": [
    "## Taking Derivatives\n",
    "\n",
    "SymPy uses the `diff` method to take derivatives. \"Differentiate\"\n",
    "1. Take derivative of $x^2$.\n",
    "2. Take derivative of $x^2y^2$.\n",
    "   - We need to specify the variable!\n",
    "3. Double derivatives"
   ]
  },
  {
   "cell_type": "code",
   "execution_count": 3,
   "id": "cac84bf7",
   "metadata": {},
   "outputs": [],
   "source": [
    "x,y = sympy.S('x,y')"
   ]
  },
  {
   "cell_type": "code",
   "execution_count": 4,
   "id": "0f155d8c",
   "metadata": {},
   "outputs": [
    {
     "data": {
      "text/latex": [
       "$\\displaystyle 2 x$"
      ],
      "text/plain": [
       "2*x"
      ]
     },
     "execution_count": 4,
     "metadata": {},
     "output_type": "execute_result"
    }
   ],
   "source": [
    "sympy.diff(x**2)"
   ]
  },
  {
   "cell_type": "code",
   "execution_count": 6,
   "id": "5aab550a",
   "metadata": {},
   "outputs": [
    {
     "data": {
      "text/latex": [
       "$\\displaystyle 2 x y^{2}$"
      ],
      "text/plain": [
       "2*x*y**2"
      ]
     },
     "execution_count": 6,
     "metadata": {},
     "output_type": "execute_result"
    }
   ],
   "source": [
    "sympy.diff(x**2 * y**2,x)"
   ]
  },
  {
   "cell_type": "code",
   "execution_count": 7,
   "id": "df4e0fcc",
   "metadata": {},
   "outputs": [
    {
     "data": {
      "text/latex": [
       "$\\displaystyle 2 y^{2}$"
      ],
      "text/plain": [
       "2*y**2"
      ]
     },
     "execution_count": 7,
     "metadata": {},
     "output_type": "execute_result"
    }
   ],
   "source": [
    "sympy.diff(x**2 * y**2,x,2)"
   ]
  },
  {
   "cell_type": "code",
   "execution_count": 10,
   "id": "c5150276",
   "metadata": {},
   "outputs": [
    {
     "data": {
      "text/latex": [
       "$\\displaystyle 2 x y^{2}$"
      ],
      "text/plain": [
       "2*x*y**2"
      ]
     },
     "execution_count": 10,
     "metadata": {},
     "output_type": "execute_result"
    }
   ],
   "source": [
    "sympy.diff(x**2 * y**2,x)"
   ]
  },
  {
   "cell_type": "code",
   "execution_count": 8,
   "id": "1864e6c0",
   "metadata": {},
   "outputs": [
    {
     "data": {
      "text/latex": [
       "$\\displaystyle 4 x y$"
      ],
      "text/plain": [
       "4*x*y"
      ]
     },
     "execution_count": 8,
     "metadata": {},
     "output_type": "execute_result"
    }
   ],
   "source": [
    "sympy.diff(sympy.diff(x**2 * y**2,x),y)"
   ]
  },
  {
   "cell_type": "code",
   "execution_count": 11,
   "id": "3c3c4d46",
   "metadata": {},
   "outputs": [],
   "source": [
    "from sympy import diff"
   ]
  },
  {
   "cell_type": "code",
   "execution_count": 12,
   "id": "2a08c716",
   "metadata": {},
   "outputs": [
    {
     "data": {
      "text/latex": [
       "$\\displaystyle 1$"
      ],
      "text/plain": [
       "1"
      ]
     },
     "execution_count": 12,
     "metadata": {},
     "output_type": "execute_result"
    }
   ],
   "source": [
    "diff(x)"
   ]
  },
  {
   "cell_type": "markdown",
   "id": "27018960",
   "metadata": {},
   "source": [
    "## Taking Integrals\n",
    "\n",
    "SymPy uses the `integrate` method to take indefinite integrals.\n",
    "\n",
    "1. Take the integral of $x^2$\n",
    "2. Take the integral of $x^2y^2$\n",
    "3. Take the integral of $x^2y^2$ in both $x$ and $y$.\n",
    "   - `integrate(exp,(x,y))` won't work.  Why not?"
   ]
  },
  {
   "cell_type": "code",
   "execution_count": 13,
   "id": "3370d5d1",
   "metadata": {},
   "outputs": [
    {
     "data": {
      "text/latex": [
       "$\\displaystyle \\frac{x^{3}}{3}$"
      ],
      "text/plain": [
       "x**3/3"
      ]
     },
     "execution_count": 13,
     "metadata": {},
     "output_type": "execute_result"
    }
   ],
   "source": [
    "sympy.integrate(x**2)"
   ]
  },
  {
   "cell_type": "code",
   "execution_count": 14,
   "id": "dbba8bfe",
   "metadata": {},
   "outputs": [
    {
     "data": {
      "text/latex": [
       "$\\displaystyle \\frac{x^{3} y^{2}}{3}$"
      ],
      "text/plain": [
       "x**3*y**2/3"
      ]
     },
     "execution_count": 14,
     "metadata": {},
     "output_type": "execute_result"
    }
   ],
   "source": [
    "sympy.integrate(x**2 * y**2,x)"
   ]
  },
  {
   "cell_type": "code",
   "execution_count": 15,
   "id": "d62e263b",
   "metadata": {},
   "outputs": [
    {
     "data": {
      "text/latex": [
       "$\\displaystyle \\frac{x^{3} y^{3}}{9}$"
      ],
      "text/plain": [
       "x**3*y**3/9"
      ]
     },
     "execution_count": 15,
     "metadata": {},
     "output_type": "execute_result"
    }
   ],
   "source": [
    "sympy.integrate(x**2 * y**2,x,y)"
   ]
  },
  {
   "cell_type": "code",
   "execution_count": 25,
   "id": "e0531510",
   "metadata": {},
   "outputs": [
    {
     "data": {
      "text/latex": [
       "$\\displaystyle \\frac{1000 y^{2}}{3}$"
      ],
      "text/plain": [
       "1000*y**2/3"
      ]
     },
     "execution_count": 25,
     "metadata": {},
     "output_type": "execute_result"
    }
   ],
   "source": [
    "sympy.integrate(x**2 * y**2,(x,10))"
   ]
  },
  {
   "cell_type": "code",
   "execution_count": 18,
   "id": "67e3c1a5",
   "metadata": {},
   "outputs": [
    {
     "name": "stdout",
     "output_type": "stream",
     "text": [
      "integrate(f, var, ...)\n",
      "\n",
      "    .. deprecated:: 1.6\n",
      "\n",
      "       Using ``integrate()`` with :class:`~.Poly` is deprecated. Use\n",
      "       :meth:`.Poly.integrate` instead. See :ref:`deprecated-integrate-poly`.\n",
      "\n",
      "    Explanation\n",
      "    ===========\n",
      "\n",
      "    Compute definite or indefinite integral of one or more variables\n",
      "    using Risch-Norman algorithm and table lookup. This procedure is\n",
      "    able to handle elementary algebraic and transcendental functions\n",
      "    and also a huge class of special functions, including Airy,\n",
      "    Bessel, Whittaker and Lambert.\n",
      "\n",
      "    var can be:\n",
      "\n",
      "    - a symbol                   -- indefinite integration\n",
      "    - a tuple (symbol, a)        -- indefinite integration with result\n",
      "                                    given with ``a`` replacing ``symbol``\n",
      "    - a tuple (symbol, a, b)     -- definite integration\n",
      "\n",
      "    Several variables can be specified, in which case the result is\n",
      "    multiple integration. (If var is omitted and the integrand is\n",
      "    univariate, the indefinite integral in that variable will be performed.)\n",
      "\n",
      "    Indefinite integrals are returned without terms that are independent\n",
      "    of the integration variables. (see examples)\n",
      "\n",
      "    Definite improper integrals often entail delicate convergence\n",
      "    conditions. Pass conds='piecewise', 'separate' or 'none' to have\n",
      "    these returned, respectively, as a Piecewise function, as a separate\n",
      "    result (i.e. result will be a tuple), or not at all (default is\n",
      "    'piecewise').\n",
      "\n",
      "    **Strategy**\n",
      "\n",
      "    SymPy uses various approaches to definite integration. One method is to\n",
      "    find an antiderivative for the integrand, and then use the fundamental\n",
      "    theorem of calculus. Various functions are implemented to integrate\n",
      "    polynomial, rational and trigonometric functions, and integrands\n",
      "    containing DiracDelta terms.\n",
      "\n",
      "    SymPy also implements the part of the Risch algorithm, which is a decision\n",
      "    procedure for integrating elementary functions, i.e., the algorithm can\n",
      "    either find an elementary antiderivative, or prove that one does not\n",
      "    exist.  There is also a (very successful, albeit somewhat slow) general\n",
      "    implementation of the heuristic Risch algorithm.  This algorithm will\n",
      "    eventually be phased out as more of the full Risch algorithm is\n",
      "    implemented. See the docstring of Integral._eval_integral() for more\n",
      "    details on computing the antiderivative using algebraic methods.\n",
      "\n",
      "    The option risch=True can be used to use only the (full) Risch algorithm.\n",
      "    This is useful if you want to know if an elementary function has an\n",
      "    elementary antiderivative.  If the indefinite Integral returned by this\n",
      "    function is an instance of NonElementaryIntegral, that means that the\n",
      "    Risch algorithm has proven that integral to be non-elementary.  Note that\n",
      "    by default, additional methods (such as the Meijer G method outlined\n",
      "    below) are tried on these integrals, as they may be expressible in terms\n",
      "    of special functions, so if you only care about elementary answers, use\n",
      "    risch=True.  Also note that an unevaluated Integral returned by this\n",
      "    function is not necessarily a NonElementaryIntegral, even with risch=True,\n",
      "    as it may just be an indication that the particular part of the Risch\n",
      "    algorithm needed to integrate that function is not yet implemented.\n",
      "\n",
      "    Another family of strategies comes from re-writing the integrand in\n",
      "    terms of so-called Meijer G-functions. Indefinite integrals of a\n",
      "    single G-function can always be computed, and the definite integral\n",
      "    of a product of two G-functions can be computed from zero to\n",
      "    infinity. Various strategies are implemented to rewrite integrands\n",
      "    as G-functions, and use this information to compute integrals (see\n",
      "    the ``meijerint`` module).\n",
      "\n",
      "    The option manual=True can be used to use only an algorithm that tries\n",
      "    to mimic integration by hand. This algorithm does not handle as many\n",
      "    integrands as the other algorithms implemented but may return results in\n",
      "    a more familiar form. The ``manualintegrate`` module has functions that\n",
      "    return the steps used (see the module docstring for more information).\n",
      "\n",
      "    In general, the algebraic methods work best for computing\n",
      "    antiderivatives of (possibly complicated) combinations of elementary\n",
      "    functions. The G-function methods work best for computing definite\n",
      "    integrals from zero to infinity of moderately complicated\n",
      "    combinations of special functions, or indefinite integrals of very\n",
      "    simple combinations of special functions.\n",
      "\n",
      "    The strategy employed by the integration code is as follows:\n",
      "\n",
      "    - If computing a definite integral, and both limits are real,\n",
      "      and at least one limit is +- oo, try the G-function method of\n",
      "      definite integration first.\n",
      "\n",
      "    - Try to find an antiderivative, using all available methods, ordered\n",
      "      by performance (that is try fastest method first, slowest last; in\n",
      "      particular polynomial integration is tried first, Meijer\n",
      "      G-functions second to last, and heuristic Risch last).\n",
      "\n",
      "    - If still not successful, try G-functions irrespective of the\n",
      "      limits.\n",
      "\n",
      "    The option meijerg=True, False, None can be used to, respectively:\n",
      "    always use G-function methods and no others, never use G-function\n",
      "    methods, or use all available methods (in order as described above).\n",
      "    It defaults to None.\n",
      "\n",
      "    Examples\n",
      "    ========\n",
      "\n",
      "    >>> from sympy import integrate, log, exp, oo\n",
      "    >>> from sympy.abc import a, x, y\n",
      "\n",
      "    >>> integrate(x*y, x)\n",
      "    x**2*y/2\n",
      "\n",
      "    >>> integrate(log(x), x)\n",
      "    x*log(x) - x\n",
      "\n",
      "    >>> integrate(log(x), (x, 1, a))\n",
      "    a*log(a) - a + 1\n",
      "\n",
      "    >>> integrate(x)\n",
      "    x**2/2\n",
      "\n",
      "    Terms that are independent of x are dropped by indefinite integration:\n",
      "\n",
      "    >>> from sympy import sqrt\n",
      "    >>> integrate(sqrt(1 + x), (x, 0, x))\n",
      "    2*(x + 1)**(3/2)/3 - 2/3\n",
      "    >>> integrate(sqrt(1 + x), x)\n",
      "    2*(x + 1)**(3/2)/3\n",
      "\n",
      "    >>> integrate(x*y)\n",
      "    Traceback (most recent call last):\n",
      "    ...\n",
      "    ValueError: specify integration variables to integrate x*y\n",
      "\n",
      "    Note that ``integrate(x)`` syntax is meant only for convenience\n",
      "    in interactive sessions and should be avoided in library code.\n",
      "\n",
      "    >>> integrate(x**a*exp(-x), (x, 0, oo)) # same as conds='piecewise'\n",
      "    Piecewise((gamma(a + 1), re(a) > -1),\n",
      "        (Integral(x**a*exp(-x), (x, 0, oo)), True))\n",
      "\n",
      "    >>> integrate(x**a*exp(-x), (x, 0, oo), conds='none')\n",
      "    gamma(a + 1)\n",
      "\n",
      "    >>> integrate(x**a*exp(-x), (x, 0, oo), conds='separate')\n",
      "    (gamma(a + 1), re(a) > -1)\n",
      "\n",
      "    See Also\n",
      "    ========\n",
      "\n",
      "    Integral, Integral.doit\n",
      "\n",
      "    \n"
     ]
    }
   ],
   "source": [
    "print(sympy.integrate.__doc__)"
   ]
  },
  {
   "cell_type": "markdown",
   "id": "0f46f71c",
   "metadata": {},
   "source": [
    "## Definite Integrals\n",
    "\n",
    "You can specify the start and end points of an integral using triples."
   ]
  },
  {
   "cell_type": "code",
   "execution_count": 19,
   "id": "05ac0dfd",
   "metadata": {},
   "outputs": [
    {
     "data": {
      "text/latex": [
       "$\\displaystyle \\frac{1}{3}$"
      ],
      "text/plain": [
       "1/3"
      ]
     },
     "execution_count": 19,
     "metadata": {},
     "output_type": "execute_result"
    }
   ],
   "source": [
    "sympy.integrate(x**2,(x,0,1))"
   ]
  },
  {
   "cell_type": "code",
   "execution_count": 20,
   "id": "48baee09",
   "metadata": {},
   "outputs": [
    {
     "data": {
      "text/latex": [
       "$\\displaystyle \\frac{1}{9}$"
      ],
      "text/plain": [
       "1/9"
      ]
     },
     "execution_count": 20,
     "metadata": {},
     "output_type": "execute_result"
    }
   ],
   "source": [
    "sympy.integrate(x**2* y**2,(x,0,1),(y,0,1))"
   ]
  },
  {
   "cell_type": "code",
   "execution_count": 21,
   "id": "13e5bcfe",
   "metadata": {},
   "outputs": [
    {
     "data": {
      "text/latex": [
       "$\\displaystyle \\frac{\\pi}{2}$"
      ],
      "text/plain": [
       "pi/2"
      ]
     },
     "execution_count": 21,
     "metadata": {},
     "output_type": "execute_result"
    }
   ],
   "source": [
    "sympy.integrate(sympy.cos(x)**2,(x,0,sympy.pi))"
   ]
  },
  {
   "cell_type": "code",
   "execution_count": 23,
   "id": "9f41ae02",
   "metadata": {},
   "outputs": [
    {
     "data": {
      "text/latex": [
       "$\\displaystyle 2 \\sqrt{x - 1}$"
      ],
      "text/plain": [
       "2*sqrt(x - 1)"
      ]
     },
     "execution_count": 23,
     "metadata": {},
     "output_type": "execute_result"
    }
   ],
   "source": [
    "2 * sympy.sqrt(x-1)"
   ]
  },
  {
   "cell_type": "markdown",
   "id": "b97058ce",
   "metadata": {},
   "source": [
    "## Subs\n",
    "\n",
    "You can plug in a value for a variable using `subs`."
   ]
  },
  {
   "cell_type": "code",
   "execution_count": 26,
   "id": "7d370ea9",
   "metadata": {},
   "outputs": [],
   "source": [
    "r,exp = sympy.S('r,pi * r**2')"
   ]
  },
  {
   "cell_type": "code",
   "execution_count": 27,
   "id": "38e52f9a",
   "metadata": {},
   "outputs": [
    {
     "data": {
      "text/latex": [
       "$\\displaystyle \\pi r^{2}$"
      ],
      "text/plain": [
       "pi*r**2"
      ]
     },
     "execution_count": 27,
     "metadata": {},
     "output_type": "execute_result"
    }
   ],
   "source": [
    "exp"
   ]
  },
  {
   "cell_type": "code",
   "execution_count": 28,
   "id": "3eada478",
   "metadata": {},
   "outputs": [
    {
     "data": {
      "text/plain": [
       "314.1592653589793"
      ]
     },
     "execution_count": 28,
     "metadata": {},
     "output_type": "execute_result"
    }
   ],
   "source": [
    "float(exp.subs(r,10))"
   ]
  },
  {
   "cell_type": "markdown",
   "id": "12f2d9e5",
   "metadata": {},
   "source": [
    "## Your turn!\n",
    "\n",
    "We want to know how long it takes to fall a certain distance on a given astronomical body, ignoring atmospheric drag.\n",
    "\n",
    "Start with the equation $v= gt$ and use integration to determine the formula for distance and `solve` to get the value for $t$.  Let's do this for the earth, moon, and pluto.\n",
    "\n",
    "- $g_{earth} = 9.81 m/s^2$\n",
    "- $g_{moon} = 1.625 m/s^2$\n",
    "- $g_{pluto} = 0.618 m/s^2$\n",
    "\n",
    "Call it `timeToFall(planet,dist)`\n"
   ]
  },
  {
   "cell_type": "code",
   "execution_count": 29,
   "id": "43599214",
   "metadata": {},
   "outputs": [],
   "source": [
    "gravity = { 'earth': 9.81, 'moon': 1.625, 'pluto':0.618}"
   ]
  },
  {
   "cell_type": "code",
   "execution_count": 30,
   "id": "2f314242",
   "metadata": {},
   "outputs": [
    {
     "data": {
      "text/plain": [
       "dict_keys(['earth', 'moon', 'pluto'])"
      ]
     },
     "execution_count": 30,
     "metadata": {},
     "output_type": "execute_result"
    }
   ],
   "source": [
    "gravity.keys()"
   ]
  },
  {
   "cell_type": "code",
   "execution_count": 31,
   "id": "428406f0",
   "metadata": {},
   "outputs": [],
   "source": [
    "velocity = sympy.S('g * t')"
   ]
  },
  {
   "cell_type": "code",
   "execution_count": 32,
   "id": "fd7f77fd",
   "metadata": {},
   "outputs": [],
   "source": [
    "g,t = sympy.S('g,t')"
   ]
  },
  {
   "cell_type": "code",
   "execution_count": 33,
   "id": "e5b9f912",
   "metadata": {},
   "outputs": [],
   "source": [
    "dist = sympy.integrate(velocity,t)"
   ]
  },
  {
   "cell_type": "code",
   "execution_count": 34,
   "id": "83a96470",
   "metadata": {},
   "outputs": [
    {
     "data": {
      "text/latex": [
       "$\\displaystyle \\frac{g t^{2}}{2}$"
      ],
      "text/plain": [
       "g*t**2/2"
      ]
     },
     "execution_count": 34,
     "metadata": {},
     "output_type": "execute_result"
    }
   ],
   "source": [
    "'dist'"
   ]
  },
  {
   "cell_type": "code",
   "execution_count": 35,
   "id": "249aaa73",
   "metadata": {},
   "outputs": [
    {
     "data": {
      "text/plain": [
       "[-14.2784312292706, 14.2784312292706]"
      ]
     },
     "execution_count": 35,
     "metadata": {},
     "output_type": "execute_result"
    }
   ],
   "source": [
    "sympy.solve(sympy.Eq(dist.subs(g,9.81),1000))"
   ]
  },
  {
   "cell_type": "code",
   "execution_count": 36,
   "id": "31b527e8",
   "metadata": {},
   "outputs": [
    {
     "data": {
      "text/latex": [
       "$\\displaystyle 139.9887$"
      ],
      "text/plain": [
       "139.988700000000"
      ]
     },
     "execution_count": 36,
     "metadata": {},
     "output_type": "execute_result"
    }
   ],
   "source": [
    "velocity.subs(g,9.81).subs(t,14.27)"
   ]
  },
  {
   "cell_type": "code",
   "execution_count": 51,
   "id": "4eebcad3",
   "metadata": {},
   "outputs": [],
   "source": [
    "# Time to fall goes here!\n",
    "def gtZero(x):\n",
    "    return x > 0\n",
    "\n",
    "def timeToFall(planet,meters):\n",
    "    velocity = sympy.S('g * t')\n",
    "    dist = sympy.integrate(velocity,t)\n",
    "    if planet in gravity:\n",
    "        return list(filter(gtZero,sympy.solve(sympy.Eq(dist.subs(g,gravity[planet]),\n",
    "                                    meters))))[0]\n",
    "    else:\n",
    "        raise ValueError('No such planet.')"
   ]
  },
  {
   "cell_type": "code",
   "execution_count": 52,
   "id": "f0bf6a59",
   "metadata": {},
   "outputs": [
    {
     "data": {
      "text/latex": [
       "$\\displaystyle 14.2784312292706$"
      ],
      "text/plain": [
       "14.2784312292706"
      ]
     },
     "execution_count": 52,
     "metadata": {},
     "output_type": "execute_result"
    }
   ],
   "source": [
    "timeToFall('earth',1000)"
   ]
  },
  {
   "cell_type": "code",
   "execution_count": 53,
   "id": "93b7b79b",
   "metadata": {},
   "outputs": [
    {
     "data": {
      "text/latex": [
       "$\\displaystyle 35.0823207722812$"
      ],
      "text/plain": [
       "35.0823207722812"
      ]
     },
     "execution_count": 53,
     "metadata": {},
     "output_type": "execute_result"
    }
   ],
   "source": [
    "timeToFall('moon',1000)"
   ]
  },
  {
   "cell_type": "code",
   "execution_count": 54,
   "id": "5bdee196",
   "metadata": {},
   "outputs": [
    {
     "data": {
      "text/latex": [
       "$\\displaystyle 57.005$"
      ],
      "text/plain": [
       "57.0050000000000"
      ]
     },
     "execution_count": 54,
     "metadata": {},
     "output_type": "execute_result"
    }
   ],
   "source": [
    "velocity.subs(g,1.625).subs(t,35.08)"
   ]
  },
  {
   "cell_type": "code",
   "execution_count": 43,
   "id": "6f65c814",
   "metadata": {},
   "outputs": [
    {
     "data": {
      "text/plain": [
       "[-56.8880123988574, 56.8880123988574]"
      ]
     },
     "execution_count": 43,
     "metadata": {},
     "output_type": "execute_result"
    }
   ],
   "source": [
    "timeToFall('pluto',1000)"
   ]
  },
  {
   "cell_type": "code",
   "execution_count": 44,
   "id": "b0917e67",
   "metadata": {},
   "outputs": [
    {
     "data": {
      "text/latex": [
       "$\\displaystyle 35.55$"
      ],
      "text/plain": [
       "35.5500000000000"
      ]
     },
     "execution_count": 44,
     "metadata": {},
     "output_type": "execute_result"
    }
   ],
   "source": [
    "velocity.subs(g,0.625).subs(t,56.88)"
   ]
  },
  {
   "cell_type": "code",
   "execution_count": null,
   "id": "7c90489f",
   "metadata": {},
   "outputs": [],
   "source": []
  },
  {
   "cell_type": "code",
   "execution_count": null,
   "id": "34d2e93b",
   "metadata": {},
   "outputs": [],
   "source": []
  },
  {
   "cell_type": "code",
   "execution_count": null,
   "id": "a546a4a3",
   "metadata": {},
   "outputs": [],
   "source": [
    "def timeToFall(planetoid,meters):\n",
    "    velocity = sympy.S('g * t')\n",
    "    dist = sympy.integrate(velocity,t)\n",
    "    if planetoid in gravity:\n",
    "        return sympy.solve(sympy.Eq(dist.subs(g,gravity[planetoid]),meters))\n",
    "    else:\n",
    "        raise ValueError('Planet ' + planetoid + ' is not in our database.')\n",
    "        "
   ]
  }
 ],
 "metadata": {
  "kernelspec": {
   "display_name": "Python 3",
   "language": "python",
   "name": "python3"
  },
  "language_info": {
   "codemirror_mode": {
    "name": "ipython",
    "version": 3
   },
   "file_extension": ".py",
   "mimetype": "text/x-python",
   "name": "python",
   "nbconvert_exporter": "python",
   "pygments_lexer": "ipython3",
   "version": "3.10.9"
  }
 },
 "nbformat": 4,
 "nbformat_minor": 5
}
