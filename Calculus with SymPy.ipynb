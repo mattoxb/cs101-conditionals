{
 "cells": [
  {
   "cell_type": "code",
   "execution_count": 13,
   "id": "706d0f3c",
   "metadata": {},
   "outputs": [],
   "source": [
    "import sympy"
   ]
  },
  {
   "cell_type": "markdown",
   "id": "353a7e3f",
   "metadata": {},
   "source": [
    "# Calculus with SymPy\n",
    "Opening song *Amarantine* by Amaranth"
   ]
  },
  {
   "cell_type": "markdown",
   "id": "73b08313",
   "metadata": {},
   "source": [
    "## Pro Tip\n",
    "\n",
    "For some reason a bunch of you are learning new Python libraries.\n",
    "We'll show you some examples, but you will not learn it well unless\n",
    "you spend time playing with the library yourself!\n",
    "\n",
    "(This is called a \"VCR Problem\" *a la* Mark Manson)"
   ]
  },
  {
   "cell_type": "markdown",
   "id": "33b53bf2",
   "metadata": {},
   "source": [
    "## Objectives\n",
    "\n",
    "1. Examine left-adjusted form for integrals\n",
    "2. Use sympy to differentiate some expressions\n",
    "3. Use sympy to take indefinite integrals\n",
    "4. Use sympy to take definite integrals\n",
    "5. Use `subs` to evaluate sympy expressions numerically\n",
    "6. Activity: calculate distance travelled when falling on various planets."
   ]
  },
  {
   "cell_type": "markdown",
   "id": "f7fc366c",
   "metadata": {},
   "source": [
    "## Integral Notation\n",
    "\n",
    "The normal way you see double integrals looks like this:\n",
    "\n",
    "$$ \\int_0^n \\int_0^n x^ny^n\\ dx\\ dy $$\n",
    "\n",
    "The materials in this course prefer another way, called *left-adjusted form*.\n",
    "\n",
    "$$ \\int_0^n dy \\int_0^n dx\\ x^ny^n $$\n",
    "\n",
    "1. How do you know which of $dx$ or $dy$ come first?  Hint: it's kind of like formal dining.\n",
    "2. Why would anyone prefer left-adjusted form, do you think?"
   ]
  },
  {
   "cell_type": "markdown",
   "id": "d23d2d24",
   "metadata": {},
   "source": [
    "## Taking Derivatives\n",
    "\n",
    "SymPy uses the `diff` method to take derivatives. \"Differentiate\"\n",
    "1. Take derivative of $x^2$.\n",
    "2. Take derivative of $x^2y^2$.\n",
    "   - We need to specify the variable!\n",
    "3. Double derivatives"
   ]
  },
  {
   "cell_type": "code",
   "execution_count": 15,
   "id": "cac84bf7",
   "metadata": {},
   "outputs": [],
   "source": [
    "x,y = sympy.S('x,y')"
   ]
  },
  {
   "cell_type": "code",
   "execution_count": 18,
   "id": "0f155d8c",
   "metadata": {},
   "outputs": [
    {
     "data": {
      "text/latex": [
       "$\\displaystyle 2 x$"
      ],
      "text/plain": [
       "2*x"
      ]
     },
     "execution_count": 18,
     "metadata": {},
     "output_type": "execute_result"
    }
   ],
   "source": [
    "sympy.diff(x**2)"
   ]
  },
  {
   "cell_type": "code",
   "execution_count": 20,
   "id": "5aab550a",
   "metadata": {},
   "outputs": [
    {
     "data": {
      "text/latex": [
       "$\\displaystyle 2 x y^{2}$"
      ],
      "text/plain": [
       "2*x*y**2"
      ]
     },
     "execution_count": 20,
     "metadata": {},
     "output_type": "execute_result"
    }
   ],
   "source": [
    "sympy.diff(x**2 * y**2,x)"
   ]
  },
  {
   "cell_type": "code",
   "execution_count": 21,
   "id": "df4e0fcc",
   "metadata": {},
   "outputs": [
    {
     "data": {
      "text/latex": [
       "$\\displaystyle 2 y^{2}$"
      ],
      "text/plain": [
       "2*y**2"
      ]
     },
     "execution_count": 21,
     "metadata": {},
     "output_type": "execute_result"
    }
   ],
   "source": [
    "sympy.diff(x**2 * y**2,x,2)"
   ]
  },
  {
   "cell_type": "code",
   "execution_count": 25,
   "id": "c5150276",
   "metadata": {},
   "outputs": [
    {
     "data": {
      "text/latex": [
       "$\\displaystyle 4 x y$"
      ],
      "text/plain": [
       "4*x*y"
      ]
     },
     "execution_count": 25,
     "metadata": {},
     "output_type": "execute_result"
    }
   ],
   "source": [
    "sympy.diff(x**2 * y**2,x)"
   ]
  },
  {
   "cell_type": "code",
   "execution_count": 26,
   "id": "1864e6c0",
   "metadata": {},
   "outputs": [
    {
     "data": {
      "text/latex": [
       "$\\displaystyle 4 x y$"
      ],
      "text/plain": [
       "4*x*y"
      ]
     },
     "execution_count": 26,
     "metadata": {},
     "output_type": "execute_result"
    }
   ],
   "source": [
    "sympy.diff(sympy.diff(x**2 * y**2,x),y)"
   ]
  },
  {
   "cell_type": "code",
   "execution_count": null,
   "id": "3c3c4d46",
   "metadata": {},
   "outputs": [],
   "source": []
  },
  {
   "cell_type": "code",
   "execution_count": null,
   "id": "2a08c716",
   "metadata": {},
   "outputs": [],
   "source": []
  },
  {
   "cell_type": "markdown",
   "id": "27018960",
   "metadata": {},
   "source": [
    "## Taking Integrals\n",
    "\n",
    "SymPy uses the `integrate` method to take indefinite integrals.\n",
    "\n",
    "1. Take the integral of $x^2$\n",
    "2. Take the integral of $x^2y^2$\n",
    "3. Take the integral of $x^2y^2$ in both $x$ and $y$.\n",
    "   - `integrate(exp,(x,y))` won't work.  Why not?"
   ]
  },
  {
   "cell_type": "code",
   "execution_count": 27,
   "id": "3370d5d1",
   "metadata": {},
   "outputs": [
    {
     "data": {
      "text/latex": [
       "$\\displaystyle \\frac{x^{3}}{3}$"
      ],
      "text/plain": [
       "x**3/3"
      ]
     },
     "execution_count": 27,
     "metadata": {},
     "output_type": "execute_result"
    }
   ],
   "source": [
    "sympy.integrate(x**2)"
   ]
  },
  {
   "cell_type": "code",
   "execution_count": 29,
   "id": "dbba8bfe",
   "metadata": {},
   "outputs": [
    {
     "data": {
      "text/latex": [
       "$\\displaystyle \\frac{x^{3} y^{2}}{3}$"
      ],
      "text/plain": [
       "x**3*y**2/3"
      ]
     },
     "execution_count": 29,
     "metadata": {},
     "output_type": "execute_result"
    }
   ],
   "source": [
    "sympy.integrate(x**2 * y**2,x)"
   ]
  },
  {
   "cell_type": "code",
   "execution_count": 30,
   "id": "d62e263b",
   "metadata": {},
   "outputs": [
    {
     "data": {
      "text/latex": [
       "$\\displaystyle \\frac{x^{3} y^{3}}{9}$"
      ],
      "text/plain": [
       "x**3*y**3/9"
      ]
     },
     "execution_count": 30,
     "metadata": {},
     "output_type": "execute_result"
    }
   ],
   "source": [
    "sympy.integrate(x**2 * y**2,x,y)"
   ]
  },
  {
   "cell_type": "code",
   "execution_count": 32,
   "id": "e0531510",
   "metadata": {},
   "outputs": [
    {
     "data": {
      "text/latex": [
       "$\\displaystyle \\frac{y^{5}}{3}$"
      ],
      "text/plain": [
       "y**5/3"
      ]
     },
     "execution_count": 32,
     "metadata": {},
     "output_type": "execute_result"
    }
   ],
   "source": [
    "sympy.integrate(x**2 * y**2,(x,y))"
   ]
  },
  {
   "cell_type": "markdown",
   "id": "0f46f71c",
   "metadata": {},
   "source": [
    "## Definite Integrals\n",
    "\n",
    "You can specify the start and end points of an integral using triples."
   ]
  },
  {
   "cell_type": "code",
   "execution_count": 33,
   "id": "05ac0dfd",
   "metadata": {},
   "outputs": [
    {
     "data": {
      "text/latex": [
       "$\\displaystyle \\frac{1}{3}$"
      ],
      "text/plain": [
       "1/3"
      ]
     },
     "execution_count": 33,
     "metadata": {},
     "output_type": "execute_result"
    }
   ],
   "source": [
    "sympy.integrate(x**2,(x,0,1))"
   ]
  },
  {
   "cell_type": "code",
   "execution_count": 35,
   "id": "48baee09",
   "metadata": {},
   "outputs": [
    {
     "data": {
      "text/latex": [
       "$\\displaystyle \\frac{1}{9}$"
      ],
      "text/plain": [
       "1/9"
      ]
     },
     "execution_count": 35,
     "metadata": {},
     "output_type": "execute_result"
    }
   ],
   "source": [
    "sympy.integrate(x**2* y**2,(x,0,1),(y,0,1))"
   ]
  },
  {
   "cell_type": "code",
   "execution_count": 37,
   "id": "13e5bcfe",
   "metadata": {},
   "outputs": [
    {
     "data": {
      "text/latex": [
       "$\\displaystyle \\frac{\\pi}{2}$"
      ],
      "text/plain": [
       "pi/2"
      ]
     },
     "execution_count": 37,
     "metadata": {},
     "output_type": "execute_result"
    }
   ],
   "source": [
    "sympy.integrate(sympy.cos(x)**2,(x,0,sympy.pi))"
   ]
  },
  {
   "cell_type": "markdown",
   "id": "b97058ce",
   "metadata": {},
   "source": [
    "## Subs\n",
    "\n",
    "You can plug in a value for a variable using `subs`."
   ]
  },
  {
   "cell_type": "code",
   "execution_count": 41,
   "id": "7d370ea9",
   "metadata": {},
   "outputs": [],
   "source": [
    "r,exp = sympy.S('r,pi * r**2')"
   ]
  },
  {
   "cell_type": "code",
   "execution_count": 42,
   "id": "38e52f9a",
   "metadata": {},
   "outputs": [
    {
     "data": {
      "text/latex": [
       "$\\displaystyle \\pi r^{2}$"
      ],
      "text/plain": [
       "pi*r**2"
      ]
     },
     "execution_count": 42,
     "metadata": {},
     "output_type": "execute_result"
    }
   ],
   "source": [
    "exp"
   ]
  },
  {
   "cell_type": "code",
   "execution_count": 44,
   "id": "3eada478",
   "metadata": {},
   "outputs": [
    {
     "data": {
      "text/plain": [
       "314.1592653589793"
      ]
     },
     "execution_count": 44,
     "metadata": {},
     "output_type": "execute_result"
    }
   ],
   "source": [
    "float(exp.subs(r,10))"
   ]
  },
  {
   "cell_type": "markdown",
   "id": "12f2d9e5",
   "metadata": {},
   "source": [
    "## Your turn!\n",
    "\n",
    "We want to know how long it takes to fall a certain distance on a given astronomical body, ignoring atmospheric drag.\n",
    "\n",
    "Start with the equation $v= gt$ and use integration to determine the formula for distance and `solve` to get the value for $t$.  Let's do this for the earth, moon, and pluto.\n",
    "\n",
    "- $g_{earth} = 9.81 m/s^2$\n",
    "- $g_{moon} = 1.625 m/s^2$\n",
    "- $g_{pluto} = 0.618 m/s^2$\n",
    "\n",
    "Call it `timeToFall(planet,dist)`\n"
   ]
  },
  {
   "cell_type": "code",
   "execution_count": 45,
   "id": "43599214",
   "metadata": {},
   "outputs": [],
   "source": [
    "gravity = { 'earth': 9.81, 'moon': 1.625, 'pluto':0.618}"
   ]
  },
  {
   "cell_type": "code",
   "execution_count": 46,
   "id": "2f314242",
   "metadata": {},
   "outputs": [
    {
     "data": {
      "text/plain": [
       "dict_keys(['earth', 'moon', 'pluto'])"
      ]
     },
     "execution_count": 46,
     "metadata": {},
     "output_type": "execute_result"
    }
   ],
   "source": [
    "gravity.keys()"
   ]
  },
  {
   "cell_type": "code",
   "execution_count": 47,
   "id": "428406f0",
   "metadata": {},
   "outputs": [],
   "source": [
    "velocity = sympy.S('g * t')"
   ]
  },
  {
   "cell_type": "code",
   "execution_count": 48,
   "id": "fd7f77fd",
   "metadata": {},
   "outputs": [],
   "source": [
    "g,t = sympy.S('g,t')"
   ]
  },
  {
   "cell_type": "code",
   "execution_count": 49,
   "id": "e5b9f912",
   "metadata": {},
   "outputs": [],
   "source": [
    "dist = sympy.integrate(velocity,t)"
   ]
  },
  {
   "cell_type": "code",
   "execution_count": 50,
   "id": "83a96470",
   "metadata": {},
   "outputs": [
    {
     "data": {
      "text/latex": [
       "$\\displaystyle \\frac{g t^{2}}{2}$"
      ],
      "text/plain": [
       "g*t**2/2"
      ]
     },
     "execution_count": 50,
     "metadata": {},
     "output_type": "execute_result"
    }
   ],
   "source": [
    "dist"
   ]
  },
  {
   "cell_type": "code",
   "execution_count": 51,
   "id": "249aaa73",
   "metadata": {},
   "outputs": [
    {
     "data": {
      "text/plain": [
       "[-14.2784312292706, 14.2784312292706]"
      ]
     },
     "execution_count": 51,
     "metadata": {},
     "output_type": "execute_result"
    }
   ],
   "source": [
    "sympy.solve(sympy.Eq(dist.subs(g,9.81),1000))"
   ]
  },
  {
   "cell_type": "code",
   "execution_count": 54,
   "id": "31b527e8",
   "metadata": {},
   "outputs": [
    {
     "data": {
      "text/latex": [
       "$\\displaystyle 139.9887$"
      ],
      "text/plain": [
       "139.988700000000"
      ]
     },
     "execution_count": 54,
     "metadata": {},
     "output_type": "execute_result"
    }
   ],
   "source": [
    "velocity.subs(g,9.81).subs(t,14.27)"
   ]
  },
  {
   "cell_type": "code",
   "execution_count": 60,
   "id": "4eebcad3",
   "metadata": {},
   "outputs": [],
   "source": [
    "def timeToFall(planetoid,meters):\n",
    "    velocity = sympy.S('g * t')\n",
    "    dist = sympy.integrate(velocity,t)\n",
    "    if planetoid in gravity:\n",
    "        return sympy.solve(sympy.Eq(dist.subs(g,gravity[planetoid]),meters))\n",
    "    else:\n",
    "        raise ValueError('Planet ' + planetoid + ' is not in our database.')\n",
    "        "
   ]
  },
  {
   "cell_type": "code",
   "execution_count": 61,
   "id": "f0bf6a59",
   "metadata": {},
   "outputs": [
    {
     "data": {
      "text/plain": [
       "[-14.2784312292706, 14.2784312292706]"
      ]
     },
     "execution_count": 61,
     "metadata": {},
     "output_type": "execute_result"
    }
   ],
   "source": [
    "timeToFall('earth',1000)"
   ]
  },
  {
   "cell_type": "code",
   "execution_count": 62,
   "id": "93b7b79b",
   "metadata": {},
   "outputs": [
    {
     "data": {
      "text/plain": [
       "[-35.0823207722812, 35.0823207722812]"
      ]
     },
     "execution_count": 62,
     "metadata": {},
     "output_type": "execute_result"
    }
   ],
   "source": [
    "timeToFall('moon',1000)"
   ]
  },
  {
   "cell_type": "code",
   "execution_count": 63,
   "id": "5bdee196",
   "metadata": {},
   "outputs": [
    {
     "data": {
      "text/latex": [
       "$\\displaystyle 57.005$"
      ],
      "text/plain": [
       "57.0050000000000"
      ]
     },
     "execution_count": 63,
     "metadata": {},
     "output_type": "execute_result"
    }
   ],
   "source": [
    "velocity.subs(g,1.625).subs(t,35.08)"
   ]
  },
  {
   "cell_type": "code",
   "execution_count": 64,
   "id": "6f65c814",
   "metadata": {},
   "outputs": [
    {
     "data": {
      "text/plain": [
       "[-56.8880123988574, 56.8880123988574]"
      ]
     },
     "execution_count": 64,
     "metadata": {},
     "output_type": "execute_result"
    }
   ],
   "source": [
    "timeToFall('pluto',1000)"
   ]
  },
  {
   "cell_type": "code",
   "execution_count": 65,
   "id": "b0917e67",
   "metadata": {},
   "outputs": [
    {
     "data": {
      "text/latex": [
       "$\\displaystyle 35.55$"
      ],
      "text/plain": [
       "35.5500000000000"
      ]
     },
     "execution_count": 65,
     "metadata": {},
     "output_type": "execute_result"
    }
   ],
   "source": [
    "velocity.subs(g,0.625).subs(t,56.88)"
   ]
  },
  {
   "cell_type": "code",
   "execution_count": null,
   "id": "7c90489f",
   "metadata": {},
   "outputs": [],
   "source": []
  },
  {
   "cell_type": "code",
   "execution_count": null,
   "id": "34d2e93b",
   "metadata": {},
   "outputs": [],
   "source": []
  },
  {
   "cell_type": "code",
   "execution_count": null,
   "id": "a546a4a3",
   "metadata": {},
   "outputs": [],
   "source": []
  }
 ],
 "metadata": {
  "kernelspec": {
   "display_name": "Python 3",
   "language": "python",
   "name": "python3"
  },
  "language_info": {
   "codemirror_mode": {
    "name": "ipython",
    "version": 3
   },
   "file_extension": ".py",
   "mimetype": "text/x-python",
   "name": "python",
   "nbconvert_exporter": "python",
   "pygments_lexer": "ipython3",
   "version": "3.10.7"
  }
 },
 "nbformat": 4,
 "nbformat_minor": 5
}
