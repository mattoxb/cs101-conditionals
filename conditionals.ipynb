{
 "cells": [
  {
   "cell_type": "markdown",
   "id": "cf21ce0e",
   "metadata": {},
   "source": [
    "# CS 101 -- Conditionals\n",
    "\n",
    "Using Booleans to make decisions!"
   ]
  },
  {
   "cell_type": "markdown",
   "id": "5019082f",
   "metadata": {},
   "source": [
    "## True, False, and bool\n",
    "look at the `type`"
   ]
  },
  {
   "cell_type": "code",
   "execution_count": 26,
   "id": "4fa9e25b",
   "metadata": {},
   "outputs": [
    {
     "data": {
      "text/plain": [
       "True"
      ]
     },
     "execution_count": 26,
     "metadata": {},
     "output_type": "execute_result"
    }
   ],
   "source": [
    "True"
   ]
  },
  {
   "cell_type": "code",
   "execution_count": 27,
   "id": "d1fae145",
   "metadata": {},
   "outputs": [
    {
     "data": {
      "text/plain": [
       "False"
      ]
     },
     "execution_count": 27,
     "metadata": {},
     "output_type": "execute_result"
    }
   ],
   "source": [
    "False"
   ]
  },
  {
   "cell_type": "code",
   "execution_count": 28,
   "id": "86631c9d",
   "metadata": {},
   "outputs": [
    {
     "data": {
      "text/plain": [
       "bool"
      ]
     },
     "execution_count": 28,
     "metadata": {},
     "output_type": "execute_result"
    }
   ],
   "source": [
    "type(True)"
   ]
  },
  {
   "cell_type": "code",
   "execution_count": 29,
   "id": "2b8a603e",
   "metadata": {},
   "outputs": [
    {
     "data": {
      "text/plain": [
       "list"
      ]
     },
     "execution_count": 29,
     "metadata": {},
     "output_type": "execute_result"
    }
   ],
   "source": [
    "type([1,3,4])"
   ]
  },
  {
   "cell_type": "code",
   "execution_count": 30,
   "id": "37e7ff8f",
   "metadata": {},
   "outputs": [
    {
     "data": {
      "text/plain": [
       "False"
      ]
     },
     "execution_count": 30,
     "metadata": {},
     "output_type": "execute_result"
    }
   ],
   "source": [
    "3 > 20"
   ]
  },
  {
   "cell_type": "markdown",
   "id": "a9da65bd",
   "metadata": {},
   "source": [
    "### A Function to Look at"
   ]
  },
  {
   "cell_type": "code",
   "execution_count": 31,
   "id": "d21d6f58",
   "metadata": {},
   "outputs": [],
   "source": [
    "def mymax(a,b):\n",
    "    if a > b:\n",
    "        return a\n",
    "    elif a < b:\n",
    "        return b"
   ]
  },
  {
   "cell_type": "code",
   "execution_count": 32,
   "id": "18d30f84",
   "metadata": {},
   "outputs": [
    {
     "data": {
      "text/plain": [
       "20"
      ]
     },
     "execution_count": 32,
     "metadata": {},
     "output_type": "execute_result"
    }
   ],
   "source": [
    "mymax(10,20)"
   ]
  },
  {
   "cell_type": "code",
   "execution_count": 33,
   "id": "2c232241",
   "metadata": {},
   "outputs": [
    {
     "data": {
      "text/plain": [
       "20"
      ]
     },
     "execution_count": 33,
     "metadata": {},
     "output_type": "execute_result"
    }
   ],
   "source": [
    "mymax(20,3)"
   ]
  },
  {
   "cell_type": "code",
   "execution_count": 36,
   "id": "6941b089",
   "metadata": {},
   "outputs": [
    {
     "data": {
      "text/plain": [
       "NoneType"
      ]
     },
     "execution_count": 36,
     "metadata": {},
     "output_type": "execute_result"
    }
   ],
   "source": [
    "type(mymax(10,10))"
   ]
  },
  {
   "cell_type": "code",
   "execution_count": 39,
   "id": "2eb21e90",
   "metadata": {},
   "outputs": [
    {
     "ename": "TypeError",
     "evalue": "'>' not supported between instances of 'int' and 'NoneType'",
     "output_type": "error",
     "traceback": [
      "\u001b[0;31m---------------------------------------------------------------------------\u001b[0m",
      "\u001b[0;31mTypeError\u001b[0m                                 Traceback (most recent call last)",
      "Input \u001b[0;32mIn [39]\u001b[0m, in \u001b[0;36m<cell line: 1>\u001b[0;34m()\u001b[0m\n\u001b[0;32m----> 1\u001b[0m \u001b[38;5;241m10\u001b[39m \u001b[38;5;241m>\u001b[39m mymax(\u001b[38;5;241m10\u001b[39m,\u001b[38;5;241m10\u001b[39m)\n",
      "\u001b[0;31mTypeError\u001b[0m: '>' not supported between instances of 'int' and 'NoneType'"
     ]
    }
   ],
   "source": [
    "10 > mymax(10,10)"
   ]
  },
  {
   "cell_type": "code",
   "execution_count": null,
   "id": "22b74f42",
   "metadata": {},
   "outputs": [],
   "source": [
    "def mymax(a,b):\n",
    "    if a > b:\n",
    "        return a\n",
    "    elif a == b:\n",
    "        return a + b\n",
    "    else:\n",
    "        return b"
   ]
  },
  {
   "cell_type": "markdown",
   "id": "2ddd9953",
   "metadata": {},
   "source": [
    "### = is not ==, but Python's got your back!"
   ]
  },
  {
   "cell_type": "code",
   "execution_count": 40,
   "id": "85261e32",
   "metadata": {},
   "outputs": [],
   "source": [
    "x = 10"
   ]
  },
  {
   "cell_type": "code",
   "execution_count": 41,
   "id": "233317f2",
   "metadata": {},
   "outputs": [
    {
     "data": {
      "text/plain": [
       "True"
      ]
     },
     "execution_count": 41,
     "metadata": {},
     "output_type": "execute_result"
    }
   ],
   "source": [
    "x == 10"
   ]
  },
  {
   "cell_type": "code",
   "execution_count": 42,
   "id": "f55a92df",
   "metadata": {},
   "outputs": [
    {
     "ename": "SyntaxError",
     "evalue": "invalid syntax (3281563421.py, line 1)",
     "output_type": "error",
     "traceback": [
      "\u001b[0;36m  Input \u001b[0;32mIn [42]\u001b[0;36m\u001b[0m\n\u001b[0;31m    if x = 10:\u001b[0m\n\u001b[0m         ^\u001b[0m\n\u001b[0;31mSyntaxError\u001b[0m\u001b[0;31m:\u001b[0m invalid syntax\n"
     ]
    }
   ],
   "source": [
    "if x = 10:\n",
    "    print(\"It is!\")"
   ]
  },
  {
   "cell_type": "code",
   "execution_count": null,
   "id": "62fa398a",
   "metadata": {},
   "outputs": [],
   "source": []
  },
  {
   "cell_type": "markdown",
   "id": "cfd2b692",
   "metadata": {},
   "source": [
    "### Other things can be booleans!\n",
    "- Integers\n",
    "- Strings"
   ]
  },
  {
   "cell_type": "code",
   "execution_count": 43,
   "id": "07d5c719",
   "metadata": {},
   "outputs": [
    {
     "data": {
      "text/plain": [
       "False"
      ]
     },
     "execution_count": 43,
     "metadata": {},
     "output_type": "execute_result"
    }
   ],
   "source": [
    "True and False"
   ]
  },
  {
   "cell_type": "code",
   "execution_count": 44,
   "id": "a5855a3d",
   "metadata": {},
   "outputs": [
    {
     "data": {
      "text/plain": [
       "0"
      ]
     },
     "execution_count": 44,
     "metadata": {},
     "output_type": "execute_result"
    }
   ],
   "source": [
    "0 and 10"
   ]
  },
  {
   "cell_type": "code",
   "execution_count": 49,
   "id": "d18ad7d2",
   "metadata": {},
   "outputs": [
    {
     "data": {
      "text/plain": [
       "10"
      ]
     },
     "execution_count": 49,
     "metadata": {},
     "output_type": "execute_result"
    }
   ],
   "source": [
    "14 and 10"
   ]
  },
  {
   "cell_type": "markdown",
   "id": "2da3e4b3",
   "metadata": {},
   "source": [
    "### The equations for and with 'fake' booleans\n",
    "- `y and x == x`, if y is \"truthy\"\n",
    "- `y and x == y`, if y is \"falsy\"\n"
   ]
  },
  {
   "cell_type": "code",
   "execution_count": 46,
   "id": "21af7f42",
   "metadata": {},
   "outputs": [
    {
     "data": {
      "text/plain": [
       "'Hello'"
      ]
     },
     "execution_count": 46,
     "metadata": {},
     "output_type": "execute_result"
    }
   ],
   "source": [
    "0 or \"Hello\""
   ]
  },
  {
   "cell_type": "code",
   "execution_count": 48,
   "id": "b51bf24c",
   "metadata": {},
   "outputs": [
    {
     "data": {
      "text/plain": [
       "'What?'"
      ]
     },
     "execution_count": 48,
     "metadata": {},
     "output_type": "execute_result"
    }
   ],
   "source": [
    "\"\" or \"What?\""
   ]
  },
  {
   "cell_type": "markdown",
   "id": "ccd6b7fa",
   "metadata": {},
   "source": [
    "### Short Circuits!\n",
    "- Sort of like `if` inside an expression."
   ]
  },
  {
   "cell_type": "code",
   "execution_count": 50,
   "id": "0595d39a",
   "metadata": {},
   "outputs": [
    {
     "data": {
      "text/plain": [
       "0"
      ]
     },
     "execution_count": 50,
     "metadata": {},
     "output_type": "execute_result"
    }
   ],
   "source": [
    "0 and print(\"Hello\")"
   ]
  },
  {
   "cell_type": "code",
   "execution_count": 51,
   "id": "5bc6e118",
   "metadata": {},
   "outputs": [
    {
     "name": "stdout",
     "output_type": "stream",
     "text": [
      "Hello\n"
     ]
    }
   ],
   "source": [
    "1 and print(\"Hello\")"
   ]
  },
  {
   "cell_type": "code",
   "execution_count": 53,
   "id": "cd5b83e5",
   "metadata": {},
   "outputs": [
    {
     "name": "stdout",
     "output_type": "stream",
     "text": [
      "hi\n"
     ]
    }
   ],
   "source": [
    "n = 15\n",
    "print((n > 10 and \"hi\") or \"there\")"
   ]
  },
  {
   "cell_type": "markdown",
   "id": "8528b9a5",
   "metadata": {},
   "source": [
    "### Activity: write a safe(ish) division function \n",
    "- compute a/b; but if b is zero, return zero.\n",
    "- do it using `if` and try using short circuit evaluation."
   ]
  },
  {
   "cell_type": "code",
   "execution_count": 54,
   "id": "af60cfd1",
   "metadata": {},
   "outputs": [],
   "source": [
    "def divide(a,b):\n",
    "    return a/b"
   ]
  },
  {
   "cell_type": "code",
   "execution_count": 56,
   "id": "f9e96b05",
   "metadata": {},
   "outputs": [
    {
     "ename": "ZeroDivisionError",
     "evalue": "division by zero",
     "output_type": "error",
     "traceback": [
      "\u001b[0;31m---------------------------------------------------------------------------\u001b[0m",
      "\u001b[0;31mZeroDivisionError\u001b[0m                         Traceback (most recent call last)",
      "Input \u001b[0;32mIn [56]\u001b[0m, in \u001b[0;36m<cell line: 1>\u001b[0;34m()\u001b[0m\n\u001b[0;32m----> 1\u001b[0m divide(\u001b[38;5;241m10\u001b[39m,\u001b[38;5;241m0\u001b[39m)\n",
      "Input \u001b[0;32mIn [54]\u001b[0m, in \u001b[0;36mdivide\u001b[0;34m(a, b)\u001b[0m\n\u001b[1;32m      1\u001b[0m \u001b[38;5;28;01mdef\u001b[39;00m \u001b[38;5;21mdivide\u001b[39m(a,b):\n\u001b[0;32m----> 2\u001b[0m     \u001b[38;5;28;01mreturn\u001b[39;00m \u001b[43ma\u001b[49m\u001b[38;5;241;43m/\u001b[39;49m\u001b[43mb\u001b[49m\n",
      "\u001b[0;31mZeroDivisionError\u001b[0m: division by zero"
     ]
    }
   ],
   "source": [
    "divide(10,0)"
   ]
  },
  {
   "cell_type": "code",
   "execution_count": 58,
   "id": "fc1be482",
   "metadata": {},
   "outputs": [],
   "source": [
    "def sdiv1(a,b):\n",
    "    \"Returns a/b, but 0 if b==0\"\n",
    "    if b != 0:\n",
    "        return a/b\n",
    "    else:\n",
    "        return 0"
   ]
  },
  {
   "cell_type": "code",
   "execution_count": 59,
   "id": "98fb69fe",
   "metadata": {},
   "outputs": [],
   "source": [
    "def sdiv2(a,b):\n",
    "    \"Returns a/b, but 0 if b==0\"\n",
    "    return (b != 0 and a/b) or 0"
   ]
  },
  {
   "cell_type": "code",
   "execution_count": null,
   "id": "b5dd0913",
   "metadata": {},
   "outputs": [],
   "source": [
    "if x:\n",
    "    return True\n",
    "else:\n",
    "    return False\n",
    "\n",
    "return x"
   ]
  },
  {
   "cell_type": "markdown",
   "id": "232a2a89",
   "metadata": {},
   "source": [
    "### String Operations\n",
    "- replace\n",
    "- find\n",
    "- strip"
   ]
  },
  {
   "cell_type": "markdown",
   "id": "d4b34213",
   "metadata": {},
   "source": [
    "### String Formatting\n",
    "- f strings make it easy to embed stuff\n",
    "- Format codes can control padding, etc."
   ]
  },
  {
   "cell_type": "code",
   "execution_count": 60,
   "id": "97e793e7",
   "metadata": {},
   "outputs": [
    {
     "data": {
      "text/plain": [
       "'This is my format string.'"
      ]
     },
     "execution_count": 60,
     "metadata": {},
     "output_type": "execute_result"
    }
   ],
   "source": [
    "f\"This is my format string.\""
   ]
  },
  {
   "cell_type": "code",
   "execution_count": 61,
   "id": "f1221838",
   "metadata": {},
   "outputs": [
    {
     "data": {
      "text/plain": [
       "'The number n is 10.'"
      ]
     },
     "execution_count": 61,
     "metadata": {},
     "output_type": "execute_result"
    }
   ],
   "source": [
    "n = 10\n",
    "f\"The number n is {n}.\""
   ]
  },
  {
   "cell_type": "code",
   "execution_count": 62,
   "id": "d0f9a8a8",
   "metadata": {},
   "outputs": [
    {
     "data": {
      "text/plain": [
       "'---  10 ---'"
      ]
     },
     "execution_count": 62,
     "metadata": {},
     "output_type": "execute_result"
    }
   ],
   "source": [
    "f\"--- {n:3} ---\""
   ]
  },
  {
   "cell_type": "code",
   "execution_count": 64,
   "id": "416eb6d0",
   "metadata": {},
   "outputs": [
    {
     "data": {
      "text/plain": [
       "'--- 020 ---'"
      ]
     },
     "execution_count": 64,
     "metadata": {},
     "output_type": "execute_result"
    }
   ],
   "source": [
    "f\"--- {n + 10:03} ---\""
   ]
  },
  {
   "cell_type": "markdown",
   "id": "aa89e253",
   "metadata": {},
   "source": [
    "## Activity: write the rock, scissors, paper game!\n",
    "\n",
    "Ask the user for their choice, have the computer make a choice and announce who wins.\n",
    "\n",
    "Too easy?  Try this if you have time:\n",
    "- Make the computer cheat.\n",
    "- Make a two player version."
   ]
  },
  {
   "cell_type": "code",
   "execution_count": 65,
   "id": "d0d6dc9f",
   "metadata": {},
   "outputs": [
    {
     "data": {
      "text/plain": [
       "'Rock'"
      ]
     },
     "execution_count": 65,
     "metadata": {},
     "output_type": "execute_result"
    }
   ],
   "source": [
    "import random\n",
    "random.choice(['Rock','Scissors','Paper'])\n"
   ]
  },
  {
   "cell_type": "code",
   "execution_count": 69,
   "id": "7da6626f",
   "metadata": {},
   "outputs": [],
   "source": [
    "def play():\n",
    "    computer = random.choice(['Rock','Scissors','Paper'])\n",
    "    user = input('What is your choice?')\n",
    "    print(\"Computer picked\", computer)\n",
    "    if computer == 'Rock' and user == 'Scissors' or \\\n",
    "       computer == 'Paper' and user == 'Rock' or \\\n",
    "       computer == 'Scissors' and user == 'Paper':\n",
    "        print(\"Ha!  I win!\")\n",
    "    elif user == computer:\n",
    "        print(\"Oh, we tied.\")\n",
    "    else:\n",
    "        print(\"You win.  You must have cheated!\")\n",
    "        "
   ]
  },
  {
   "cell_type": "code",
   "execution_count": 70,
   "id": "fb7e50c6",
   "metadata": {},
   "outputs": [
    {
     "name": "stdout",
     "output_type": "stream",
     "text": [
      "What is your choice?Paper\n",
      "Computer picked Scissors\n",
      "Ha!  I win!\n"
     ]
    }
   ],
   "source": [
    "play()"
   ]
  },
  {
   "cell_type": "code",
   "execution_count": null,
   "id": "1a6724be",
   "metadata": {},
   "outputs": [],
   "source": []
  }
 ],
 "metadata": {
  "kernelspec": {
   "display_name": "Python 3",
   "language": "python",
   "name": "python3"
  },
  "language_info": {
   "codemirror_mode": {
    "name": "ipython",
    "version": 3
   },
   "file_extension": ".py",
   "mimetype": "text/x-python",
   "name": "python",
   "nbconvert_exporter": "python",
   "pygments_lexer": "ipython3",
   "version": "3.10.9"
  }
 },
 "nbformat": 4,
 "nbformat_minor": 5
}
