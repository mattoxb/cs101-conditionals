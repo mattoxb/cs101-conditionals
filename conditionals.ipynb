{
 "cells": [
  {
   "cell_type": "markdown",
   "id": "cf21ce0e",
   "metadata": {},
   "source": [
    "# CS 101 -- Conditionals\n",
    "\n",
    "Using Booleans to make decisions!"
   ]
  },
  {
   "cell_type": "markdown",
   "id": "f4ba071f",
   "metadata": {},
   "source": [
    "## True, False, and bool\n",
    "look at the `type`"
   ]
  },
  {
   "cell_type": "markdown",
   "id": "09438f68",
   "metadata": {},
   "source": [
    "### A Function to Look at"
   ]
  },
  {
   "cell_type": "code",
   "execution_count": 12,
   "id": "d21d6f58",
   "metadata": {},
   "outputs": [],
   "source": [
    "def mymax(a,b):\n",
    "    if a > b:\n",
    "        return a\n",
    "    elif a < b:\n",
    "        return b"
   ]
  },
  {
   "cell_type": "markdown",
   "id": "0189ff73",
   "metadata": {},
   "source": [
    "### = is not ==, but Python's got your back!"
   ]
  },
  {
   "cell_type": "markdown",
   "id": "f5d8b46e",
   "metadata": {},
   "source": [
    "### Other things can be booleans!\n",
    "- Integers\n",
    "- Strings"
   ]
  },
  {
   "cell_type": "markdown",
   "id": "2b31bbdd",
   "metadata": {},
   "source": [
    "### Short Circuits!\n",
    "- Sort of like `if` inside an expression."
   ]
  },
  {
   "cell_type": "markdown",
   "id": "8a59d799",
   "metadata": {},
   "source": [
    "### Activity: write a safe(ish) division function \n",
    "- compute a/b; but if b is zero, return zero.\n",
    "- do it using `if` and try using short circuit evaluation."
   ]
  },
  {
   "cell_type": "markdown",
   "id": "dd1ee13e",
   "metadata": {},
   "source": [
    "### String Operations\n",
    "- replace\n",
    "- find\n",
    "- strip"
   ]
  },
  {
   "cell_type": "markdown",
   "id": "80475213",
   "metadata": {},
   "source": [
    "### String Formatting\n",
    "- f strings make it easy to embed stuff\n",
    "- Format codes can control padding, etc."
   ]
  },
  {
   "cell_type": "markdown",
   "id": "485a48d4",
   "metadata": {},
   "source": [
    "## Activity: write the rock, scissors, paper game!\n",
    "\n",
    "Ask the user for their choice, have the computer make a choice and announce who wins.\n",
    "\n",
    "Too easy?  Try this if you have time:\n",
    "- Make the computer cheat.\n",
    "- Make a two player version."
   ]
  },
  {
   "cell_type": "code",
   "execution_count": 24,
   "id": "8124021d",
   "metadata": {},
   "outputs": [
    {
     "data": {
      "text/plain": [
       "'Scissors'"
      ]
     },
     "execution_count": 24,
     "metadata": {},
     "output_type": "execute_result"
    }
   ],
   "source": [
    "import random\n",
    "random.choice(['Rock','Scissors','Paper'])\n"
   ]
  }
 ],
 "metadata": {
  "kernelspec": {
   "display_name": "Python 3",
   "language": "python",
   "name": "python3"
  },
  "language_info": {
   "codemirror_mode": {
    "name": "ipython",
    "version": 3
   },
   "file_extension": ".py",
   "mimetype": "text/x-python",
   "name": "python",
   "nbconvert_exporter": "python",
   "pygments_lexer": "ipython3",
   "version": "3.9.13"
  }
 },
 "nbformat": 4,
 "nbformat_minor": 5
}
