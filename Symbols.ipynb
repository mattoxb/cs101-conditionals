{
 "cells": [
  {
   "cell_type": "code",
   "execution_count": 3,
   "id": "2b847051",
   "metadata": {},
   "outputs": [],
   "source": [
    "import sympy"
   ]
  },
  {
   "cell_type": "code",
   "execution_count": null,
   "id": "46c3fc97",
   "metadata": {},
   "outputs": [],
   "source": []
  },
  {
   "cell_type": "code",
   "execution_count": 4,
   "id": "33d6de53",
   "metadata": {},
   "outputs": [],
   "source": [
    "x = sympy.symbols('x')"
   ]
  },
  {
   "cell_type": "code",
   "execution_count": 5,
   "id": "1f6e9e0f",
   "metadata": {},
   "outputs": [
    {
     "data": {
      "text/latex": [
       "$\\displaystyle x$"
      ],
      "text/plain": [
       "x"
      ]
     },
     "execution_count": 5,
     "metadata": {},
     "output_type": "execute_result"
    }
   ],
   "source": [
    "x"
   ]
  },
  {
   "cell_type": "code",
   "execution_count": 9,
   "id": "79c463ac",
   "metadata": {},
   "outputs": [],
   "source": [
    "[a , b, c] = sympy.symbols('a b c')"
   ]
  },
  {
   "cell_type": "code",
   "execution_count": 10,
   "id": "af6c5a59",
   "metadata": {},
   "outputs": [
    {
     "data": {
      "text/latex": [
       "$\\displaystyle a$"
      ],
      "text/plain": [
       "a"
      ]
     },
     "execution_count": 10,
     "metadata": {},
     "output_type": "execute_result"
    }
   ],
   "source": [
    "a"
   ]
  },
  {
   "cell_type": "code",
   "execution_count": 11,
   "id": "c6a89876",
   "metadata": {},
   "outputs": [
    {
     "data": {
      "text/latex": [
       "$\\displaystyle a + b$"
      ],
      "text/plain": [
       "a + b"
      ]
     },
     "execution_count": 11,
     "metadata": {},
     "output_type": "execute_result"
    }
   ],
   "source": [
    "a + b"
   ]
  },
  {
   "cell_type": "code",
   "execution_count": 12,
   "id": "8d428b55",
   "metadata": {},
   "outputs": [
    {
     "data": {
      "text/latex": [
       "$\\displaystyle a + b + 30$"
      ],
      "text/plain": [
       "a + b + 30"
      ]
     },
     "execution_count": 12,
     "metadata": {},
     "output_type": "execute_result"
    }
   ],
   "source": [
    "a + b + 30 "
   ]
  },
  {
   "cell_type": "code",
   "execution_count": 13,
   "id": "a600d244",
   "metadata": {},
   "outputs": [
    {
     "data": {
      "text/latex": [
       "$\\displaystyle a^{4}$"
      ],
      "text/plain": [
       "a**4"
      ]
     },
     "execution_count": 13,
     "metadata": {},
     "output_type": "execute_result"
    }
   ],
   "source": [
    "a ** 4"
   ]
  },
  {
   "cell_type": "code",
   "execution_count": 15,
   "id": "4ce759ab",
   "metadata": {},
   "outputs": [
    {
     "data": {
      "text/plain": [
       "[-sqrt(10)*I, sqrt(10)*I]"
      ]
     },
     "execution_count": 15,
     "metadata": {},
     "output_type": "execute_result"
    }
   ],
   "source": [
    "sympy.solve(a ** 2  + 10 , a)"
   ]
  },
  {
   "cell_type": "code",
   "execution_count": 16,
   "id": "02eaae3d",
   "metadata": {},
   "outputs": [
    {
     "data": {
      "text/plain": [
       "sympy.core.symbol.Symbol"
      ]
     },
     "execution_count": 16,
     "metadata": {},
     "output_type": "execute_result"
    }
   ],
   "source": [
    "type(a)"
   ]
  },
  {
   "cell_type": "code",
   "execution_count": 17,
   "id": "9eef274a",
   "metadata": {},
   "outputs": [
    {
     "data": {
      "text/latex": [
       "$\\displaystyle 2 x$"
      ],
      "text/plain": [
       "2*x"
      ]
     },
     "execution_count": 17,
     "metadata": {},
     "output_type": "execute_result"
    }
   ],
   "source": [
    "x + x"
   ]
  },
  {
   "cell_type": "code",
   "execution_count": 18,
   "id": "26792607",
   "metadata": {},
   "outputs": [
    {
     "data": {
      "text/plain": [
       "False"
      ]
     },
     "execution_count": 18,
     "metadata": {},
     "output_type": "execute_result"
    }
   ],
   "source": [
    "2 * x == 10"
   ]
  },
  {
   "cell_type": "code",
   "execution_count": 19,
   "id": "4f111ee6",
   "metadata": {},
   "outputs": [
    {
     "data": {
      "text/plain": [
       "True"
      ]
     },
     "execution_count": 19,
     "metadata": {},
     "output_type": "execute_result"
    }
   ],
   "source": [
    "2 * x == x + x"
   ]
  },
  {
   "cell_type": "code",
   "execution_count": 20,
   "id": "21a4d138",
   "metadata": {},
   "outputs": [
    {
     "data": {
      "text/plain": [
       "[]"
      ]
     },
     "execution_count": 20,
     "metadata": {},
     "output_type": "execute_result"
    }
   ],
   "source": [
    "sympy.solve(2 * x + 10 == 10)"
   ]
  },
  {
   "cell_type": "code",
   "execution_count": 21,
   "id": "39a0a7c8",
   "metadata": {},
   "outputs": [
    {
     "data": {
      "text/plain": [
       "False"
      ]
     },
     "execution_count": 21,
     "metadata": {},
     "output_type": "execute_result"
    }
   ],
   "source": [
    "2 * x + 10 == 10 "
   ]
  },
  {
   "cell_type": "code",
   "execution_count": 25,
   "id": "508adc6d",
   "metadata": {},
   "outputs": [
    {
     "data": {
      "text/plain": [
       "[-5*sqrt(2), 5*sqrt(2)]"
      ]
     },
     "execution_count": 25,
     "metadata": {},
     "output_type": "execute_result"
    }
   ],
   "source": [
    "sympy.solve(sympy.Eq(2 * x**2 + 10,110))"
   ]
  },
  {
   "cell_type": "code",
   "execution_count": 26,
   "id": "51e6b2b4",
   "metadata": {},
   "outputs": [],
   "source": [
    "import math"
   ]
  },
  {
   "cell_type": "code",
   "execution_count": 27,
   "id": "7cd87904",
   "metadata": {},
   "outputs": [
    {
     "data": {
      "text/plain": [
       "0.0"
      ]
     },
     "execution_count": 27,
     "metadata": {},
     "output_type": "execute_result"
    }
   ],
   "source": [
    "math.sin(0)"
   ]
  },
  {
   "cell_type": "code",
   "execution_count": 30,
   "id": "f95498a1",
   "metadata": {},
   "outputs": [
    {
     "data": {
      "text/latex": [
       "$\\displaystyle \\sin{\\left(x \\right)}$"
      ],
      "text/plain": [
       "sin(x)"
      ]
     },
     "execution_count": 30,
     "metadata": {},
     "output_type": "execute_result"
    }
   ],
   "source": [
    "sympy.sin(x)"
   ]
  },
  {
   "cell_type": "code",
   "execution_count": 32,
   "id": "dd38062c",
   "metadata": {},
   "outputs": [
    {
     "data": {
      "text/plain": [
       "[-I*log(1 + sqrt(2)),\n",
       " I*log(1 + sqrt(2)),\n",
       " pi - I*log(1 + sqrt(2)),\n",
       " pi + I*log(1 + sqrt(2))]"
      ]
     },
     "execution_count": 32,
     "metadata": {},
     "output_type": "execute_result"
    }
   ],
   "source": [
    "sympy.solve(sympy.sin(x)**2+1,x)"
   ]
  },
  {
   "cell_type": "code",
   "execution_count": 33,
   "id": "a1a1aa27",
   "metadata": {},
   "outputs": [],
   "source": [
    "f1 = sympy.S('1/10')"
   ]
  },
  {
   "cell_type": "code",
   "execution_count": 34,
   "id": "dc5048c1",
   "metadata": {},
   "outputs": [
    {
     "data": {
      "text/latex": [
       "$\\displaystyle \\frac{1}{10}$"
      ],
      "text/plain": [
       "1/10"
      ]
     },
     "execution_count": 34,
     "metadata": {},
     "output_type": "execute_result"
    }
   ],
   "source": [
    "f1"
   ]
  },
  {
   "cell_type": "code",
   "execution_count": 36,
   "id": "6ed4992a",
   "metadata": {},
   "outputs": [],
   "source": [
    "f2 = sympy.S('x / 20')"
   ]
  },
  {
   "cell_type": "code",
   "execution_count": 37,
   "id": "32a92ef8",
   "metadata": {},
   "outputs": [
    {
     "data": {
      "text/latex": [
       "$\\displaystyle \\frac{x}{20} + \\frac{1}{10}$"
      ],
      "text/plain": [
       "x/20 + 1/10"
      ]
     },
     "execution_count": 37,
     "metadata": {},
     "output_type": "execute_result"
    }
   ],
   "source": [
    "f1 + f2"
   ]
  },
  {
   "cell_type": "code",
   "execution_count": 38,
   "id": "0389846f",
   "metadata": {},
   "outputs": [
    {
     "data": {
      "text/latex": [
       "$\\displaystyle \\frac{x + 2}{20}$"
      ],
      "text/plain": [
       "(x + 2)/20"
      ]
     },
     "execution_count": 38,
     "metadata": {},
     "output_type": "execute_result"
    }
   ],
   "source": [
    "sympy.together(f1 + f2)"
   ]
  },
  {
   "cell_type": "code",
   "execution_count": 41,
   "id": "25335039",
   "metadata": {},
   "outputs": [
    {
     "data": {
      "text/latex": [
       "$\\displaystyle a \\left(x + 1\\right) + x^{2}$"
      ],
      "text/plain": [
       "a*(x + 1) + x**2"
      ]
     },
     "execution_count": 41,
     "metadata": {},
     "output_type": "execute_result"
    }
   ],
   "source": [
    "sympy.factor(x ** 2 + a * x + a,a)"
   ]
  },
  {
   "cell_type": "code",
   "execution_count": 47,
   "id": "2f7e474a",
   "metadata": {},
   "outputs": [
    {
     "name": "stdout",
     "output_type": "stream",
     "text": [
      "    2.3 |                                                    ...\n",
      "        |                                                 ...   \n",
      "        |                                             ....      \n",
      "        |                                           ..          \n",
      "        |                                        ...            \n",
      "        |                                      ..               \n",
      "        |                                     /                 \n",
      "        |                                   ..                  \n",
      "        |                                  /                    \n",
      "        |                                 /                     \n",
      "   0.65 |--------------------------------.----------------------\n",
      "        |                                                       \n",
      "        |                               .                       \n",
      "        |                              .                        \n",
      "        |                                                       \n",
      "        |                                                       \n",
      "        |                             .                         \n",
      "        |                                                       \n",
      "        |                                                       \n",
      "        |                                                       \n",
      "     -1 |_______________________________________________________\n",
      "         -10                        0                          10\n"
     ]
    },
    {
     "data": {
      "text/plain": [
       "<sympy.plotting.plot.Plot at 0x7ff19488df30>"
      ]
     },
     "execution_count": 47,
     "metadata": {},
     "output_type": "execute_result"
    }
   ],
   "source": [
    "sympy.plot(sympy.log(x))"
   ]
  },
  {
   "cell_type": "code",
   "execution_count": 49,
   "id": "999ce975",
   "metadata": {},
   "outputs": [],
   "source": [
    "y  = sympy.S('y')"
   ]
  },
  {
   "cell_type": "code",
   "execution_count": 52,
   "id": "4853c100",
   "metadata": {},
   "outputs": [
    {
     "data": {
      "text/plain": [
       "{x: 55/14, y: 5/7}"
      ]
     },
     "execution_count": 52,
     "metadata": {},
     "output_type": "execute_result"
    }
   ],
   "source": [
    "sympy.solve( [ sympy.Eq(2 * x + 3 * y, 10), sympy.Eq(4 * x - 8 * y , 10)])"
   ]
  },
  {
   "cell_type": "code",
   "execution_count": 53,
   "id": "90813120",
   "metadata": {},
   "outputs": [
    {
     "data": {
      "text/plain": [
       "[{x: 5*y/3}]"
      ]
     },
     "execution_count": 53,
     "metadata": {},
     "output_type": "execute_result"
    }
   ],
   "source": [
    "sympy.solve( sympy.Eq( 2 * x + 3 * y , 5 * x - 2 * y))"
   ]
  },
  {
   "cell_type": "code",
   "execution_count": 67,
   "id": "303a5d50",
   "metadata": {},
   "outputs": [],
   "source": [
    "def howManyZeros(eqn):\n",
    "    return len(sympy.solve(sympy.S(eqn)))"
   ]
  },
  {
   "cell_type": "code",
   "execution_count": 59,
   "id": "04c29583",
   "metadata": {},
   "outputs": [
    {
     "data": {
      "text/latex": [
       "$\\displaystyle x^{2} + 2 x - 10$"
      ],
      "text/plain": [
       "x**2 + 2*x - 10"
      ]
     },
     "execution_count": 59,
     "metadata": {},
     "output_type": "execute_result"
    }
   ],
   "source": [
    "sympy.S('2 * x + x ^ 2 - 10')"
   ]
  },
  {
   "cell_type": "code",
   "execution_count": 62,
   "id": "887759e9",
   "metadata": {},
   "outputs": [
    {
     "data": {
      "text/plain": [
       "[-1 + sqrt(11), -sqrt(11) - 1]"
      ]
     },
     "execution_count": 62,
     "metadata": {},
     "output_type": "execute_result"
    }
   ],
   "source": [
    "sympy.solve(sympy.S('2 * x + x ^ 2 - 10'))"
   ]
  },
  {
   "cell_type": "code",
   "execution_count": 68,
   "id": "50365311",
   "metadata": {},
   "outputs": [
    {
     "data": {
      "text/plain": [
       "2"
      ]
     },
     "execution_count": 68,
     "metadata": {},
     "output_type": "execute_result"
    }
   ],
   "source": [
    "howManyZeros('x ** 2 - 10 * x + 5')"
   ]
  },
  {
   "cell_type": "code",
   "execution_count": null,
   "id": "5c35bac0",
   "metadata": {},
   "outputs": [],
   "source": []
  },
  {
   "cell_type": "code",
   "execution_count": null,
   "id": "81e8a2b1",
   "metadata": {},
   "outputs": [],
   "source": []
  },
  {
   "cell_type": "code",
   "execution_count": null,
   "id": "b6ffafe4",
   "metadata": {},
   "outputs": [],
   "source": []
  },
  {
   "cell_type": "code",
   "execution_count": null,
   "id": "096d8996",
   "metadata": {},
   "outputs": [],
   "source": []
  },
  {
   "cell_type": "code",
   "execution_count": null,
   "id": "f8b53113",
   "metadata": {},
   "outputs": [],
   "source": []
  },
  {
   "cell_type": "code",
   "execution_count": null,
   "id": "b864d9b9",
   "metadata": {},
   "outputs": [],
   "source": []
  },
  {
   "cell_type": "code",
   "execution_count": null,
   "id": "54015dfc",
   "metadata": {},
   "outputs": [],
   "source": []
  },
  {
   "cell_type": "code",
   "execution_count": null,
   "id": "7bf3ee73",
   "metadata": {},
   "outputs": [],
   "source": []
  },
  {
   "cell_type": "code",
   "execution_count": null,
   "id": "e03958a3",
   "metadata": {},
   "outputs": [],
   "source": []
  },
  {
   "cell_type": "code",
   "execution_count": null,
   "id": "adc7847b",
   "metadata": {},
   "outputs": [],
   "source": []
  },
  {
   "cell_type": "code",
   "execution_count": null,
   "id": "53e77614",
   "metadata": {},
   "outputs": [],
   "source": []
  },
  {
   "cell_type": "code",
   "execution_count": null,
   "id": "87e80d81",
   "metadata": {},
   "outputs": [],
   "source": []
  },
  {
   "cell_type": "code",
   "execution_count": null,
   "id": "21adada3",
   "metadata": {},
   "outputs": [],
   "source": []
  },
  {
   "cell_type": "code",
   "execution_count": null,
   "id": "75ac2f3e",
   "metadata": {},
   "outputs": [],
   "source": []
  },
  {
   "cell_type": "code",
   "execution_count": null,
   "id": "1aa34459",
   "metadata": {},
   "outputs": [],
   "source": []
  },
  {
   "cell_type": "code",
   "execution_count": null,
   "id": "230d6606",
   "metadata": {},
   "outputs": [],
   "source": []
  },
  {
   "cell_type": "code",
   "execution_count": null,
   "id": "7af7066c",
   "metadata": {},
   "outputs": [],
   "source": []
  },
  {
   "cell_type": "code",
   "execution_count": null,
   "id": "cf793046",
   "metadata": {},
   "outputs": [],
   "source": []
  },
  {
   "cell_type": "code",
   "execution_count": null,
   "id": "a40df6ae",
   "metadata": {},
   "outputs": [],
   "source": []
  },
  {
   "cell_type": "code",
   "execution_count": null,
   "id": "097ec823",
   "metadata": {},
   "outputs": [],
   "source": []
  },
  {
   "cell_type": "code",
   "execution_count": null,
   "id": "b1142e46",
   "metadata": {},
   "outputs": [],
   "source": []
  },
  {
   "cell_type": "code",
   "execution_count": null,
   "id": "1f4717cf",
   "metadata": {},
   "outputs": [],
   "source": []
  },
  {
   "cell_type": "code",
   "execution_count": null,
   "id": "10a98be0",
   "metadata": {},
   "outputs": [],
   "source": []
  },
  {
   "cell_type": "code",
   "execution_count": null,
   "id": "70166987",
   "metadata": {},
   "outputs": [],
   "source": []
  },
  {
   "cell_type": "code",
   "execution_count": null,
   "id": "f82aa68d",
   "metadata": {},
   "outputs": [],
   "source": []
  },
  {
   "cell_type": "code",
   "execution_count": null,
   "id": "398db6c4",
   "metadata": {},
   "outputs": [],
   "source": []
  },
  {
   "cell_type": "code",
   "execution_count": null,
   "id": "45cc9f39",
   "metadata": {},
   "outputs": [],
   "source": []
  },
  {
   "cell_type": "code",
   "execution_count": null,
   "id": "99eb82bc",
   "metadata": {},
   "outputs": [],
   "source": []
  },
  {
   "cell_type": "code",
   "execution_count": null,
   "id": "8ebb69ae",
   "metadata": {},
   "outputs": [],
   "source": []
  },
  {
   "cell_type": "code",
   "execution_count": null,
   "id": "69872f57",
   "metadata": {},
   "outputs": [],
   "source": []
  }
 ],
 "metadata": {
  "kernelspec": {
   "display_name": "Python 3",
   "language": "python",
   "name": "python3"
  },
  "language_info": {
   "codemirror_mode": {
    "name": "ipython",
    "version": 3
   },
   "file_extension": ".py",
   "mimetype": "text/x-python",
   "name": "python",
   "nbconvert_exporter": "python",
   "pygments_lexer": "ipython3",
   "version": "3.10.6"
  }
 },
 "nbformat": 4,
 "nbformat_minor": 5
}
