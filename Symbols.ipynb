{
 "cells": [
  {
   "cell_type": "markdown",
   "id": "001a1f01",
   "metadata": {},
   "source": [
    "# Symbols!\n",
    "\n",
    "Announcements:\n",
    "- Lessons 7,8 due today\n",
    "- HW 3 due Monday\n",
    "- Midterm 1 starts tomorrow!\n",
    "\n",
    "Today's Music:\n",
    "- Door Into Summer, Jacob's Trouble; cover of the Monkey's song"
   ]
  },
  {
   "cell_type": "code",
   "execution_count": 1,
   "id": "e33512c4",
   "metadata": {},
   "outputs": [],
   "source": [
    "import sympy"
   ]
  },
  {
   "cell_type": "code",
   "execution_count": 2,
   "id": "ed1d9dcf",
   "metadata": {},
   "outputs": [],
   "source": [
    "import matplotlib"
   ]
  },
  {
   "cell_type": "code",
   "execution_count": 3,
   "id": "b89a9a60",
   "metadata": {},
   "outputs": [],
   "source": [
    "x = 10"
   ]
  },
  {
   "cell_type": "code",
   "execution_count": 4,
   "id": "3b96ec8b",
   "metadata": {},
   "outputs": [
    {
     "ename": "SyntaxError",
     "evalue": "cannot assign to expression here. Maybe you meant '==' instead of '='? (3597255088.py, line 1)",
     "output_type": "error",
     "traceback": [
      "\u001b[0;36m  Input \u001b[0;32mIn [4]\u001b[0;36m\u001b[0m\n\u001b[0;31m    x + 2 = 10\u001b[0m\n\u001b[0m    ^\u001b[0m\n\u001b[0;31mSyntaxError\u001b[0m\u001b[0;31m:\u001b[0m cannot assign to expression here. Maybe you meant '==' instead of '='?\n"
     ]
    }
   ],
   "source": [
    "x + 2 = 10"
   ]
  },
  {
   "cell_type": "code",
   "execution_count": 5,
   "id": "ec9332e4",
   "metadata": {},
   "outputs": [
    {
     "data": {
      "text/plain": [
       "False"
      ]
     },
     "execution_count": 5,
     "metadata": {},
     "output_type": "execute_result"
    }
   ],
   "source": [
    "x + 2 == 10"
   ]
  },
  {
   "cell_type": "code",
   "execution_count": 6,
   "id": "9d8b89c1",
   "metadata": {},
   "outputs": [],
   "source": [
    "x = sympy.symbols('x')"
   ]
  },
  {
   "cell_type": "code",
   "execution_count": 7,
   "id": "09bfb1c4",
   "metadata": {},
   "outputs": [
    {
     "data": {
      "text/latex": [
       "$\\displaystyle x$"
      ],
      "text/plain": [
       "x"
      ]
     },
     "execution_count": 7,
     "metadata": {},
     "output_type": "execute_result"
    }
   ],
   "source": [
    "x"
   ]
  },
  {
   "cell_type": "code",
   "execution_count": 8,
   "id": "4bbb3789",
   "metadata": {},
   "outputs": [],
   "source": [
    "[a,b,c] = sympy.symbols('a b c')"
   ]
  },
  {
   "cell_type": "code",
   "execution_count": 9,
   "id": "f3d0bdee",
   "metadata": {},
   "outputs": [
    {
     "data": {
      "text/latex": [
       "$\\displaystyle a$"
      ],
      "text/plain": [
       "a"
      ]
     },
     "execution_count": 9,
     "metadata": {},
     "output_type": "execute_result"
    }
   ],
   "source": [
    "a"
   ]
  },
  {
   "cell_type": "code",
   "execution_count": 10,
   "id": "10c5ce62",
   "metadata": {},
   "outputs": [
    {
     "data": {
      "text/latex": [
       "$\\displaystyle a + b$"
      ],
      "text/plain": [
       "a + b"
      ]
     },
     "execution_count": 10,
     "metadata": {},
     "output_type": "execute_result"
    }
   ],
   "source": [
    "a + b "
   ]
  },
  {
   "cell_type": "code",
   "execution_count": 11,
   "id": "891ae9c7",
   "metadata": {},
   "outputs": [
    {
     "data": {
      "text/latex": [
       "$\\displaystyle a + 30$"
      ],
      "text/plain": [
       "a + 30"
      ]
     },
     "execution_count": 11,
     "metadata": {},
     "output_type": "execute_result"
    }
   ],
   "source": [
    "a + 30"
   ]
  },
  {
   "cell_type": "code",
   "execution_count": 12,
   "id": "aac3008a",
   "metadata": {},
   "outputs": [
    {
     "data": {
      "text/latex": [
       "$\\displaystyle a^{4}$"
      ],
      "text/plain": [
       "a**4"
      ]
     },
     "execution_count": 12,
     "metadata": {},
     "output_type": "execute_result"
    }
   ],
   "source": [
    "a ** 4"
   ]
  },
  {
   "cell_type": "code",
   "execution_count": 13,
   "id": "d04bf7ef",
   "metadata": {},
   "outputs": [
    {
     "data": {
      "text/plain": [
       "True"
      ]
     },
     "execution_count": 13,
     "metadata": {},
     "output_type": "execute_result"
    }
   ],
   "source": [
    "2 * x == x + x"
   ]
  },
  {
   "cell_type": "code",
   "execution_count": 14,
   "id": "e0cf8c12",
   "metadata": {},
   "outputs": [
    {
     "data": {
      "text/plain": [
       "True"
      ]
     },
     "execution_count": 14,
     "metadata": {},
     "output_type": "execute_result"
    }
   ],
   "source": [
    "x + a == a + x"
   ]
  },
  {
   "cell_type": "code",
   "execution_count": 15,
   "id": "309acaa4",
   "metadata": {},
   "outputs": [
    {
     "ename": "SyntaxError",
     "evalue": "invalid syntax (1432706681.py, line 1)",
     "output_type": "error",
     "traceback": [
      "\u001b[0;36m  Input \u001b[0;32mIn [15]\u001b[0;36m\u001b[0m\n\u001b[0;31m    2 x == 10\u001b[0m\n\u001b[0m      ^\u001b[0m\n\u001b[0;31mSyntaxError\u001b[0m\u001b[0;31m:\u001b[0m invalid syntax\n"
     ]
    }
   ],
   "source": [
    "2 x == 10"
   ]
  },
  {
   "cell_type": "code",
   "execution_count": 16,
   "id": "57d0bc21",
   "metadata": {},
   "outputs": [
    {
     "data": {
      "text/plain": [
       "False"
      ]
     },
     "execution_count": 16,
     "metadata": {},
     "output_type": "execute_result"
    }
   ],
   "source": [
    "2 * x == 10"
   ]
  },
  {
   "cell_type": "code",
   "execution_count": 17,
   "id": "c96c7a51",
   "metadata": {},
   "outputs": [
    {
     "data": {
      "text/plain": [
       "[]"
      ]
     },
     "execution_count": 17,
     "metadata": {},
     "output_type": "execute_result"
    }
   ],
   "source": [
    "sympy.solve(2 * x == 10)"
   ]
  },
  {
   "cell_type": "code",
   "execution_count": 18,
   "id": "66ba8ba6",
   "metadata": {},
   "outputs": [
    {
     "data": {
      "text/plain": [
       "[5]"
      ]
     },
     "execution_count": 18,
     "metadata": {},
     "output_type": "execute_result"
    }
   ],
   "source": [
    "sympy.solve(sympy.Eq(2 * x,10))"
   ]
  },
  {
   "cell_type": "code",
   "execution_count": 19,
   "id": "5443ba46",
   "metadata": {},
   "outputs": [
    {
     "data": {
      "text/plain": [
       "[-sqrt(5), sqrt(5)]"
      ]
     },
     "execution_count": 19,
     "metadata": {},
     "output_type": "execute_result"
    }
   ],
   "source": [
    "sympy.solve(sympy.Eq(x ** 2,5))"
   ]
  },
  {
   "cell_type": "code",
   "execution_count": 20,
   "id": "bf0ba171",
   "metadata": {},
   "outputs": [
    {
     "ename": "NameError",
     "evalue": "name 'sin' is not defined",
     "output_type": "error",
     "traceback": [
      "\u001b[0;31m---------------------------------------------------------------------------\u001b[0m",
      "\u001b[0;31mNameError\u001b[0m                                 Traceback (most recent call last)",
      "Input \u001b[0;32mIn [20]\u001b[0m, in \u001b[0;36m<cell line: 1>\u001b[0;34m()\u001b[0m\n\u001b[0;32m----> 1\u001b[0m sin(x)\n",
      "\u001b[0;31mNameError\u001b[0m: name 'sin' is not defined"
     ]
    }
   ],
   "source": [
    "sin(x)"
   ]
  },
  {
   "cell_type": "code",
   "execution_count": 21,
   "id": "1ef911a0",
   "metadata": {},
   "outputs": [
    {
     "data": {
      "text/latex": [
       "$\\displaystyle \\sin{\\left(x \\right)}$"
      ],
      "text/plain": [
       "sin(x)"
      ]
     },
     "execution_count": 21,
     "metadata": {},
     "output_type": "execute_result"
    }
   ],
   "source": [
    "sympy.sin(x)"
   ]
  },
  {
   "cell_type": "code",
   "execution_count": 23,
   "id": "a1cce1f0",
   "metadata": {},
   "outputs": [
    {
     "data": {
      "text/plain": [
       "[1.5707963267949 - 0.622362503714779*I, 1.5707963267949 + 0.622362503714779*I]"
      ]
     },
     "execution_count": 23,
     "metadata": {},
     "output_type": "execute_result"
    }
   ],
   "source": [
    "sympy.solve(sympy.Eq(sympy.sin(x),1.2))"
   ]
  },
  {
   "cell_type": "code",
   "execution_count": 25,
   "id": "9e297723",
   "metadata": {},
   "outputs": [],
   "source": [
    "y = sympy.S('y')"
   ]
  },
  {
   "cell_type": "code",
   "execution_count": 29,
   "id": "dd7914f8",
   "metadata": {},
   "outputs": [
    {
     "data": {
      "text/plain": [
       "[{x: pi - asin(1/tan(y))}, {x: asin(1/tan(y))}]"
      ]
     },
     "execution_count": 29,
     "metadata": {},
     "output_type": "execute_result"
    }
   ],
   "source": [
    "sympy.solve(sympy.Eq(sympy.sin(y)*sympy.sin(x),sympy.cos(y)))"
   ]
  },
  {
   "cell_type": "code",
   "execution_count": 30,
   "id": "30555a69",
   "metadata": {},
   "outputs": [
    {
     "name": "stdout",
     "output_type": "stream",
     "text": [
      "\n",
      "    An equal relation between two objects.\n",
      "\n",
      "    Explanation\n",
      "    ===========\n",
      "\n",
      "    Represents that two objects are equal.  If they can be easily shown\n",
      "    to be definitively equal (or unequal), this will reduce to True (or\n",
      "    False).  Otherwise, the relation is maintained as an unevaluated\n",
      "    Equality object.  Use the ``simplify`` function on this object for\n",
      "    more nontrivial evaluation of the equality relation.\n",
      "\n",
      "    As usual, the keyword argument ``evaluate=False`` can be used to\n",
      "    prevent any evaluation.\n",
      "\n",
      "    Examples\n",
      "    ========\n",
      "\n",
      "    >>> from sympy import Eq, simplify, exp, cos\n",
      "    >>> from sympy.abc import x, y\n",
      "    >>> Eq(y, x + x**2)\n",
      "    Eq(y, x**2 + x)\n",
      "    >>> Eq(2, 5)\n",
      "    False\n",
      "    >>> Eq(2, 5, evaluate=False)\n",
      "    Eq(2, 5)\n",
      "    >>> _.doit()\n",
      "    False\n",
      "    >>> Eq(exp(x), exp(x).rewrite(cos))\n",
      "    Eq(exp(x), sinh(x) + cosh(x))\n",
      "    >>> simplify(_)\n",
      "    True\n",
      "\n",
      "    See Also\n",
      "    ========\n",
      "\n",
      "    sympy.logic.boolalg.Equivalent : for representing equality between two\n",
      "        boolean expressions\n",
      "\n",
      "    Notes\n",
      "    =====\n",
      "\n",
      "    Python treats 1 and True (and 0 and False) as being equal; SymPy\n",
      "    does not. And integer will always compare as unequal to a Boolean:\n",
      "\n",
      "    >>> Eq(True, 1), True == 1\n",
      "    (False, True)\n",
      "\n",
      "    This class is not the same as the == operator.  The == operator tests\n",
      "    for exact structural equality between two expressions; this class\n",
      "    compares expressions mathematically.\n",
      "\n",
      "    If either object defines an ``_eval_Eq`` method, it can be used in place of\n",
      "    the default algorithm.  If ``lhs._eval_Eq(rhs)`` or ``rhs._eval_Eq(lhs)``\n",
      "    returns anything other than None, that return value will be substituted for\n",
      "    the Equality.  If None is returned by ``_eval_Eq``, an Equality object will\n",
      "    be created as usual.\n",
      "\n",
      "    Since this object is already an expression, it does not respond to\n",
      "    the method ``as_expr`` if one tries to create `x - y` from ``Eq(x, y)``.\n",
      "    This can be done with the ``rewrite(Add)`` method.\n",
      "\n",
      "    .. deprecated:: 1.5\n",
      "\n",
      "       ``Eq(expr)`` with a single argument is a shorthand for ``Eq(expr, 0)``,\n",
      "       but this behavior is deprecated and will be removed in a future version\n",
      "       of SymPy.\n",
      "\n",
      "    \n"
     ]
    }
   ],
   "source": [
    "print(sympy.Eq.__doc__)"
   ]
  },
  {
   "cell_type": "code",
   "execution_count": 31,
   "id": "c3a1d6c6",
   "metadata": {},
   "outputs": [
    {
     "data": {
      "text/plain": [
       "sympy.core.symbol.Symbol"
      ]
     },
     "execution_count": 31,
     "metadata": {},
     "output_type": "execute_result"
    }
   ],
   "source": [
    "type(x)"
   ]
  },
  {
   "cell_type": "code",
   "execution_count": 32,
   "id": "51af54c7",
   "metadata": {},
   "outputs": [
    {
     "data": {
      "text/plain": [
       "sympy.core.symbol.Symbol"
      ]
     },
     "execution_count": 32,
     "metadata": {},
     "output_type": "execute_result"
    }
   ],
   "source": [
    "type(y)"
   ]
  },
  {
   "cell_type": "code",
   "execution_count": 33,
   "id": "fe325d6a",
   "metadata": {},
   "outputs": [],
   "source": [
    "e1 = sympy.S('x + y / 3')"
   ]
  },
  {
   "cell_type": "code",
   "execution_count": 34,
   "id": "cdab0551",
   "metadata": {},
   "outputs": [
    {
     "data": {
      "text/plain": [
       "sympy.core.add.Add"
      ]
     },
     "execution_count": 34,
     "metadata": {},
     "output_type": "execute_result"
    }
   ],
   "source": [
    "type(e1)"
   ]
  },
  {
   "cell_type": "code",
   "execution_count": 35,
   "id": "37f81f27",
   "metadata": {},
   "outputs": [
    {
     "data": {
      "text/latex": [
       "$\\displaystyle x + \\frac{y}{3}$"
      ],
      "text/plain": [
       "x + y/3"
      ]
     },
     "execution_count": 35,
     "metadata": {},
     "output_type": "execute_result"
    }
   ],
   "source": [
    "e1"
   ]
  },
  {
   "cell_type": "code",
   "execution_count": 36,
   "id": "f4df2fba",
   "metadata": {},
   "outputs": [
    {
     "data": {
      "text/plain": [
       "[{x: 10 - y/3}]"
      ]
     },
     "execution_count": 36,
     "metadata": {},
     "output_type": "execute_result"
    }
   ],
   "source": [
    "sympy.solve(sympy.Eq(e1,10))"
   ]
  },
  {
   "cell_type": "code",
   "execution_count": 37,
   "id": "a8a4d384",
   "metadata": {},
   "outputs": [],
   "source": [
    "f1 = sympy.S('x / 20')"
   ]
  },
  {
   "cell_type": "code",
   "execution_count": 38,
   "id": "268307a0",
   "metadata": {},
   "outputs": [],
   "source": [
    "f2 = sympy.S('1 / 10')"
   ]
  },
  {
   "cell_type": "code",
   "execution_count": 39,
   "id": "01a06b6d",
   "metadata": {},
   "outputs": [
    {
     "data": {
      "text/latex": [
       "$\\displaystyle \\frac{x}{20} + \\frac{1}{10}$"
      ],
      "text/plain": [
       "x/20 + 1/10"
      ]
     },
     "execution_count": 39,
     "metadata": {},
     "output_type": "execute_result"
    }
   ],
   "source": [
    "f1 + f2"
   ]
  },
  {
   "cell_type": "code",
   "execution_count": 40,
   "id": "a1f163f4",
   "metadata": {},
   "outputs": [
    {
     "data": {
      "text/latex": [
       "$\\displaystyle \\frac{x + 2}{20}$"
      ],
      "text/plain": [
       "(x + 2)/20"
      ]
     },
     "execution_count": 40,
     "metadata": {},
     "output_type": "execute_result"
    }
   ],
   "source": [
    "sympy.together(f1 + f2)"
   ]
  },
  {
   "cell_type": "code",
   "execution_count": 41,
   "id": "f85d4291",
   "metadata": {},
   "outputs": [
    {
     "data": {
      "text/latex": [
       "$\\displaystyle \\frac{x}{20} + \\frac{1}{10}$"
      ],
      "text/plain": [
       "x/20 + 1/10"
      ]
     },
     "execution_count": 41,
     "metadata": {},
     "output_type": "execute_result"
    }
   ],
   "source": [
    "sympy.simplify(f1 + f2)"
   ]
  },
  {
   "cell_type": "code",
   "execution_count": 42,
   "id": "cff4a8be",
   "metadata": {},
   "outputs": [
    {
     "data": {
      "text/latex": [
       "$\\displaystyle 2 x$"
      ],
      "text/plain": [
       "2*x"
      ]
     },
     "execution_count": 42,
     "metadata": {},
     "output_type": "execute_result"
    }
   ],
   "source": [
    "x + x"
   ]
  },
  {
   "cell_type": "code",
   "execution_count": 43,
   "id": "ea8e62ca",
   "metadata": {},
   "outputs": [
    {
     "data": {
      "text/latex": [
       "$\\displaystyle a \\left(x + 1\\right) + x^{2}$"
      ],
      "text/plain": [
       "a*(x + 1) + x**2"
      ]
     },
     "execution_count": 43,
     "metadata": {},
     "output_type": "execute_result"
    }
   ],
   "source": [
    "sympy.factor(x ** 2 + a * x + a,a)"
   ]
  },
  {
   "cell_type": "code",
   "execution_count": 44,
   "id": "01d23abe",
   "metadata": {},
   "outputs": [
    {
     "data": {
      "text/latex": [
       "$\\displaystyle a x + a + x^{2}$"
      ],
      "text/plain": [
       "a*x + a + x**2"
      ]
     },
     "execution_count": 44,
     "metadata": {},
     "output_type": "execute_result"
    }
   ],
   "source": [
    "sympy.factor(x ** 2 + a * x + a,x)"
   ]
  },
  {
   "cell_type": "code",
   "execution_count": 45,
   "id": "8e988b76",
   "metadata": {},
   "outputs": [
    {
     "data": {
      "text/latex": [
       "$\\displaystyle a x + a + x^{2}$"
      ],
      "text/plain": [
       "a*x + a + x**2"
      ]
     },
     "execution_count": 45,
     "metadata": {},
     "output_type": "execute_result"
    }
   ],
   "source": [
    "sympy.factor(x ** 2 + a * x + a)"
   ]
  },
  {
   "cell_type": "code",
   "execution_count": 46,
   "id": "08c763aa",
   "metadata": {},
   "outputs": [
    {
     "data": {
      "image/png": "[encoded data removed]",
      "text/plain": [
       "<Figure size 640x480 with 1 Axes>"
      ]
     },
     "metadata": {},
     "output_type": "display_data"
    },
    {
     "data": {
      "text/plain": [
       "<sympy.plotting.plot.Plot at 0x7f22336e0490>"
      ]
     },
     "execution_count": 46,
     "metadata": {},
     "output_type": "execute_result"
    }
   ],
   "source": [
    "sympy.plot(sympy.sin(x))"
   ]
  },
  {
   "cell_type": "code",
   "execution_count": 51,
   "id": "d794dd50",
   "metadata": {},
   "outputs": [
    {
     "data": {
      "image/png": "[encoded data removed]",
      "text/plain": [
       "<Figure size 640x480 with 1 Axes>"
      ]
     },
     "metadata": {},
     "output_type": "display_data"
    },
    {
     "data": {
      "text/plain": [
       "<sympy.plotting.plot.Plot at 0x7f2222999e40>"
      ]
     },
     "execution_count": 51,
     "metadata": {},
     "output_type": "execute_result"
    }
   ],
   "source": [
    "sympy.plot(sympy.sin(x) + sympy.cos(x))"
   ]
  },
  {
   "cell_type": "code",
   "execution_count": 52,
   "id": "b7c0440b",
   "metadata": {},
   "outputs": [],
   "source": [
    "import sympy as sp"
   ]
  },
  {
   "cell_type": "code",
   "execution_count": 53,
   "id": "e39295aa",
   "metadata": {},
   "outputs": [
    {
     "data": {
      "text/latex": [
       "$\\displaystyle \\sin{\\left(x \\right)}$"
      ],
      "text/plain": [
       "sin(x)"
      ]
     },
     "execution_count": 53,
     "metadata": {},
     "output_type": "execute_result"
    }
   ],
   "source": [
    "sp.sin(x)"
   ]
  },
  {
   "cell_type": "code",
   "execution_count": 54,
   "id": "d6abb72a",
   "metadata": {},
   "outputs": [
    {
     "data": {
      "text/plain": [
       "{x: 55/14, y: 5/7}"
      ]
     },
     "execution_count": 54,
     "metadata": {},
     "output_type": "execute_result"
    }
   ],
   "source": [
    "sympy.solve( [ sympy.Eq(2 * x + 3 * y, 10), sympy.Eq(4 * x - 8 * y , 10)])"
   ]
  },
  {
   "cell_type": "markdown",
   "id": "1bef9985",
   "metadata": {},
   "source": [
    "# In-class problem\n",
    "Write a function `howManyZeros`.\n",
    "\n",
    "`howManyZeros('x ** 2 + 10 * x + 5')  -->  2`"
   ]
  },
  {
   "cell_type": "code",
   "execution_count": 62,
   "id": "0d7da2d9",
   "metadata": {},
   "outputs": [],
   "source": [
    "def howManyZeros(eqn):\n",
    "    return len(sp.solve(sp.S(eqn)))"
   ]
  },
  {
   "cell_type": "code",
   "execution_count": 59,
   "id": "4b1c253f",
   "metadata": {},
   "outputs": [
    {
     "data": {
      "text/plain": [
       "[-4/3]"
      ]
     },
     "execution_count": 59,
     "metadata": {},
     "output_type": "execute_result"
    }
   ],
   "source": [
    "sympy.solve(sympy.S('x * 3 + 4'))"
   ]
  },
  {
   "cell_type": "code",
   "execution_count": 61,
   "id": "8cf48f75",
   "metadata": {},
   "outputs": [
    {
     "data": {
      "text/plain": [
       "[-5 - 2*sqrt(5), -5 + 2*sqrt(5)]"
      ]
     },
     "execution_count": 61,
     "metadata": {},
     "output_type": "execute_result"
    }
   ],
   "source": [
    "sympy.solve(sympy.S('x ** 2 + 10 * x + 5'))"
   ]
  },
  {
   "cell_type": "code",
   "execution_count": 64,
   "id": "bf9525ec",
   "metadata": {},
   "outputs": [
    {
     "data": {
      "text/plain": [
       "2"
      ]
     },
     "execution_count": 64,
     "metadata": {},
     "output_type": "execute_result"
    }
   ],
   "source": [
    "howManyZeros('x ** 2 + 10 * x + 5')"
   ]
  },
  {
   "cell_type": "code",
   "execution_count": null,
   "id": "f003ea2d",
   "metadata": {},
   "outputs": [],
   "source": []
  }
 ],
 "metadata": {
  "kernelspec": {
   "display_name": "Python 3",
   "language": "python",
   "name": "python3"
  },
  "language_info": {
   "codemirror_mode": {
    "name": "ipython",
    "version": 3
   },
   "file_extension": ".py",
   "mimetype": "text/x-python",
   "name": "python",
   "nbconvert_exporter": "python",
   "pygments_lexer": "ipython3",
   "version": "3.10.9"
  }
 },
 "nbformat": 4,
 "nbformat_minor": 5
}
