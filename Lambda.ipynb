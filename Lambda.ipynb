{
 "cells": [
  {
   "cell_type": "markdown",
   "id": "f51cb1c3",
   "metadata": {},
   "source": [
    "# CS 101 -- Physics and Lambda\n",
    "\n",
    "## Announcements\n",
    "- Relate issues; are you still being affected?\n",
    "- Relate issues 2; a possible solution.\n",
    "- HW 3 and lessons are extended"
   ]
  },
  {
   "cell_type": "markdown",
   "id": "256b2161",
   "metadata": {},
   "source": [
    "## Topics\n",
    "- =subs=\n",
    "- lambda\n",
    "- lambdify"
   ]
  },
  {
   "cell_type": "code",
   "execution_count": 1,
   "id": "dbbafc76",
   "metadata": {},
   "outputs": [],
   "source": [
    "import sympy"
   ]
  },
  {
   "cell_type": "code",
   "execution_count": 2,
   "id": "940a5d26",
   "metadata": {},
   "outputs": [],
   "source": [
    "a = sympy.S( 'a' )\n",
    "expr = ( 2 ** 16 - 1 ) * sympy.root( a / ( 2 ** 8 - 1 ),4 )\n"
   ]
  },
  {
   "cell_type": "code",
   "execution_count": 3,
   "id": "55c18886",
   "metadata": {},
   "outputs": [
    {
     "data": {
      "text/latex": [
       "$\\displaystyle 257 \\cdot 255^{\\frac{3}{4}} \\sqrt[4]{a}$"
      ],
      "text/plain": [
       "257*255**(3/4)*a**(1/4)"
      ]
     },
     "execution_count": 3,
     "metadata": {},
     "output_type": "execute_result"
    }
   ],
   "source": [
    "expr"
   ]
  },
  {
   "cell_type": "code",
   "execution_count": 7,
   "id": "b8243bfb",
   "metadata": {},
   "outputs": [
    {
     "data": {
      "text/latex": [
       "$\\displaystyle 1285 \\cdot \\sqrt[4]{2} \\cdot 51^{\\frac{3}{4}}$"
      ],
      "text/plain": [
       "1285*2**(1/4)*51**(3/4)"
      ]
     },
     "execution_count": 7,
     "metadata": {},
     "output_type": "execute_result"
    }
   ],
   "source": [
    "sympy.simplify(expr.subs(a,10))"
   ]
  },
  {
   "cell_type": "markdown",
   "id": "48738178",
   "metadata": {},
   "source": [
    "## Lambda"
   ]
  },
  {
   "cell_type": "code",
   "execution_count": 8,
   "id": "33b3edc3",
   "metadata": {},
   "outputs": [],
   "source": [
    "def inc(x):\n",
    "    return x + 1"
   ]
  },
  {
   "cell_type": "code",
   "execution_count": 9,
   "id": "6d422813",
   "metadata": {},
   "outputs": [],
   "source": [
    "data = [8,6,7,5,3,0,9]\n"
   ]
  },
  {
   "cell_type": "code",
   "execution_count": 13,
   "id": "f7b2fde3",
   "metadata": {},
   "outputs": [
    {
     "data": {
      "text/plain": [
       "[9, 7, 8, 6, 4, 1, 10]"
      ]
     },
     "execution_count": 13,
     "metadata": {},
     "output_type": "execute_result"
    }
   ],
   "source": [
    "# method 0 -- don't do this.\n",
    "data0 = []\n",
    "for i in range(len(data)):\n",
    "    data0.append(inc(data[i]))\n",
    "data0"
   ]
  },
  {
   "cell_type": "code",
   "execution_count": 14,
   "id": "6e9651b8",
   "metadata": {},
   "outputs": [
    {
     "data": {
      "text/plain": [
       "[9, 7, 8, 6, 4, 1, 10]"
      ]
     },
     "execution_count": 14,
     "metadata": {},
     "output_type": "execute_result"
    }
   ],
   "source": [
    "# method 1\n",
    "data1 = []\n",
    "for x in data:\n",
    "    data1.append(inc(x))\n",
    "data1"
   ]
  },
  {
   "cell_type": "code",
   "execution_count": 20,
   "id": "84ba32da",
   "metadata": {},
   "outputs": [
    {
     "data": {
      "text/plain": [
       "<map at 0x7feaf54e9db0>"
      ]
     },
     "execution_count": 20,
     "metadata": {},
     "output_type": "execute_result"
    }
   ],
   "source": [
    "# Method 2\n",
    "data2 = map(inc,data)\n",
    "data2  # this works in for loops"
   ]
  },
  {
   "cell_type": "code",
   "execution_count": 21,
   "id": "0d5c4f26",
   "metadata": {},
   "outputs": [
    {
     "data": {
      "text/plain": [
       "[9, 7, 8, 6, 4, 1, 10]"
      ]
     },
     "execution_count": 21,
     "metadata": {},
     "output_type": "execute_result"
    }
   ],
   "source": [
    "list(data2)  # do this if you think you want to print it out"
   ]
  },
  {
   "cell_type": "code",
   "execution_count": null,
   "id": "3b1b1441",
   "metadata": {},
   "outputs": [],
   "source": [
    "# Method 3 -- anonymous functions"
   ]
  },
  {
   "cell_type": "code",
   "execution_count": 22,
   "id": "6ee9dff8",
   "metadata": {},
   "outputs": [],
   "source": [
    "one = 1\n",
    "two = 2\n",
    "three = one + two"
   ]
  },
  {
   "cell_type": "markdown",
   "id": "d0c8bf68",
   "metadata": {},
   "source": [
    "# Greek letter $\\lambda x . x + 1$"
   ]
  },
  {
   "cell_type": "code",
   "execution_count": 23,
   "id": "fc77ec90",
   "metadata": {},
   "outputs": [],
   "source": [
    "inc2 = lambda x : x + 1"
   ]
  },
  {
   "cell_type": "code",
   "execution_count": 24,
   "id": "24a800e5",
   "metadata": {},
   "outputs": [
    {
     "data": {
      "text/plain": [
       "4"
      ]
     },
     "execution_count": 24,
     "metadata": {},
     "output_type": "execute_result"
    }
   ],
   "source": [
    "inc2(3)"
   ]
  },
  {
   "cell_type": "code",
   "execution_count": 26,
   "id": "9f55f39a",
   "metadata": {},
   "outputs": [],
   "source": []
  },
  {
   "cell_type": "code",
   "execution_count": 27,
   "id": "68be2cf2",
   "metadata": {},
   "outputs": [
    {
     "data": {
      "text/plain": [
       "1009"
      ]
     },
     "execution_count": 27,
     "metadata": {},
     "output_type": "execute_result"
    }
   ],
   "source": [
    "( lambda x : x + 10) ( 999)"
   ]
  },
  {
   "cell_type": "code",
   "execution_count": 29,
   "id": "92594a6e",
   "metadata": {},
   "outputs": [
    {
     "data": {
      "text/plain": [
       "[9, 7, 8, 6, 4, 1, 10]"
      ]
     },
     "execution_count": 29,
     "metadata": {},
     "output_type": "execute_result"
    }
   ],
   "source": [
    "data3 = map(lambda x : x + 1, data)\n",
    "list(data3)"
   ]
  },
  {
   "cell_type": "code",
   "execution_count": null,
   "id": "f86ba3e8",
   "metadata": {},
   "outputs": [],
   "source": []
  },
  {
   "cell_type": "code",
   "execution_count": 30,
   "id": "a6b6bffe",
   "metadata": {},
   "outputs": [],
   "source": [
    "a = sympy.S( 'a' )\n",
    "expr = ( 2 ** 16 - 1 ) * sympy.root( a / ( 2 ** 8 - 1 ),4 )\n",
    "f = sympy.lambdify( [ a ],expr )\n"
   ]
  },
  {
   "cell_type": "code",
   "execution_count": 32,
   "id": "f5ef004c",
   "metadata": {},
   "outputs": [
    {
     "data": {
      "text/plain": [
       "29163.406987767958"
      ]
     },
     "execution_count": 32,
     "metadata": {},
     "output_type": "execute_result"
    }
   ],
   "source": [
    "f(10)"
   ]
  },
  {
   "cell_type": "code",
   "execution_count": 33,
   "id": "3aeda805",
   "metadata": {},
   "outputs": [
    {
     "data": {
      "text/latex": [
       "$\\displaystyle 1285 \\cdot \\sqrt[4]{2} \\cdot 51^{\\frac{3}{4}}$"
      ],
      "text/plain": [
       "1285*2**(1/4)*51**(3/4)"
      ]
     },
     "execution_count": 33,
     "metadata": {},
     "output_type": "execute_result"
    }
   ],
   "source": [
    "expr.subs(a,10)"
   ]
  },
  {
   "cell_type": "code",
   "execution_count": null,
   "id": "13b22f00",
   "metadata": {},
   "outputs": [],
   "source": []
  }
 ],
 "metadata": {
  "kernelspec": {
   "display_name": "Python 3",
   "language": "python",
   "name": "python3"
  },
  "language_info": {
   "codemirror_mode": {
    "name": "ipython",
    "version": 3
   },
   "file_extension": ".py",
   "mimetype": "text/x-python",
   "name": "python",
   "nbconvert_exporter": "python",
   "pygments_lexer": "ipython3",
   "version": "3.10.9"
  }
 },
 "nbformat": 4,
 "nbformat_minor": 5
}
