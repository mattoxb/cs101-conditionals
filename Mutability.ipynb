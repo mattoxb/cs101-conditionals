{
 "cells": [
  {
   "cell_type": "markdown",
   "id": "addfdf03",
   "metadata": {},
   "source": [
    "# Announcements\n",
    "- Practice exam is live!\n",
    "- Lessons 5 and 6 due today\n",
    "- Midterm 1 begins next week: register at https://prairietest.org"
   ]
  },
  {
   "cell_type": "markdown",
   "id": "413bc44d",
   "metadata": {},
   "source": [
    "### A Puzzle for you..."
   ]
  },
  {
   "cell_type": "code",
   "execution_count": 4,
   "id": "901ed51a",
   "metadata": {},
   "outputs": [],
   "source": [
    "x = 10\n",
    "def foo(newval):\n",
    "    y = x\n",
    "    y = newval"
   ]
  },
  {
   "cell_type": "code",
   "execution_count": 5,
   "id": "2c83965a",
   "metadata": {},
   "outputs": [],
   "source": [
    "foo(999)"
   ]
  },
  {
   "cell_type": "code",
   "execution_count": 6,
   "id": "c0fb0816",
   "metadata": {},
   "outputs": [
    {
     "data": {
      "text/plain": [
       "10"
      ]
     },
     "execution_count": 6,
     "metadata": {},
     "output_type": "execute_result"
    }
   ],
   "source": [
    "x"
   ]
  },
  {
   "cell_type": "code",
   "execution_count": 7,
   "id": "7cf00b53",
   "metadata": {},
   "outputs": [
    {
     "ename": "NameError",
     "evalue": "name 'y' is not defined",
     "output_type": "error",
     "traceback": [
      "\u001b[0;31m---------------------------------------------------------------------------\u001b[0m",
      "\u001b[0;31mNameError\u001b[0m                                 Traceback (most recent call last)",
      "Input \u001b[0;32mIn [7]\u001b[0m, in \u001b[0;36m<cell line: 1>\u001b[0;34m()\u001b[0m\n\u001b[0;32m----> 1\u001b[0m y\n",
      "\u001b[0;31mNameError\u001b[0m: name 'y' is not defined"
     ]
    }
   ],
   "source": [
    "y"
   ]
  },
  {
   "cell_type": "code",
   "execution_count": 8,
   "id": "dcf52ad9",
   "metadata": {},
   "outputs": [],
   "source": [
    "x = [10]\n",
    "def foo(newval):\n",
    "    y = x\n",
    "    y[0] = newval"
   ]
  },
  {
   "cell_type": "code",
   "execution_count": 9,
   "id": "0a6ad33f",
   "metadata": {},
   "outputs": [
    {
     "data": {
      "text/plain": [
       "[10]"
      ]
     },
     "execution_count": 9,
     "metadata": {},
     "output_type": "execute_result"
    }
   ],
   "source": [
    "x"
   ]
  },
  {
   "cell_type": "code",
   "execution_count": 10,
   "id": "bbcc766c",
   "metadata": {},
   "outputs": [],
   "source": [
    "foo(999)"
   ]
  },
  {
   "cell_type": "code",
   "execution_count": 11,
   "id": "e52475bd",
   "metadata": {},
   "outputs": [
    {
     "data": {
      "text/plain": [
       "[999]"
      ]
     },
     "execution_count": 11,
     "metadata": {},
     "output_type": "execute_result"
    }
   ],
   "source": [
    "x"
   ]
  },
  {
   "cell_type": "code",
   "execution_count": 18,
   "id": "e7bdad4c",
   "metadata": {},
   "outputs": [],
   "source": [
    "x = [10]\n",
    "def foo(newval):\n",
    "    y = x.copy()\n",
    "    y[0] = newval\n",
    "    return y"
   ]
  },
  {
   "cell_type": "code",
   "execution_count": 19,
   "id": "903f6aff",
   "metadata": {},
   "outputs": [
    {
     "data": {
      "text/plain": [
       "[999]"
      ]
     },
     "execution_count": 19,
     "metadata": {},
     "output_type": "execute_result"
    }
   ],
   "source": [
    "foo(999)"
   ]
  },
  {
   "cell_type": "code",
   "execution_count": 20,
   "id": "7c06b06c",
   "metadata": {},
   "outputs": [
    {
     "data": {
      "text/plain": [
       "[10]"
      ]
     },
     "execution_count": 20,
     "metadata": {},
     "output_type": "execute_result"
    }
   ],
   "source": [
    "x"
   ]
  },
  {
   "cell_type": "code",
   "execution_count": 21,
   "id": "10ae1f63",
   "metadata": {},
   "outputs": [
    {
     "name": "stdout",
     "output_type": "stream",
     "text": [
      "Return a shallow copy of the list.\n"
     ]
    }
   ],
   "source": [
    "print(x.copy.__doc__)"
   ]
  },
  {
   "cell_type": "code",
   "execution_count": 22,
   "id": "0e9f7ad2",
   "metadata": {},
   "outputs": [],
   "source": [
    "x = [[20]]"
   ]
  },
  {
   "cell_type": "code",
   "execution_count": 23,
   "id": "7cc32f2b",
   "metadata": {},
   "outputs": [],
   "source": [
    "y = x"
   ]
  },
  {
   "cell_type": "code",
   "execution_count": 24,
   "id": "5f7caa85",
   "metadata": {},
   "outputs": [],
   "source": [
    "y[0] = [30]"
   ]
  },
  {
   "cell_type": "code",
   "execution_count": 25,
   "id": "70e7a3c1",
   "metadata": {},
   "outputs": [
    {
     "data": {
      "text/plain": [
       "[[30]]"
      ]
     },
     "execution_count": 25,
     "metadata": {},
     "output_type": "execute_result"
    }
   ],
   "source": [
    "x"
   ]
  },
  {
   "cell_type": "code",
   "execution_count": 26,
   "id": "1790a67d",
   "metadata": {},
   "outputs": [],
   "source": [
    "y = x.copy()"
   ]
  },
  {
   "cell_type": "code",
   "execution_count": 27,
   "id": "692b4425",
   "metadata": {},
   "outputs": [],
   "source": [
    "y[0] = [40]"
   ]
  },
  {
   "cell_type": "code",
   "execution_count": 28,
   "id": "9395ae1a",
   "metadata": {},
   "outputs": [
    {
     "data": {
      "text/plain": [
       "[[30]]"
      ]
     },
     "execution_count": 28,
     "metadata": {},
     "output_type": "execute_result"
    }
   ],
   "source": [
    "x"
   ]
  },
  {
   "cell_type": "code",
   "execution_count": 29,
   "id": "7f5c02a2",
   "metadata": {},
   "outputs": [
    {
     "data": {
      "text/plain": [
       "[[40]]"
      ]
     },
     "execution_count": 29,
     "metadata": {},
     "output_type": "execute_result"
    }
   ],
   "source": [
    "y"
   ]
  },
  {
   "cell_type": "code",
   "execution_count": 30,
   "id": "3db661f3",
   "metadata": {},
   "outputs": [],
   "source": [
    "y = x.copy()"
   ]
  },
  {
   "cell_type": "code",
   "execution_count": 31,
   "id": "2c962db4",
   "metadata": {},
   "outputs": [
    {
     "data": {
      "text/plain": [
       "[[30]]"
      ]
     },
     "execution_count": 31,
     "metadata": {},
     "output_type": "execute_result"
    }
   ],
   "source": [
    "x"
   ]
  },
  {
   "cell_type": "code",
   "execution_count": 32,
   "id": "9a46f3da",
   "metadata": {},
   "outputs": [
    {
     "data": {
      "text/plain": [
       "[[30]]"
      ]
     },
     "execution_count": 32,
     "metadata": {},
     "output_type": "execute_result"
    }
   ],
   "source": [
    "y"
   ]
  },
  {
   "cell_type": "code",
   "execution_count": 33,
   "id": "3cb811ec",
   "metadata": {},
   "outputs": [
    {
     "data": {
      "text/plain": [
       "30"
      ]
     },
     "execution_count": 33,
     "metadata": {},
     "output_type": "execute_result"
    }
   ],
   "source": [
    "x[0][0]"
   ]
  },
  {
   "cell_type": "code",
   "execution_count": 34,
   "id": "4c2d2d56",
   "metadata": {},
   "outputs": [],
   "source": [
    "y[0][0] = 999"
   ]
  },
  {
   "cell_type": "code",
   "execution_count": 35,
   "id": "13a92a40",
   "metadata": {},
   "outputs": [
    {
     "data": {
      "text/plain": [
       "[[999]]"
      ]
     },
     "execution_count": 35,
     "metadata": {},
     "output_type": "execute_result"
    }
   ],
   "source": [
    "x"
   ]
  },
  {
   "cell_type": "code",
   "execution_count": 36,
   "id": "790cc84b",
   "metadata": {},
   "outputs": [
    {
     "data": {
      "text/plain": [
       "[[999]]"
      ]
     },
     "execution_count": 36,
     "metadata": {},
     "output_type": "execute_result"
    }
   ],
   "source": [
    "x"
   ]
  },
  {
   "cell_type": "code",
   "execution_count": 37,
   "id": "c19ac669",
   "metadata": {},
   "outputs": [
    {
     "ename": "AttributeError",
     "evalue": "'list' object has no attribute 'deepcopy'",
     "output_type": "error",
     "traceback": [
      "\u001b[0;31m---------------------------------------------------------------------------\u001b[0m",
      "\u001b[0;31mAttributeError\u001b[0m                            Traceback (most recent call last)",
      "Input \u001b[0;32mIn [37]\u001b[0m, in \u001b[0;36m<cell line: 1>\u001b[0;34m()\u001b[0m\n\u001b[0;32m----> 1\u001b[0m y \u001b[38;5;241m=\u001b[39m x\u001b[38;5;241m.\u001b[39mdeepcopy()\n",
      "\u001b[0;31mAttributeError\u001b[0m: 'list' object has no attribute 'deepcopy'"
     ]
    }
   ],
   "source": [
    "y = x.deepcopy()"
   ]
  },
  {
   "cell_type": "code",
   "execution_count": 38,
   "id": "dea370ce",
   "metadata": {},
   "outputs": [],
   "source": [
    "import copy"
   ]
  },
  {
   "cell_type": "code",
   "execution_count": 39,
   "id": "92bcd59d",
   "metadata": {},
   "outputs": [],
   "source": [
    "y = copy.deepcopy(x)"
   ]
  },
  {
   "cell_type": "code",
   "execution_count": 40,
   "id": "26bdbea5",
   "metadata": {},
   "outputs": [
    {
     "data": {
      "text/plain": [
       "[[999]]"
      ]
     },
     "execution_count": 40,
     "metadata": {},
     "output_type": "execute_result"
    }
   ],
   "source": [
    "x"
   ]
  },
  {
   "cell_type": "code",
   "execution_count": 41,
   "id": "27c02db9",
   "metadata": {},
   "outputs": [
    {
     "data": {
      "text/plain": [
       "[[999]]"
      ]
     },
     "execution_count": 41,
     "metadata": {},
     "output_type": "execute_result"
    }
   ],
   "source": [
    "y"
   ]
  },
  {
   "cell_type": "code",
   "execution_count": 42,
   "id": "b9b52162",
   "metadata": {},
   "outputs": [],
   "source": [
    "y[0][0] = 123"
   ]
  },
  {
   "cell_type": "code",
   "execution_count": 43,
   "id": "65f45259",
   "metadata": {},
   "outputs": [
    {
     "data": {
      "text/plain": [
       "[[999]]"
      ]
     },
     "execution_count": 43,
     "metadata": {},
     "output_type": "execute_result"
    }
   ],
   "source": [
    "x"
   ]
  },
  {
   "cell_type": "code",
   "execution_count": 44,
   "id": "6d870125",
   "metadata": {},
   "outputs": [
    {
     "data": {
      "text/plain": [
       "[[123]]"
      ]
     },
     "execution_count": 44,
     "metadata": {},
     "output_type": "execute_result"
    }
   ],
   "source": [
    "y"
   ]
  },
  {
   "cell_type": "code",
   "execution_count": 45,
   "id": "4d35971e",
   "metadata": {},
   "outputs": [],
   "source": [
    "t1 = (10)"
   ]
  },
  {
   "cell_type": "code",
   "execution_count": 46,
   "id": "35c942e1",
   "metadata": {},
   "outputs": [
    {
     "data": {
      "text/plain": [
       "10"
      ]
     },
     "execution_count": 46,
     "metadata": {},
     "output_type": "execute_result"
    }
   ],
   "source": [
    "t1"
   ]
  },
  {
   "cell_type": "code",
   "execution_count": 47,
   "id": "12ca0942",
   "metadata": {},
   "outputs": [],
   "source": [
    "t2 = (10,20)"
   ]
  },
  {
   "cell_type": "code",
   "execution_count": 48,
   "id": "66bf26b5",
   "metadata": {},
   "outputs": [
    {
     "data": {
      "text/plain": [
       "(10, 20)"
      ]
     },
     "execution_count": 48,
     "metadata": {},
     "output_type": "execute_result"
    }
   ],
   "source": [
    "t2"
   ]
  },
  {
   "cell_type": "code",
   "execution_count": 49,
   "id": "41938884",
   "metadata": {},
   "outputs": [
    {
     "data": {
      "text/plain": [
       "10"
      ]
     },
     "execution_count": 49,
     "metadata": {},
     "output_type": "execute_result"
    }
   ],
   "source": [
    "t2[0]"
   ]
  },
  {
   "cell_type": "code",
   "execution_count": 50,
   "id": "aa1a34ac",
   "metadata": {},
   "outputs": [
    {
     "data": {
      "text/plain": [
       "20"
      ]
     },
     "execution_count": 50,
     "metadata": {},
     "output_type": "execute_result"
    }
   ],
   "source": [
    "t2[1]"
   ]
  },
  {
   "cell_type": "code",
   "execution_count": 51,
   "id": "cb3514f1",
   "metadata": {},
   "outputs": [],
   "source": [
    "a,b = t2"
   ]
  },
  {
   "cell_type": "code",
   "execution_count": 52,
   "id": "27be3d7f",
   "metadata": {},
   "outputs": [
    {
     "data": {
      "text/plain": [
       "10"
      ]
     },
     "execution_count": 52,
     "metadata": {},
     "output_type": "execute_result"
    }
   ],
   "source": [
    "a"
   ]
  },
  {
   "cell_type": "code",
   "execution_count": 53,
   "id": "911f9abc",
   "metadata": {},
   "outputs": [],
   "source": [
    "t3 = (10,)"
   ]
  },
  {
   "cell_type": "code",
   "execution_count": 54,
   "id": "3ec1fa9f",
   "metadata": {},
   "outputs": [
    {
     "data": {
      "text/plain": [
       "(10,)"
      ]
     },
     "execution_count": 54,
     "metadata": {},
     "output_type": "execute_result"
    }
   ],
   "source": [
    "t3"
   ]
  },
  {
   "cell_type": "code",
   "execution_count": 55,
   "id": "9a3612d9",
   "metadata": {},
   "outputs": [
    {
     "data": {
      "text/plain": [
       "['__new__',\n",
       " '__repr__',\n",
       " '__hash__',\n",
       " '__getattribute__',\n",
       " '__lt__',\n",
       " '__le__',\n",
       " '__eq__',\n",
       " '__ne__',\n",
       " '__gt__',\n",
       " '__ge__',\n",
       " '__iter__',\n",
       " '__len__',\n",
       " '__getitem__',\n",
       " '__add__',\n",
       " '__mul__',\n",
       " '__rmul__',\n",
       " '__contains__',\n",
       " '__getnewargs__',\n",
       " 'index',\n",
       " 'count',\n",
       " '__class_getitem__',\n",
       " '__doc__',\n",
       " '__str__',\n",
       " '__setattr__',\n",
       " '__delattr__',\n",
       " '__init__',\n",
       " '__reduce_ex__',\n",
       " '__reduce__',\n",
       " '__subclasshook__',\n",
       " '__init_subclass__',\n",
       " '__format__',\n",
       " '__sizeof__',\n",
       " '__dir__',\n",
       " '__class__']"
      ]
     },
     "execution_count": 55,
     "metadata": {},
     "output_type": "execute_result"
    }
   ],
   "source": [
    "t3.__dir__()"
   ]
  },
  {
   "cell_type": "code",
   "execution_count": 56,
   "id": "c71a0a07",
   "metadata": {},
   "outputs": [
    {
     "data": {
      "text/plain": [
       "(10, 20)"
      ]
     },
     "execution_count": 56,
     "metadata": {},
     "output_type": "execute_result"
    }
   ],
   "source": [
    "t2"
   ]
  },
  {
   "cell_type": "code",
   "execution_count": 57,
   "id": "57b3b354",
   "metadata": {},
   "outputs": [
    {
     "ename": "TypeError",
     "evalue": "'tuple' object does not support item assignment",
     "output_type": "error",
     "traceback": [
      "\u001b[0;31m---------------------------------------------------------------------------\u001b[0m",
      "\u001b[0;31mTypeError\u001b[0m                                 Traceback (most recent call last)",
      "Input \u001b[0;32mIn [57]\u001b[0m, in \u001b[0;36m<cell line: 1>\u001b[0;34m()\u001b[0m\n\u001b[0;32m----> 1\u001b[0m t2[\u001b[38;5;241m0\u001b[39m] \u001b[38;5;241m=\u001b[39m \u001b[38;5;241m100\u001b[39m\n",
      "\u001b[0;31mTypeError\u001b[0m: 'tuple' object does not support item assignment"
     ]
    }
   ],
   "source": [
    "t2[0] = 100"
   ]
  },
  {
   "cell_type": "code",
   "execution_count": 58,
   "id": "6a6b043b",
   "metadata": {},
   "outputs": [
    {
     "data": {
      "text/plain": [
       "[10, 20]"
      ]
     },
     "execution_count": 58,
     "metadata": {},
     "output_type": "execute_result"
    }
   ],
   "source": [
    "list(t2)"
   ]
  },
  {
   "cell_type": "code",
   "execution_count": 61,
   "id": "7433059a",
   "metadata": {},
   "outputs": [],
   "source": [
    "# Your turn!\n",
    "def swap(t):\n",
    "    # way 1\n",
    "    t2 = (t[1],t[0])\n",
    "    # way 2\n",
    "    a,b = t\n",
    "    return (b,a)\n",
    "    \n",
    "def sort(t):\n",
    "    if t[0] > t[1]:\n",
    "        return (t[1],t[0])\n",
    "    else:\n",
    "        return t\n"
   ]
  },
  {
   "cell_type": "code",
   "execution_count": 62,
   "id": "67978000",
   "metadata": {},
   "outputs": [
    {
     "data": {
      "text/plain": [
       "(4, 3)"
      ]
     },
     "execution_count": 62,
     "metadata": {},
     "output_type": "execute_result"
    }
   ],
   "source": [
    "swap((3,4))"
   ]
  },
  {
   "cell_type": "code",
   "execution_count": 63,
   "id": "c5bca31d",
   "metadata": {},
   "outputs": [
    {
     "data": {
      "text/plain": [
       "(3, 4)"
      ]
     },
     "execution_count": 63,
     "metadata": {},
     "output_type": "execute_result"
    }
   ],
   "source": [
    "sort((3,4))"
   ]
  },
  {
   "cell_type": "code",
   "execution_count": 64,
   "id": "ba0591d5",
   "metadata": {},
   "outputs": [],
   "source": [
    "s = \"Hello\""
   ]
  },
  {
   "cell_type": "code",
   "execution_count": 65,
   "id": "518b91da",
   "metadata": {},
   "outputs": [
    {
     "ename": "TypeError",
     "evalue": "'str' object does not support item assignment",
     "output_type": "error",
     "traceback": [
      "\u001b[0;31m---------------------------------------------------------------------------\u001b[0m",
      "\u001b[0;31mTypeError\u001b[0m                                 Traceback (most recent call last)",
      "Input \u001b[0;32mIn [65]\u001b[0m, in \u001b[0;36m<cell line: 1>\u001b[0;34m()\u001b[0m\n\u001b[0;32m----> 1\u001b[0m s[\u001b[38;5;241m0\u001b[39m] \u001b[38;5;241m=\u001b[39m \u001b[38;5;124m\"\u001b[39m\u001b[38;5;124mX\u001b[39m\u001b[38;5;124m\"\u001b[39m\n",
      "\u001b[0;31mTypeError\u001b[0m: 'str' object does not support item assignment"
     ]
    }
   ],
   "source": [
    "s[0] = \"X\""
   ]
  },
  {
   "cell_type": "code",
   "execution_count": 66,
   "id": "c614e807",
   "metadata": {},
   "outputs": [],
   "source": [
    "t = s"
   ]
  },
  {
   "cell_type": "code",
   "execution_count": 67,
   "id": "dd793b11",
   "metadata": {},
   "outputs": [],
   "source": [
    "s = \"h\""
   ]
  },
  {
   "cell_type": "code",
   "execution_count": 68,
   "id": "6ea1df55",
   "metadata": {},
   "outputs": [
    {
     "data": {
      "text/plain": [
       "'Hello'"
      ]
     },
     "execution_count": 68,
     "metadata": {},
     "output_type": "execute_result"
    }
   ],
   "source": [
    "t"
   ]
  },
  {
   "cell_type": "code",
   "execution_count": null,
   "id": "90fb93d5",
   "metadata": {},
   "outputs": [],
   "source": []
  }
 ],
 "metadata": {
  "kernelspec": {
   "display_name": "Python 3",
   "language": "python",
   "name": "python3"
  },
  "language_info": {
   "codemirror_mode": {
    "name": "ipython",
    "version": 3
   },
   "file_extension": ".py",
   "mimetype": "text/x-python",
   "name": "python",
   "nbconvert_exporter": "python",
   "pygments_lexer": "ipython3",
   "version": "3.10.9"
  }
 },
 "nbformat": 4,
 "nbformat_minor": 5
}
