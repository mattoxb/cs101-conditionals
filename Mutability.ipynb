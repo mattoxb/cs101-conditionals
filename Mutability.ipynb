{
 "cells": [
  {
   "cell_type": "markdown",
   "id": "6fbea0a6",
   "metadata": {},
   "source": [
    "# Announcements\n",
    "- Practice exam is live!\n",
    "- Lessons 5 and 6 due today\n",
    "- Midterm 1 begins next week: register at https://prairietest.org"
   ]
  },
  {
   "cell_type": "markdown",
   "id": "df5e7d0f",
   "metadata": {},
   "source": [
    "### A Puzzle for you..."
   ]
  },
  {
   "cell_type": "code",
   "execution_count": 4,
   "id": "49b31bd9",
   "metadata": {},
   "outputs": [],
   "source": [
    "x = 10\n",
    "def foo(newval):\n",
    "    y = x\n",
    "    y = newval"
   ]
  },
  {
   "cell_type": "code",
   "execution_count": 5,
   "id": "e9a64c38",
   "metadata": {},
   "outputs": [],
   "source": [
    "foo(999)"
   ]
  },
  {
   "cell_type": "code",
   "execution_count": 6,
   "id": "e5d5fb04",
   "metadata": {},
   "outputs": [
    {
     "data": {
      "text/plain": [
       "10"
      ]
     },
     "execution_count": 6,
     "metadata": {},
     "output_type": "execute_result"
    }
   ],
   "source": [
    "x"
   ]
  },
  {
   "cell_type": "code",
   "execution_count": 7,
   "id": "40bf379c",
   "metadata": {},
   "outputs": [
    {
     "ename": "NameError",
     "evalue": "name 'y' is not defined",
     "output_type": "error",
     "traceback": [
      "\u001b[0;31m---------------------------------------------------------------------------\u001b[0m",
      "\u001b[0;31mNameError\u001b[0m                                 Traceback (most recent call last)",
      "Input \u001b[0;32mIn [7]\u001b[0m, in \u001b[0;36m<cell line: 1>\u001b[0;34m()\u001b[0m\n\u001b[0;32m----> 1\u001b[0m y\n",
      "\u001b[0;31mNameError\u001b[0m: name 'y' is not defined"
     ]
    }
   ],
   "source": [
    "y"
   ]
  },
  {
   "cell_type": "code",
   "execution_count": 8,
   "id": "9a74e2de",
   "metadata": {},
   "outputs": [],
   "source": [
    "x = [10]\n",
    "def foo(newval):\n",
    "    y = x\n",
    "    y[0] = newval"
   ]
  },
  {
   "cell_type": "code",
   "execution_count": 9,
   "id": "6af29cf4",
   "metadata": {},
   "outputs": [
    {
     "data": {
      "text/plain": [
       "[10]"
      ]
     },
     "execution_count": 9,
     "metadata": {},
     "output_type": "execute_result"
    }
   ],
   "source": [
    "x"
   ]
  },
  {
   "cell_type": "code",
   "execution_count": 10,
   "id": "b91fc5d7",
   "metadata": {},
   "outputs": [],
   "source": [
    "foo(999)"
   ]
  },
  {
   "cell_type": "code",
   "execution_count": 11,
   "id": "05a2b305",
   "metadata": {},
   "outputs": [
    {
     "data": {
      "text/plain": [
       "[999]"
      ]
     },
     "execution_count": 11,
     "metadata": {},
     "output_type": "execute_result"
    }
   ],
   "source": [
    "x"
   ]
  },
  {
   "cell_type": "code",
   "execution_count": 18,
   "id": "0ef3f2fd",
   "metadata": {},
   "outputs": [],
   "source": [
    "x = [10]\n",
    "def foo(newval):\n",
    "    y = x.copy()\n",
    "    y[0] = newval\n",
    "    return y"
   ]
  },
  {
   "cell_type": "code",
   "execution_count": 19,
   "id": "e052f01c",
   "metadata": {},
   "outputs": [
    {
     "data": {
      "text/plain": [
       "[999]"
      ]
     },
     "execution_count": 19,
     "metadata": {},
     "output_type": "execute_result"
    }
   ],
   "source": [
    "foo(999)"
   ]
  },
  {
   "cell_type": "code",
   "execution_count": 20,
   "id": "87a4a157",
   "metadata": {},
   "outputs": [
    {
     "data": {
      "text/plain": [
       "[10]"
      ]
     },
     "execution_count": 20,
     "metadata": {},
     "output_type": "execute_result"
    }
   ],
   "source": [
    "x"
   ]
  },
  {
   "cell_type": "code",
   "execution_count": 21,
   "id": "c184f40d",
   "metadata": {},
   "outputs": [
    {
     "name": "stdout",
     "output_type": "stream",
     "text": [
      "Return a shallow copy of the list.\n"
     ]
    }
   ],
   "source": [
    "print(x.copy.__doc__)"
   ]
  },
  {
   "cell_type": "code",
   "execution_count": 22,
   "id": "f30cbd86",
   "metadata": {},
   "outputs": [],
   "source": [
    "x = [[20]]"
   ]
  },
  {
   "cell_type": "code",
   "execution_count": 23,
   "id": "8d4d7739",
   "metadata": {},
   "outputs": [],
   "source": [
    "y = x"
   ]
  },
  {
   "cell_type": "code",
   "execution_count": 24,
   "id": "c40abcf2",
   "metadata": {},
   "outputs": [],
   "source": [
    "y[0] = [30]"
   ]
  },
  {
   "cell_type": "code",
   "execution_count": 25,
   "id": "31d890c9",
   "metadata": {},
   "outputs": [
    {
     "data": {
      "text/plain": [
       "[[30]]"
      ]
     },
     "execution_count": 25,
     "metadata": {},
     "output_type": "execute_result"
    }
   ],
   "source": [
    "x"
   ]
  },
  {
   "cell_type": "code",
   "execution_count": 26,
   "id": "6346ea5a",
   "metadata": {},
   "outputs": [],
   "source": [
    "y = x.copy()"
   ]
  },
  {
   "cell_type": "code",
   "execution_count": 27,
   "id": "2deb871b",
   "metadata": {},
   "outputs": [],
   "source": [
    "y[0] = [40]"
   ]
  },
  {
   "cell_type": "code",
   "execution_count": 28,
   "id": "1b40e4b9",
   "metadata": {},
   "outputs": [
    {
     "data": {
      "text/plain": [
       "[[30]]"
      ]
     },
     "execution_count": 28,
     "metadata": {},
     "output_type": "execute_result"
    }
   ],
   "source": [
    "x"
   ]
  },
  {
   "cell_type": "code",
   "execution_count": 29,
   "id": "686707e5",
   "metadata": {},
   "outputs": [
    {
     "data": {
      "text/plain": [
       "[[40]]"
      ]
     },
     "execution_count": 29,
     "metadata": {},
     "output_type": "execute_result"
    }
   ],
   "source": [
    "y"
   ]
  },
  {
   "cell_type": "code",
   "execution_count": 30,
   "id": "bf5a4a2b",
   "metadata": {},
   "outputs": [],
   "source": [
    "y = x.copy()"
   ]
  },
  {
   "cell_type": "code",
   "execution_count": 31,
   "id": "31459fc8",
   "metadata": {},
   "outputs": [
    {
     "data": {
      "text/plain": [
       "[[30]]"
      ]
     },
     "execution_count": 31,
     "metadata": {},
     "output_type": "execute_result"
    }
   ],
   "source": [
    "x"
   ]
  },
  {
   "cell_type": "code",
   "execution_count": 32,
   "id": "9e7d212a",
   "metadata": {},
   "outputs": [
    {
     "data": {
      "text/plain": [
       "[[30]]"
      ]
     },
     "execution_count": 32,
     "metadata": {},
     "output_type": "execute_result"
    }
   ],
   "source": [
    "y"
   ]
  },
  {
   "cell_type": "code",
   "execution_count": 33,
   "id": "5b56c45b",
   "metadata": {},
   "outputs": [
    {
     "data": {
      "text/plain": [
       "30"
      ]
     },
     "execution_count": 33,
     "metadata": {},
     "output_type": "execute_result"
    }
   ],
   "source": [
    "x[0][0]"
   ]
  },
  {
   "cell_type": "code",
   "execution_count": 34,
   "id": "cbdb1499",
   "metadata": {},
   "outputs": [],
   "source": [
    "y[0][0] = 999"
   ]
  },
  {
   "cell_type": "code",
   "execution_count": 35,
   "id": "b3efa221",
   "metadata": {},
   "outputs": [
    {
     "data": {
      "text/plain": [
       "[[999]]"
      ]
     },
     "execution_count": 35,
     "metadata": {},
     "output_type": "execute_result"
    }
   ],
   "source": [
    "x"
   ]
  },
  {
   "cell_type": "code",
   "execution_count": 36,
   "id": "670b64cf",
   "metadata": {},
   "outputs": [
    {
     "data": {
      "text/plain": [
       "[[999]]"
      ]
     },
     "execution_count": 36,
     "metadata": {},
     "output_type": "execute_result"
    }
   ],
   "source": [
    "x"
   ]
  },
  {
   "cell_type": "code",
   "execution_count": 37,
   "id": "b0fe567f",
   "metadata": {},
   "outputs": [
    {
     "ename": "AttributeError",
     "evalue": "'list' object has no attribute 'deepcopy'",
     "output_type": "error",
     "traceback": [
      "\u001b[0;31m---------------------------------------------------------------------------\u001b[0m",
      "\u001b[0;31mAttributeError\u001b[0m                            Traceback (most recent call last)",
      "Input \u001b[0;32mIn [37]\u001b[0m, in \u001b[0;36m<cell line: 1>\u001b[0;34m()\u001b[0m\n\u001b[0;32m----> 1\u001b[0m y \u001b[38;5;241m=\u001b[39m x\u001b[38;5;241m.\u001b[39mdeepcopy()\n",
      "\u001b[0;31mAttributeError\u001b[0m: 'list' object has no attribute 'deepcopy'"
     ]
    }
   ],
   "source": [
    "y = x.deepcopy()"
   ]
  },
  {
   "cell_type": "code",
   "execution_count": 38,
   "id": "ec190401",
   "metadata": {},
   "outputs": [],
   "source": [
    "import copy"
   ]
  },
  {
   "cell_type": "code",
   "execution_count": 39,
   "id": "8ff7d25d",
   "metadata": {},
   "outputs": [],
   "source": [
    "y = copy.deepcopy(x)"
   ]
  },
  {
   "cell_type": "code",
   "execution_count": 40,
   "id": "80a9154a",
   "metadata": {},
   "outputs": [
    {
     "data": {
      "text/plain": [
       "[[999]]"
      ]
     },
     "execution_count": 40,
     "metadata": {},
     "output_type": "execute_result"
    }
   ],
   "source": [
    "x"
   ]
  },
  {
   "cell_type": "code",
   "execution_count": 41,
   "id": "d58ec725",
   "metadata": {},
   "outputs": [
    {
     "data": {
      "text/plain": [
       "[[999]]"
      ]
     },
     "execution_count": 41,
     "metadata": {},
     "output_type": "execute_result"
    }
   ],
   "source": [
    "y"
   ]
  },
  {
   "cell_type": "code",
   "execution_count": 42,
   "id": "0de8ab99",
   "metadata": {},
   "outputs": [],
   "source": [
    "y[0][0] = 123"
   ]
  },
  {
   "cell_type": "code",
   "execution_count": 43,
   "id": "20ebcffc",
   "metadata": {},
   "outputs": [
    {
     "data": {
      "text/plain": [
       "[[999]]"
      ]
     },
     "execution_count": 43,
     "metadata": {},
     "output_type": "execute_result"
    }
   ],
   "source": [
    "x"
   ]
  },
  {
   "cell_type": "code",
   "execution_count": 44,
   "id": "45c245ea",
   "metadata": {},
   "outputs": [
    {
     "data": {
      "text/plain": [
       "[[123]]"
      ]
     },
     "execution_count": 44,
     "metadata": {},
     "output_type": "execute_result"
    }
   ],
   "source": [
    "y"
   ]
  },
  {
   "cell_type": "code",
   "execution_count": 45,
   "id": "9f48b41c",
   "metadata": {},
   "outputs": [],
   "source": [
    "t1 = (10)"
   ]
  },
  {
   "cell_type": "code",
   "execution_count": 46,
   "id": "7d8ff933",
   "metadata": {},
   "outputs": [
    {
     "data": {
      "text/plain": [
       "10"
      ]
     },
     "execution_count": 46,
     "metadata": {},
     "output_type": "execute_result"
    }
   ],
   "source": [
    "t1"
   ]
  },
  {
   "cell_type": "code",
   "execution_count": 47,
   "id": "edcabeca",
   "metadata": {},
   "outputs": [],
   "source": [
    "t2 = (10,20)"
   ]
  },
  {
   "cell_type": "code",
   "execution_count": 48,
   "id": "591bf9d7",
   "metadata": {},
   "outputs": [
    {
     "data": {
      "text/plain": [
       "(10, 20)"
      ]
     },
     "execution_count": 48,
     "metadata": {},
     "output_type": "execute_result"
    }
   ],
   "source": [
    "t2"
   ]
  },
  {
   "cell_type": "code",
   "execution_count": 49,
   "id": "2a1105d2",
   "metadata": {},
   "outputs": [
    {
     "data": {
      "text/plain": [
       "10"
      ]
     },
     "execution_count": 49,
     "metadata": {},
     "output_type": "execute_result"
    }
   ],
   "source": [
    "t2[0]"
   ]
  },
  {
   "cell_type": "code",
   "execution_count": 50,
   "id": "a17471c0",
   "metadata": {},
   "outputs": [
    {
     "data": {
      "text/plain": [
       "20"
      ]
     },
     "execution_count": 50,
     "metadata": {},
     "output_type": "execute_result"
    }
   ],
   "source": [
    "t2[1]"
   ]
  },
  {
   "cell_type": "code",
   "execution_count": 51,
   "id": "792be717",
   "metadata": {},
   "outputs": [],
   "source": [
    "a,b = t2"
   ]
  },
  {
   "cell_type": "code",
   "execution_count": 52,
   "id": "7bb09a6b",
   "metadata": {},
   "outputs": [
    {
     "data": {
      "text/plain": [
       "10"
      ]
     },
     "execution_count": 52,
     "metadata": {},
     "output_type": "execute_result"
    }
   ],
   "source": [
    "a"
   ]
  },
  {
   "cell_type": "code",
   "execution_count": 53,
   "id": "254482bf",
   "metadata": {},
   "outputs": [],
   "source": [
    "t3 = (10,)"
   ]
  },
  {
   "cell_type": "code",
   "execution_count": 54,
   "id": "bd476150",
   "metadata": {},
   "outputs": [
    {
     "data": {
      "text/plain": [
       "(10,)"
      ]
     },
     "execution_count": 54,
     "metadata": {},
     "output_type": "execute_result"
    }
   ],
   "source": [
    "t3"
   ]
  },
  {
   "cell_type": "code",
   "execution_count": 55,
   "id": "14e6d380",
   "metadata": {},
   "outputs": [
    {
     "data": {
      "text/plain": [
       "['__new__',\n",
       " '__repr__',\n",
       " '__hash__',\n",
       " '__getattribute__',\n",
       " '__lt__',\n",
       " '__le__',\n",
       " '__eq__',\n",
       " '__ne__',\n",
       " '__gt__',\n",
       " '__ge__',\n",
       " '__iter__',\n",
       " '__len__',\n",
       " '__getitem__',\n",
       " '__add__',\n",
       " '__mul__',\n",
       " '__rmul__',\n",
       " '__contains__',\n",
       " '__getnewargs__',\n",
       " 'index',\n",
       " 'count',\n",
       " '__class_getitem__',\n",
       " '__doc__',\n",
       " '__str__',\n",
       " '__setattr__',\n",
       " '__delattr__',\n",
       " '__init__',\n",
       " '__reduce_ex__',\n",
       " '__reduce__',\n",
       " '__subclasshook__',\n",
       " '__init_subclass__',\n",
       " '__format__',\n",
       " '__sizeof__',\n",
       " '__dir__',\n",
       " '__class__']"
      ]
     },
     "execution_count": 55,
     "metadata": {},
     "output_type": "execute_result"
    }
   ],
   "source": [
    "t3.__dir__()"
   ]
  },
  {
   "cell_type": "code",
   "execution_count": 56,
   "id": "906718ca",
   "metadata": {},
   "outputs": [
    {
     "data": {
      "text/plain": [
       "(10, 20)"
      ]
     },
     "execution_count": 56,
     "metadata": {},
     "output_type": "execute_result"
    }
   ],
   "source": [
    "t2"
   ]
  },
  {
   "cell_type": "code",
   "execution_count": 57,
   "id": "4fd153b7",
   "metadata": {},
   "outputs": [
    {
     "ename": "TypeError",
     "evalue": "'tuple' object does not support item assignment",
     "output_type": "error",
     "traceback": [
      "\u001b[0;31m---------------------------------------------------------------------------\u001b[0m",
      "\u001b[0;31mTypeError\u001b[0m                                 Traceback (most recent call last)",
      "Input \u001b[0;32mIn [57]\u001b[0m, in \u001b[0;36m<cell line: 1>\u001b[0;34m()\u001b[0m\n\u001b[0;32m----> 1\u001b[0m t2[\u001b[38;5;241m0\u001b[39m] \u001b[38;5;241m=\u001b[39m \u001b[38;5;241m100\u001b[39m\n",
      "\u001b[0;31mTypeError\u001b[0m: 'tuple' object does not support item assignment"
     ]
    }
   ],
   "source": [
    "t2[0] = 100"
   ]
  },
  {
   "cell_type": "code",
   "execution_count": 58,
   "id": "e35812fc",
   "metadata": {},
   "outputs": [
    {
     "data": {
      "text/plain": [
       "[10, 20]"
      ]
     },
     "execution_count": 58,
     "metadata": {},
     "output_type": "execute_result"
    }
   ],
   "source": [
    "list(t2)"
   ]
  },
  {
   "cell_type": "code",
   "execution_count": 61,
   "id": "79827a8c",
   "metadata": {},
   "outputs": [],
   "source": [
    "# Your turn!\n",
    "def swap(t):\n",
    "    # way 1\n",
    "    # t2 = (t[1],t[0])\n",
    "    # way 2\n",
    "    a,b = t\n",
    "    return (b,a)\n",
    "    \n",
    "def sort(t):\n",
    "    if t[0] > t[1]:\n",
    "        return (t[1],t[0])\n",
    "    else:\n",
    "        return t\n"
   ]
  },
  {
   "cell_type": "code",
   "execution_count": 62,
   "id": "9bebc36a",
   "metadata": {},
   "outputs": [
    {
     "data": {
      "text/plain": [
       "(4, 3)"
      ]
     },
     "execution_count": 62,
     "metadata": {},
     "output_type": "execute_result"
    }
   ],
   "source": [
    "swap((3,4))"
   ]
  },
  {
   "cell_type": "code",
   "execution_count": 77,
   "id": "7e665c48",
   "metadata": {},
   "outputs": [
    {
     "data": {
      "text/plain": [
       "(4, 13)"
      ]
     },
     "execution_count": 77,
     "metadata": {},
     "output_type": "execute_result"
    }
   ],
   "source": [
    "sort((13,4))"
   ]
  },
  {
   "cell_type": "code",
   "execution_count": 64,
   "id": "126ad4f7",
   "metadata": {},
   "outputs": [],
   "source": [
    "s = \"Hello\""
   ]
  },
  {
   "cell_type": "code",
   "execution_count": 65,
   "id": "5f75aff8",
   "metadata": {},
   "outputs": [
    {
     "ename": "TypeError",
     "evalue": "'str' object does not support item assignment",
     "output_type": "error",
     "traceback": [
      "\u001b[0;31m---------------------------------------------------------------------------\u001b[0m",
      "\u001b[0;31mTypeError\u001b[0m                                 Traceback (most recent call last)",
      "Input \u001b[0;32mIn [65]\u001b[0m, in \u001b[0;36m<cell line: 1>\u001b[0;34m()\u001b[0m\n\u001b[0;32m----> 1\u001b[0m s[\u001b[38;5;241m0\u001b[39m] \u001b[38;5;241m=\u001b[39m \u001b[38;5;124m\"\u001b[39m\u001b[38;5;124mX\u001b[39m\u001b[38;5;124m\"\u001b[39m\n",
      "\u001b[0;31mTypeError\u001b[0m: 'str' object does not support item assignment"
     ]
    }
   ],
   "source": [
    "s[0] = \"X\""
   ]
  },
  {
   "cell_type": "code",
   "execution_count": 66,
   "id": "860dfbc1",
   "metadata": {},
   "outputs": [],
   "source": [
    "t = s"
   ]
  },
  {
   "cell_type": "code",
   "execution_count": 67,
   "id": "30f384cd",
   "metadata": {},
   "outputs": [],
   "source": [
    "s = \"h\""
   ]
  },
  {
   "cell_type": "code",
   "execution_count": 68,
   "id": "0f161f84",
   "metadata": {},
   "outputs": [
    {
     "data": {
      "text/plain": [
       "'Hello'"
      ]
     },
     "execution_count": 68,
     "metadata": {},
     "output_type": "execute_result"
    }
   ],
   "source": [
    "t"
   ]
  },
  {
   "cell_type": "code",
   "execution_count": 69,
   "id": "2ea883cd",
   "metadata": {},
   "outputs": [],
   "source": [
    "x = [2,3,4,5]"
   ]
  },
  {
   "cell_type": "code",
   "execution_count": 70,
   "id": "d4f2c561",
   "metadata": {},
   "outputs": [],
   "source": [
    "del x[2]"
   ]
  },
  {
   "cell_type": "code",
   "execution_count": 71,
   "id": "a17f37f4",
   "metadata": {},
   "outputs": [
    {
     "data": {
      "text/plain": [
       "[2, 3, 5]"
      ]
     },
     "execution_count": 71,
     "metadata": {},
     "output_type": "execute_result"
    }
   ],
   "source": [
    "x\n"
   ]
  },
  {
   "cell_type": "code",
   "execution_count": 72,
   "id": "97c806a8",
   "metadata": {},
   "outputs": [],
   "source": [
    "del x[0]"
   ]
  },
  {
   "cell_type": "code",
   "execution_count": 73,
   "id": "db6cf9b2",
   "metadata": {},
   "outputs": [
    {
     "data": {
      "text/plain": [
       "[3, 5]"
      ]
     },
     "execution_count": 73,
     "metadata": {},
     "output_type": "execute_result"
    }
   ],
   "source": [
    "x\n"
   ]
  },
  {
   "cell_type": "code",
   "execution_count": 74,
   "id": "518605de",
   "metadata": {},
   "outputs": [],
   "source": [
    "primes = [1,2,3,4,5]"
   ]
  },
  {
   "cell_type": "code",
   "execution_count": 75,
   "id": "260d1042",
   "metadata": {},
   "outputs": [],
   "source": [
    "del primes[1]"
   ]
  },
  {
   "cell_type": "code",
   "execution_count": 76,
   "id": "33a1a2bb",
   "metadata": {},
   "outputs": [
    {
     "data": {
      "text/plain": [
       "[1, 3, 4, 5]"
      ]
     },
     "execution_count": 76,
     "metadata": {},
     "output_type": "execute_result"
    }
   ],
   "source": [
    "primes\n"
   ]
  },
  {
   "cell_type": "code",
   "execution_count": null,
   "id": "a7221790",
   "metadata": {},
   "outputs": [],
   "source": []
  }
 ],
 "metadata": {
  "kernelspec": {
   "display_name": "Python 3",
   "language": "python",
   "name": "python3"
  },
  "language_info": {
   "codemirror_mode": {
    "name": "ipython",
    "version": 3
   },
   "file_extension": ".py",
   "mimetype": "text/x-python",
   "name": "python",
   "nbconvert_exporter": "python",
   "pygments_lexer": "ipython3",
   "version": "3.10.9"
  }
 },
 "nbformat": 4,
 "nbformat_minor": 5
}
