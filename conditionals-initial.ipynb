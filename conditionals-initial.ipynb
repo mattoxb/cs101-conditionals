{
 "cells": [
  {
   "cell_type": "markdown",
   "id": "cf21ce0e",
   "metadata": {},
   "source": [
    "# CS 101 -- Conditionals\n",
    "\n",
    "Using Booleans to make decisions!"
   ]
  },
  {
   "cell_type": "markdown",
   "id": "5019082f",
   "metadata": {},
   "source": [
    "## True, False, and bool\n",
    "look at the `type`"
   ]
  },
  {
   "cell_type": "code",
   "execution_count": null,
   "id": "4fa9e25b",
   "metadata": {},
   "outputs": [],
   "source": [
    "True"
   ]
  },
  {
   "cell_type": "code",
   "execution_count": null,
   "id": "d1fae145",
   "metadata": {},
   "outputs": [],
   "source": [
    "False"
   ]
  },
  {
   "cell_type": "code",
   "execution_count": null,
   "id": "86631c9d",
   "metadata": {},
   "outputs": [],
   "source": [
    "type(True)"
   ]
  },
  {
   "cell_type": "code",
   "execution_count": null,
   "id": "2b8a603e",
   "metadata": {},
   "outputs": [],
   "source": [
    "type([1,3,4])"
   ]
  },
  {
   "cell_type": "code",
   "execution_count": null,
   "id": "37e7ff8f",
   "metadata": {},
   "outputs": [],
   "source": [
    "3 > 20"
   ]
  },
  {
   "cell_type": "markdown",
   "id": "a9da65bd",
   "metadata": {},
   "source": [
    "### A Function to Look at"
   ]
  },
  {
   "cell_type": "code",
   "execution_count": null,
   "id": "d21d6f58",
   "metadata": {},
   "outputs": [],
   "source": [
    "def mymax(a,b):\n",
    "    if a > b:\n",
    "        return a\n",
    "    elif a < b:\n",
    "        return b"
   ]
  },
  {
   "cell_type": "code",
   "execution_count": null,
   "id": "18d30f84",
   "metadata": {},
   "outputs": [],
   "source": [
    "mymax(10,20)"
   ]
  },
  {
   "cell_type": "code",
   "execution_count": null,
   "id": "2c232241",
   "metadata": {},
   "outputs": [],
   "source": [
    "mymax(20,3)"
   ]
  },
  {
   "cell_type": "code",
   "execution_count": null,
   "id": "6941b089",
   "metadata": {},
   "outputs": [],
   "source": [
    "type(mymax(10,10))"
   ]
  },
  {
   "cell_type": "code",
   "execution_count": null,
   "id": "2eb21e90",
   "metadata": {},
   "outputs": [],
   "source": [
    "10 > mymax(10,10)"
   ]
  },
  {
   "cell_type": "code",
   "execution_count": null,
   "id": "22b74f42",
   "metadata": {},
   "outputs": [],
   "source": [
    "def mymax(a,b):\n",
    "    if a > b:\n",
    "        return a\n",
    "    elif a == b:\n",
    "        return a + b\n",
    "    else:\n",
    "        return b"
   ]
  },
  {
   "cell_type": "markdown",
   "id": "2ddd9953",
   "metadata": {},
   "source": [
    "### = is not ==, but Python's got your back!"
   ]
  },
  {
   "cell_type": "code",
   "execution_count": null,
   "id": "85261e32",
   "metadata": {},
   "outputs": [],
   "source": [
    "x = 10"
   ]
  },
  {
   "cell_type": "code",
   "execution_count": null,
   "id": "233317f2",
   "metadata": {},
   "outputs": [],
   "source": [
    "x == 10"
   ]
  },
  {
   "cell_type": "code",
   "execution_count": null,
   "id": "f55a92df",
   "metadata": {},
   "outputs": [],
   "source": [
    "if x = 10:\n",
    "    print(\"It is!\")"
   ]
  },
  {
   "cell_type": "code",
   "execution_count": null,
   "id": "62fa398a",
   "metadata": {},
   "outputs": [],
   "source": []
  },
  {
   "cell_type": "markdown",
   "id": "cfd2b692",
   "metadata": {},
   "source": [
    "### Other things can be booleans!\n",
    "- Integers\n",
    "- Strings"
   ]
  },
  {
   "cell_type": "code",
   "execution_count": null,
   "id": "07d5c719",
   "metadata": {},
   "outputs": [],
   "source": [
    "True and False"
   ]
  },
  {
   "cell_type": "code",
   "execution_count": null,
   "id": "a5855a3d",
   "metadata": {},
   "outputs": [],
   "source": [
    "0 and 10"
   ]
  },
  {
   "cell_type": "code",
   "execution_count": null,
   "id": "d18ad7d2",
   "metadata": {},
   "outputs": [],
   "source": [
    "14 and 10"
   ]
  },
  {
   "cell_type": "markdown",
   "id": "2da3e4b3",
   "metadata": {},
   "source": [
    "### The equations for and with 'fake' booleans\n",
    "- `y and x == x`, if y is \"truthy\"\n",
    "- `y and x == y`, if y is \"falsy\"\n"
   ]
  },
  {
   "cell_type": "code",
   "execution_count": null,
   "id": "21af7f42",
   "metadata": {},
   "outputs": [],
   "source": [
    "0 or \"Hello\""
   ]
  },
  {
   "cell_type": "code",
   "execution_count": null,
   "id": "b51bf24c",
   "metadata": {},
   "outputs": [],
   "source": [
    "\"\" or \"What?\""
   ]
  },
  {
   "cell_type": "markdown",
   "id": "ccd6b7fa",
   "metadata": {},
   "source": [
    "### Short Circuits!\n",
    "- Sort of like `if` inside an expression."
   ]
  },
  {
   "cell_type": "code",
   "execution_count": null,
   "id": "0595d39a",
   "metadata": {},
   "outputs": [],
   "source": [
    "0 and print(\"Hello\")"
   ]
  },
  {
   "cell_type": "code",
   "execution_count": null,
   "id": "5bc6e118",
   "metadata": {},
   "outputs": [],
   "source": [
    "1 and print(\"Hello\")"
   ]
  },
  {
   "cell_type": "code",
   "execution_count": null,
   "id": "cd5b83e5",
   "metadata": {},
   "outputs": [],
   "source": [
    "n = 15\n",
    "print((n > 10 and \"hi\") or \"there\")"
   ]
  },
  {
   "cell_type": "markdown",
   "id": "8528b9a5",
   "metadata": {},
   "source": [
    "### Activity: write a safe(ish) division function \n",
    "- compute a/b; but if b is zero, return zero.\n",
    "- do it using `if` and try using short circuit evaluation."
   ]
  },
  {
   "cell_type": "code",
   "execution_count": null,
   "id": "af60cfd1",
   "metadata": {},
   "outputs": [],
   "source": [
    "def divide(a,b):\n",
    "    return a/b"
   ]
  },
  {
   "cell_type": "code",
   "execution_count": null,
   "id": "f9e96b05",
   "metadata": {},
   "outputs": [],
   "source": [
    "divide(10,0)"
   ]
  },
  {
   "cell_type": "code",
   "execution_count": null,
   "id": "fc1be482",
   "metadata": {},
   "outputs": [],
   "source": [
    "def sdiv1(a,b):\n",
    "    \"Returns a/b, but 0 if b==0\"\n",
    "    if b != 0:\n",
    "        return a/b\n",
    "    else:\n",
    "        return 0"
   ]
  },
  {
   "cell_type": "code",
   "execution_count": null,
   "id": "98fb69fe",
   "metadata": {},
   "outputs": [],
   "source": [
    "def sdiv2(a,b):\n",
    "    \"Returns a/b, but 0 if b==0\"\n",
    "    return (b != 0 and a/b) or 0"
   ]
  },
  {
   "cell_type": "code",
   "execution_count": null,
   "id": "b5dd0913",
   "metadata": {},
   "outputs": [],
   "source": [
    "if x:\n",
    "    return True\n",
    "else:\n",
    "    return False\n",
    "\n",
    "return x"
   ]
  },
  {
   "cell_type": "markdown",
   "id": "232a2a89",
   "metadata": {},
   "source": [
    "### String Operations\n",
    "- replace\n",
    "- find\n",
    "- strip"
   ]
  },
  {
   "cell_type": "markdown",
   "id": "d4b34213",
   "metadata": {},
   "source": [
    "### String Formatting\n",
    "- f strings make it easy to embed stuff\n",
    "- Format codes can control padding, etc."
   ]
  },
  {
   "cell_type": "code",
   "execution_count": null,
   "id": "97e793e7",
   "metadata": {},
   "outputs": [],
   "source": [
    "f\"This is my format string.\""
   ]
  },
  {
   "cell_type": "code",
   "execution_count": null,
   "id": "f1221838",
   "metadata": {},
   "outputs": [],
   "source": [
    "n = 10\n",
    "f\"The number n is {n}.\""
   ]
  },
  {
   "cell_type": "code",
   "execution_count": null,
   "id": "d0f9a8a8",
   "metadata": {},
   "outputs": [],
   "source": [
    "f\"--- {n:3} ---\""
   ]
  },
  {
   "cell_type": "code",
   "execution_count": null,
   "id": "416eb6d0",
   "metadata": {},
   "outputs": [],
   "source": [
    "f\"--- {n + 10:03} ---\""
   ]
  },
  {
   "cell_type": "markdown",
   "id": "aa89e253",
   "metadata": {},
   "source": [
    "## Activity: write the rock, scissors, paper game!\n",
    "\n",
    "Ask the user for their choice, have the computer make a choice and announce who wins.\n",
    "\n",
    "Too easy?  Try this if you have time:\n",
    "- Make the computer cheat.\n",
    "- Make a two player version."
   ]
  },
  {
   "cell_type": "code",
   "execution_count": null,
   "id": "d0d6dc9f",
   "metadata": {},
   "outputs": [],
   "source": [
    "import random\n",
    "random.choice(['Rock','Scissors','Paper'])\n"
   ]
  },
  {
   "cell_type": "code",
   "execution_count": null,
   "id": "7da6626f",
   "metadata": {},
   "outputs": [],
   "source": [
    "def play():\n",
    "    computer = random.choice(['Rock','Scissors','Paper'])\n",
    "    user = input('What is your choice?')\n",
    "    print(\"Computer picked\", computer)\n",
    "    if computer == 'Rock' and user == 'Scissors' or \\\n",
    "       computer == 'Paper' and user == 'Rock' or \\\n",
    "       computer == 'Scissors' and user == 'Paper':\n",
    "        print(\"Ha!  I win!\")\n",
    "    elif user == computer:\n",
    "        print(\"Oh, we tied.\")\n",
    "    else:\n",
    "        print(\"You win.  You must have cheated!\")\n",
    "        "
   ]
  },
  {
   "cell_type": "code",
   "execution_count": null,
   "id": "fb7e50c6",
   "metadata": {},
   "outputs": [],
   "source": [
    "play()"
   ]
  },
  {
   "cell_type": "code",
   "execution_count": null,
   "id": "1a6724be",
   "metadata": {},
   "outputs": [],
   "source": []
  }
 ],
 "metadata": {
  "kernelspec": {
   "display_name": "Python 3",
   "language": "python",
   "name": "python3"
  },
  "language_info": {
   "codemirror_mode": {
    "name": "ipython",
    "version": 3
   },
   "file_extension": ".py",
   "mimetype": "text/x-python",
   "name": "python",
   "nbconvert_exporter": "python",
   "pygments_lexer": "ipython3",
   "version": "3.10.9"
  }
 },
 "nbformat": 4,
 "nbformat_minor": 5
}
