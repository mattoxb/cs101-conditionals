{
 "cells": [
  {
   "cell_type": "markdown",
   "id": "5dae2107",
   "metadata": {},
   "source": [
    "# Randomness in NumPy!\n",
    "\n",
    "## Pro tip\n",
    "\n",
    "Always check your production environment before you deploy.  Otherwise you might, as a hypothetical example, end up trying to give a presentation and find out the libraries you need aren't installed."
   ]
  },
  {
   "cell_type": "markdown",
   "id": "8d1df60c",
   "metadata": {},
   "source": [
    "## But First!!  Let's retry that `rosette` function...."
   ]
  },
  {
   "cell_type": "code",
   "execution_count": null,
   "id": "ba3b752d",
   "metadata": {},
   "outputs": [],
   "source": [
    "import numpy as np\n",
    "import matplotlib.pyplot as plt"
   ]
  },
  {
   "cell_type": "markdown",
   "id": "bc918d57",
   "metadata": {},
   "source": [
    "The thing to remember about `plt.plot` is that the first argument is a vector of `x` coordinates and the second argument is a vector of `y` coordinates."
   ]
  },
  {
   "cell_type": "code",
   "execution_count": null,
   "id": "c6ac0f1f",
   "metadata": {},
   "outputs": [],
   "source": [
    "plt.plot(np.array([0,0,1,1]),np.array([0,1,1,0]))"
   ]
  },
  {
   "cell_type": "markdown",
   "id": "4c3c33e2",
   "metadata": {},
   "source": [
    "Note that there is no final line!  We need to specify the start point again if we want a proper square.\n"
   ]
  },
  {
   "cell_type": "code",
   "execution_count": null,
   "id": "a7a2f79f",
   "metadata": {},
   "outputs": [],
   "source": [
    "a = np.array([0,5])\n"
   ]
  },
  {
   "cell_type": "code",
   "execution_count": null,
   "id": "a7f53d29",
   "metadata": {},
   "outputs": [],
   "source": [
    "a.repeat(5)"
   ]
  },
  {
   "cell_type": "code",
   "execution_count": null,
   "id": "2bb371bb",
   "metadata": {},
   "outputs": [],
   "source": [
    "a = np.array([[1,5],[2,10]])\n",
    "plt.plot(a)b"
   ]
  },
  {
   "cell_type": "code",
   "execution_count": null,
   "id": "036d2c9b",
   "metadata": {},
   "outputs": [],
   "source": [
    "for i in np.linspace(0,2*np.pi,10):\n",
    "    for j in np.linspace(0,2*np.pi,10):\n",
    "        plt.plot([np.cos(i),np.cos(j)],[np.sin(i),np.sin(j)])"
   ]
  },
  {
   "cell_type": "markdown",
   "id": "6e04c56c",
   "metadata": {},
   "source": [
    "## Randomness\n",
    "\n",
    "Why do we want random numbers?"
   ]
  },
  {
   "cell_type": "code",
   "execution_count": null,
   "id": "704e9ef7",
   "metadata": {},
   "outputs": [],
   "source": [
    "import numpy.random as rand"
   ]
  },
  {
   "cell_type": "code",
   "execution_count": null,
   "id": "e53267ee",
   "metadata": {},
   "outputs": [],
   "source": [
    "rand.randint(1,100,3)"
   ]
  },
  {
   "cell_type": "markdown",
   "id": "8fedb7dd",
   "metadata": {},
   "source": [
    "## Reminder of a couple of utilities"
   ]
  },
  {
   "cell_type": "code",
   "execution_count": null,
   "id": "e520e4d0",
   "metadata": {},
   "outputs": [],
   "source": [
    "\"4,20\".split(\",\")"
   ]
  },
  {
   "cell_type": "code",
   "execution_count": null,
   "id": "876a7a2a",
   "metadata": {},
   "outputs": [],
   "source": [
    "sum(np.array([2,5,9]))"
   ]
  },
  {
   "cell_type": "markdown",
   "id": "f3c4037b",
   "metadata": {},
   "source": [
    "## Try this!\n",
    "\n",
    "Anyone play tabletop games like Dungeons and Dragons?  Make a dice rolling function.\n",
    "\n",
    "Call `roll(\"3d6\")` to roll 3 6-sided dices and return the sum."
   ]
  },
  {
   "cell_type": "markdown",
   "id": "0f3ab2b8",
   "metadata": {},
   "source": [
    "## Shuffle and Choice\n",
    "\n",
    "- `shuffle` randomizes the order\n",
    "- `choice` picks a random element.\n",
    "\n",
    "What if you wanted to pick 5 random elements and be sure that nothing got picked twice?\n",
    "\n",
    "Write a function `pick(x,n)` that picks $n$ elements from $x$ \"without repetition\"."
   ]
  },
  {
   "cell_type": "markdown",
   "id": "e5d260bd",
   "metadata": {},
   "source": [
    "## Distributions\n",
    "\n",
    "If every number is equally likely, you get a *uniform* distribution."
   ]
  },
  {
   "cell_type": "code",
   "execution_count": null,
   "id": "08fbdc6d",
   "metadata": {},
   "outputs": [],
   "source": [
    "numbers = rand.uniform( size=1000 )\n",
    "plt.plot( numbers,'bo' )"
   ]
  },
  {
   "cell_type": "code",
   "execution_count": null,
   "id": "b01f9e97",
   "metadata": {},
   "outputs": [],
   "source": [
    "n1 = rand.uniform(size=1000)\n",
    "n2 = rand.uniform(size=1000)\n",
    "n3 = rand.uniform(size=1000)\n",
    "n4 = rand.uniform(size=1000)\n",
    "n5 = rand.uniform(size=1000)\n",
    "plt.plot(n1 + n2 + n3 + n4 + n5, 'bo')"
   ]
  },
  {
   "cell_type": "markdown",
   "id": "583f4581",
   "metadata": {},
   "source": [
    "# When probabilities are summed...\n",
    "... you get a \"normal\" distribution.  *Statitistics disclaimer: this is simplified a bit...*"
   ]
  },
  {
   "cell_type": "code",
   "execution_count": null,
   "id": "e0770eb1",
   "metadata": {},
   "outputs": [],
   "source": [
    "numbers = rand.normal( size=1000 )\n",
    "plt.plot( numbers,'bo' )"
   ]
  },
  {
   "cell_type": "markdown",
   "id": "cf1045f3",
   "metadata": {},
   "source": [
    "# Histograms\n",
    " - Examples:\n",
    "   - Show uniform histogram\n",
    "   - Take histogram of 3d6 - why doesn't it work?"
   ]
  },
  {
   "cell_type": "markdown",
   "id": "8f3f3b99",
   "metadata": {},
   "source": [
    "## If time...\n",
    "\n",
    "Let's do a random fractal!"
   ]
  }
 ],
 "metadata": {
  "kernelspec": {
   "display_name": "Python 3",
   "language": "python",
   "name": "python3"
  },
  "language_info": {
   "codemirror_mode": {
    "name": "ipython",
    "version": 3
   },
   "file_extension": ".py",
   "mimetype": "text/x-python",
   "name": "python",
   "nbconvert_exporter": "python",
   "pygments_lexer": "ipython3",
   "version": "3.10.7"
  }
 },
 "nbformat": 4,
 "nbformat_minor": 5
}
