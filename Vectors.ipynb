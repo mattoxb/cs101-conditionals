{
 "cells": [
  {
   "cell_type": "markdown",
   "id": "0db8b434",
   "metadata": {},
   "source": [
    "# Vectors in `numpy`\n",
    "\n",
    "<div>\n",
    "<img src=\"numpy.png\" width=\"500\"/>\n",
    "</div>\n",
    "\n",
    "## Pro Tip\n",
    "\n",
    "When you have a collection of items a computer will sometimes give you two ways to deal with it: piece by piece or as a collection.  Always prefer the \"as a collection\" method if you have the choice."
   ]
  },
  {
   "cell_type": "markdown",
   "id": "5c72c4c0",
   "metadata": {},
   "source": [
    "## Ug, another data type?  WHY???\n",
    "\n",
    "Programming language people love data types.  Scientitst who use programming languages do to.  Why?\n",
    "\n",
    "- A well chosen data type makes it easier to ask the questions we want to ask about our data.\n",
    "- A well chosen data type makes it easier to write programs to work with our data.\n",
    "\n",
    "## Okay, fine.  So tell me about vectors....\n",
    "\n",
    "A vector is a `numpy` data type that holds a collection of values, kind of like a Python list.\n",
    "Here's what's different:\n",
    "- An individal =vector= can only hold one kind of data.\n",
    "- This greatly reduces our flexibility, but gives us a major advantage in return: speed.\n",
    "- Why do you think this is the case?"
   ]
  },
  {
   "cell_type": "code",
   "execution_count": 17,
   "id": "b61b2c19",
   "metadata": {},
   "outputs": [],
   "source": [
    "import numpy as np"
   ]
  },
  {
   "cell_type": "code",
   "execution_count": 44,
   "id": "588ad60d",
   "metadata": {},
   "outputs": [],
   "source": [
    "a = np.array([1,2,4,6,9])"
   ]
  },
  {
   "cell_type": "code",
   "execution_count": 45,
   "id": "6d1267a3",
   "metadata": {},
   "outputs": [
    {
     "data": {
      "text/plain": [
       "array([1, 2, 4, 6, 9])"
      ]
     },
     "execution_count": 45,
     "metadata": {},
     "output_type": "execute_result"
    }
   ],
   "source": [
    "a"
   ]
  },
  {
   "cell_type": "code",
   "execution_count": 46,
   "id": "1d169c24",
   "metadata": {},
   "outputs": [
    {
     "data": {
      "text/plain": [
       "numpy.ndarray"
      ]
     },
     "execution_count": 46,
     "metadata": {},
     "output_type": "execute_result"
    }
   ],
   "source": [
    "type(a)"
   ]
  },
  {
   "cell_type": "code",
   "execution_count": 47,
   "id": "98f23c78",
   "metadata": {},
   "outputs": [
    {
     "data": {
      "text/plain": [
       "dtype('int64')"
      ]
     },
     "execution_count": 47,
     "metadata": {},
     "output_type": "execute_result"
    }
   ],
   "source": [
    "a.dtype"
   ]
  },
  {
   "cell_type": "code",
   "execution_count": 48,
   "id": "97e3021c",
   "metadata": {},
   "outputs": [
    {
     "data": {
      "text/plain": [
       "1"
      ]
     },
     "execution_count": 48,
     "metadata": {},
     "output_type": "execute_result"
    }
   ],
   "source": [
    "a[0]"
   ]
  },
  {
   "cell_type": "code",
   "execution_count": 49,
   "id": "706960c9",
   "metadata": {},
   "outputs": [
    {
     "data": {
      "text/plain": [
       "array([ 2,  4,  8, 12, 18])"
      ]
     },
     "execution_count": 49,
     "metadata": {},
     "output_type": "execute_result"
    }
   ],
   "source": [
    "a + a"
   ]
  },
  {
   "cell_type": "code",
   "execution_count": 27,
   "id": "595918bc",
   "metadata": {},
   "outputs": [
    {
     "data": {
      "text/plain": [
       "array([ 2,  4,  6,  8, 10])"
      ]
     },
     "execution_count": 27,
     "metadata": {},
     "output_type": "execute_result"
    }
   ],
   "source": [
    "a + a"
   ]
  },
  {
   "cell_type": "code",
   "execution_count": 28,
   "id": "3b158f03",
   "metadata": {},
   "outputs": [
    {
     "data": {
      "text/plain": [
       "array([   1,    4,   27,  256, 3125])"
      ]
     },
     "execution_count": 28,
     "metadata": {},
     "output_type": "execute_result"
    }
   ],
   "source": [
    "a ** a"
   ]
  },
  {
   "cell_type": "code",
   "execution_count": 31,
   "id": "5cd6881e",
   "metadata": {},
   "outputs": [
    {
     "data": {
      "text/plain": [
       "['__new__',\n",
       " '__repr__',\n",
       " '__str__',\n",
       " '__lt__',\n",
       " '__le__',\n",
       " '__eq__',\n",
       " '__ne__',\n",
       " '__gt__',\n",
       " '__ge__',\n",
       " '__iter__',\n",
       " '__add__',\n",
       " '__radd__',\n",
       " '__sub__',\n",
       " '__rsub__',\n",
       " '__mul__',\n",
       " '__rmul__',\n",
       " '__mod__',\n",
       " '__rmod__',\n",
       " '__divmod__',\n",
       " '__rdivmod__',\n",
       " '__pow__',\n",
       " '__rpow__',\n",
       " '__neg__',\n",
       " '__pos__',\n",
       " '__abs__',\n",
       " '__bool__',\n",
       " '__invert__',\n",
       " '__lshift__',\n",
       " '__rlshift__',\n",
       " '__rshift__',\n",
       " '__rrshift__',\n",
       " '__and__',\n",
       " '__rand__',\n",
       " '__xor__',\n",
       " '__rxor__',\n",
       " '__or__',\n",
       " '__ror__',\n",
       " '__int__',\n",
       " '__float__',\n",
       " '__iadd__',\n",
       " '__isub__',\n",
       " '__imul__',\n",
       " '__imod__',\n",
       " '__ipow__',\n",
       " '__ilshift__',\n",
       " '__irshift__',\n",
       " '__iand__',\n",
       " '__ixor__',\n",
       " '__ior__',\n",
       " '__floordiv__',\n",
       " '__rfloordiv__',\n",
       " '__truediv__',\n",
       " '__rtruediv__',\n",
       " '__ifloordiv__',\n",
       " '__itruediv__',\n",
       " '__index__',\n",
       " '__matmul__',\n",
       " '__rmatmul__',\n",
       " '__imatmul__',\n",
       " '__len__',\n",
       " '__getitem__',\n",
       " '__setitem__',\n",
       " '__delitem__',\n",
       " '__contains__',\n",
       " '__array__',\n",
       " '__array_prepare__',\n",
       " '__array_finalize__',\n",
       " '__array_wrap__',\n",
       " '__array_ufunc__',\n",
       " '__array_function__',\n",
       " '__sizeof__',\n",
       " '__copy__',\n",
       " '__deepcopy__',\n",
       " '__reduce__',\n",
       " '__reduce_ex__',\n",
       " '__setstate__',\n",
       " 'dumps',\n",
       " 'dump',\n",
       " '__complex__',\n",
       " '__format__',\n",
       " '__class_getitem__',\n",
       " 'all',\n",
       " 'any',\n",
       " 'argmax',\n",
       " 'argmin',\n",
       " 'argpartition',\n",
       " 'argsort',\n",
       " 'astype',\n",
       " 'byteswap',\n",
       " 'choose',\n",
       " 'clip',\n",
       " 'compress',\n",
       " 'conj',\n",
       " 'conjugate',\n",
       " 'copy',\n",
       " 'cumprod',\n",
       " 'cumsum',\n",
       " 'diagonal',\n",
       " 'dot',\n",
       " 'fill',\n",
       " 'flatten',\n",
       " 'getfield',\n",
       " 'item',\n",
       " 'itemset',\n",
       " 'max',\n",
       " 'mean',\n",
       " 'min',\n",
       " 'newbyteorder',\n",
       " 'nonzero',\n",
       " 'partition',\n",
       " 'prod',\n",
       " 'ptp',\n",
       " 'put',\n",
       " 'ravel',\n",
       " 'repeat',\n",
       " 'reshape',\n",
       " 'resize',\n",
       " 'round',\n",
       " 'searchsorted',\n",
       " 'setfield',\n",
       " 'setflags',\n",
       " 'sort',\n",
       " 'squeeze',\n",
       " 'std',\n",
       " 'sum',\n",
       " 'swapaxes',\n",
       " 'take',\n",
       " 'tobytes',\n",
       " 'tofile',\n",
       " 'tolist',\n",
       " 'tostring',\n",
       " 'trace',\n",
       " 'transpose',\n",
       " 'var',\n",
       " 'view',\n",
       " '__dlpack__',\n",
       " '__dlpack_device__',\n",
       " 'ndim',\n",
       " 'flags',\n",
       " 'shape',\n",
       " 'strides',\n",
       " 'data',\n",
       " 'itemsize',\n",
       " 'size',\n",
       " 'nbytes',\n",
       " 'base',\n",
       " 'dtype',\n",
       " 'real',\n",
       " 'imag',\n",
       " 'flat',\n",
       " 'ctypes',\n",
       " 'T',\n",
       " '__array_interface__',\n",
       " '__array_struct__',\n",
       " '__array_priority__',\n",
       " '__doc__',\n",
       " '__hash__',\n",
       " '__getattribute__',\n",
       " '__setattr__',\n",
       " '__delattr__',\n",
       " '__init__',\n",
       " '__subclasshook__',\n",
       " '__init_subclass__',\n",
       " '__dir__',\n",
       " '__class__']"
      ]
     },
     "execution_count": 31,
     "metadata": {},
     "output_type": "execute_result"
    }
   ],
   "source": [
    "a.__dir__()"
   ]
  },
  {
   "cell_type": "code",
   "execution_count": 61,
   "id": "a2ac3e5a",
   "metadata": {},
   "outputs": [
    {
     "data": {
      "text/plain": [
       "[<matplotlib.lines.Line2D at 0x7f276ea950c0>,\n",
       " <matplotlib.lines.Line2D at 0x7f276ea95120>,\n",
       " <matplotlib.lines.Line2D at 0x7f276ea95240>,\n",
       " <matplotlib.lines.Line2D at 0x7f276ea95360>,\n",
       " <matplotlib.lines.Line2D at 0x7f276ea95480>]"
      ]
     },
     "execution_count": 61,
     "metadata": {},
     "output_type": "execute_result"
    },
    {
     "data": {
      "image/png": "[encoded data removed]",
      "text/plain": [
       "<Figure size 640x480 with 1 Axes>"
      ]
     },
     "metadata": {},
     "output_type": "display_data"
    }
   ],
   "source": [
    "import matplotlib.pyplot as plt\n",
    "\n"
   ]
  },
  {
   "cell_type": "code",
   "execution_count": 66,
   "id": "87dee4cb",
   "metadata": {},
   "outputs": [
    {
     "data": {
      "text/plain": [
       "[<matplotlib.lines.Line2D at 0x7f276e42b790>,\n",
       " <matplotlib.lines.Line2D at 0x7f276e42b820>]"
      ]
     },
     "execution_count": 66,
     "metadata": {},
     "output_type": "execute_result"
    },
    {
     "data": {
      "image/png": "[encoded data removed]",
      "text/plain": [
       "<Figure size 640x480 with 1 Axes>"
      ]
     },
     "metadata": {},
     "output_type": "display_data"
    }
   ],
   "source": [
    "a = np.array([0,1,5,8,9])\n",
    "b = np.array([9,6,3,1,0])\n",
    "c = np.array([6,3,1,4,7])\n",
    "plt.plot(a,b,c)\n"
   ]
  },
  {
   "cell_type": "markdown",
   "id": "41cc0037",
   "metadata": {},
   "source": [
    "# Linear Spaces\n",
    "\n",
    "We can use the `linspace` function to create ranges.\n",
    "- It takes 3 arguments, `begin`, `end`, `count`.\n",
    "- Weirdly, the `end` is included; `range` and friends do not.\n",
    "  - Why do you think they did that?\n"
   ]
  }
 ],
 "metadata": {
  "kernelspec": {
   "display_name": "Python 3",
   "language": "python",
   "name": "python3"
  },
  "language_info": {
   "codemirror_mode": {
    "name": "ipython",
    "version": 3
   },
   "file_extension": ".py",
   "mimetype": "text/x-python",
   "name": "python",
   "nbconvert_exporter": "python",
   "pygments_lexer": "ipython3",
   "version": "3.10.7"
  }
 },
 "nbformat": 4,
 "nbformat_minor": 5
}
