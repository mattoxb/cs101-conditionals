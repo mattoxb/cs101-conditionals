{
 "cells": [
  {
   "cell_type": "markdown",
   "id": "0db8b434",
   "metadata": {},
   "source": [
    "# Vectors in `numpy`\n",
    "\n",
    "<div>\n",
    "<img src=\"numpy.png\" width=\"500\"/>\n",
    "</div>\n",
    "\n",
    "## Pro Tip\n",
    "\n",
    "When you have a collection of items a computer will sometimes give you two ways to deal with it: piece by piece or as a collection.  Always prefer the \"as a collection\" method if you have the choice."
   ]
  },
  {
   "cell_type": "markdown",
   "id": "7ad176c5",
   "metadata": {},
   "source": [
    "# Warmup\n",
    "\n",
    "Suppose we want to use Python lists to represent vectors.  Suppose we want to have a function that takes two Python vectors and adds them together.  Write this function.\n"
   ]
  },
  {
   "cell_type": "code",
   "execution_count": 71,
   "id": "1e9e605b",
   "metadata": {},
   "outputs": [],
   "source": [
    "def addV(a,b):\n",
    "    pass"
   ]
  },
  {
   "cell_type": "markdown",
   "id": "012cbf4b",
   "metadata": {},
   "source": [
    "## Ug, another data type?  WHY???\n",
    "\n",
    "Programming language people love data types.  Scientitst who use programming languages do to.  Why?\n",
    "\n",
    "- A well chosen data type makes it easier to ask the questions we want to ask about our data.\n",
    "- A well chosen data type makes it easier to write programs to work with our data.\n",
    "\n",
    "## Okay, fine.  So tell me about vectors....\n",
    "\n",
    "A vector is a `numpy` data type that holds a collection of values, kind of like a Python list.\n",
    "Here's what's different:\n",
    "- An individal =vector= can only hold one kind of data.\n",
    "- This greatly reduces our flexibility, but gives us a major advantage in return: speed.\n",
    "- Why do you think this is the case?"
   ]
  },
  {
   "cell_type": "code",
   "execution_count": 17,
   "id": "1786013f",
   "metadata": {},
   "outputs": [],
   "source": [
    "import numpy as np"
   ]
  },
  {
   "cell_type": "code",
   "execution_count": null,
   "id": "0efc30d5",
   "metadata": {},
   "outputs": [],
   "source": []
  },
  {
   "cell_type": "code",
   "execution_count": null,
   "id": "de567b1e",
   "metadata": {},
   "outputs": [],
   "source": []
  },
  {
   "cell_type": "code",
   "execution_count": null,
   "id": "a0999a31",
   "metadata": {},
   "outputs": [],
   "source": []
  },
  {
   "cell_type": "code",
   "execution_count": null,
   "id": "ecd7a1c4",
   "metadata": {},
   "outputs": [],
   "source": []
  },
  {
   "cell_type": "markdown",
   "id": "af9901e8",
   "metadata": {},
   "source": [
    "# Linear Spaces\n",
    "\n",
    "We can use the `linspace` function to create ranges.\n",
    "- It takes 3 arguments, `begin`, `end`, `count`.\n",
    "- Weirdly, the `end` is included; `range` and friends do not.\n",
    "  - Why do you think they did that?\n"
   ]
  },
  {
   "cell_type": "code",
   "execution_count": null,
   "id": "e849dccf",
   "metadata": {},
   "outputs": [],
   "source": []
  },
  {
   "cell_type": "code",
   "execution_count": null,
   "id": "b122a7f3",
   "metadata": {},
   "outputs": [],
   "source": []
  },
  {
   "cell_type": "code",
   "execution_count": null,
   "id": "940ca7fd",
   "metadata": {},
   "outputs": [],
   "source": []
  },
  {
   "cell_type": "markdown",
   "id": "a24c86e4",
   "metadata": {},
   "source": [
    "# Plotting\n",
    "\n",
    "Sometimes you want to plot things to the screen."
   ]
  },
  {
   "cell_type": "code",
   "execution_count": 72,
   "id": "362102fc",
   "metadata": {},
   "outputs": [],
   "source": [
    "import matplotlib.pyplot as plt"
   ]
  },
  {
   "cell_type": "code",
   "execution_count": null,
   "id": "57573b53",
   "metadata": {},
   "outputs": [],
   "source": []
  },
  {
   "cell_type": "code",
   "execution_count": null,
   "id": "9c6914a4",
   "metadata": {},
   "outputs": [],
   "source": []
  },
  {
   "cell_type": "code",
   "execution_count": null,
   "id": "14b23e2d",
   "metadata": {},
   "outputs": [],
   "source": []
  },
  {
   "cell_type": "markdown",
   "id": "8f5802fa",
   "metadata": {},
   "source": [
    "# Problem for you!\n",
    "\n",
    "Write a program called `rosette` that takes an integer argument $n$.  This will create $n$ equispaced points on a unit circle and connect each point to every other point (a \"complete graph\").  Use `linspace` and vectors to do this."
   ]
  },
  {
   "cell_type": "code",
   "execution_count": null,
   "id": "c475ce95",
   "metadata": {},
   "outputs": [],
   "source": []
  },
  {
   "cell_type": "code",
   "execution_count": null,
   "id": "3cba526a",
   "metadata": {},
   "outputs": [],
   "source": []
  },
  {
   "cell_type": "code",
   "execution_count": null,
   "id": "6bbbe70a",
   "metadata": {},
   "outputs": [],
   "source": []
  },
  {
   "cell_type": "markdown",
   "id": "cd614170",
   "metadata": {},
   "source": [
    "# Upcoming Deadlines\n",
    "\n",
    "- HW 5 - Due Today\n",
    "- Lesson 12,13 - Due Wednesday"
   ]
  }
 ],
 "metadata": {
  "kernelspec": {
   "display_name": "Python 3",
   "language": "python",
   "name": "python3"
  },
  "language_info": {
   "codemirror_mode": {
    "name": "ipython",
    "version": 3
   },
   "file_extension": ".py",
   "mimetype": "text/x-python",
   "name": "python",
   "nbconvert_exporter": "python",
   "pygments_lexer": "ipython3",
   "version": "3.10.7"
  }
 },
 "nbformat": 4,
 "nbformat_minor": 5
}
